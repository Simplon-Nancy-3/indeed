{
 "cells": [
  {
   "cell_type": "code",
   "execution_count": 72,
   "metadata": {},
   "outputs": [],
   "source": [
    "import pandas as pd\n",
    "import numpy as np\n",
    "from Preprocessing import *\n",
    "from sklearn.feature_extraction.text import CountVectorizer\n",
    "from sklearn.cluster import KMeans\n",
    "from sklearn.model_selection import train_test_split\n",
    "from sklearn.ensemble import RandomForestRegressor\n",
    "from sklearn.ensemble import RandomForestClassifier\n",
    "from sklearn.model_selection import GridSearchCV\n",
    "import seaborn as sns\n",
    "from sklearn.metrics import confusion_matrix\n",
    "import matplotlib.pyplot as plt\n",
    "from sklearn.metrics import classification_report"
   ]
  },
  {
   "cell_type": "code",
   "execution_count": 8,
   "metadata": {},
   "outputs": [],
   "source": [
    "Withcategorie = pd.read_csv('data/rdyforml/Withcategorie.csv')\n",
    "Withdeuxcentdummies = pd.read_csv('data/rdyforml/Withdeuxcentdummies.csv')\n",
    "SalarycategWithcategorie = pd.read_csv('data/rdyforml/SalarycategWithcategorie.csv')\n",
    "SalarycategWithdeuxcentdummies = pd.read_csv('data/rdyforml/SalarycategWithdeuxcentdummies.csv')"
   ]
  },
  {
   "cell_type": "code",
   "execution_count": 9,
   "metadata": {},
   "outputs": [],
   "source": [
    "Withcategorie = Withcategorie.drop(['TypeContrat','Description','Link'],axis=1)\n",
    "Withdeuxcentdummies = Withdeuxcentdummies.drop(['TypeContrat','Description','Link'],axis=1)\n",
    "SalarycategWithcategorie = SalarycategWithcategorie.drop(['TypeContrat','Description','Link'],axis=1)\n",
    "SalarycategWithdeuxcentdummies = SalarycategWithdeuxcentdummies.drop(['TypeContrat','Description','Link'],axis=1)"
   ]
  },
  {
   "cell_type": "code",
   "execution_count": 10,
   "metadata": {},
   "outputs": [],
   "source": [
    "Withcategorie_traintest = Withcategorie[Withcategorie['Salary'] != 'notfound']\n",
    "Withcategorie_apredict = Withcategorie[Withcategorie['Salary'] == 'notfound']\n",
    "#~~~~~~~~~~~~~~~~~~~~~~~~~~~~~~~~~~~~~~~~~~\n",
    "Withdeuxcentdummies_traintest = Withdeuxcentdummies[Withdeuxcentdummies['Salary'] != 'notfound']\n",
    "Withdeuxcentdummies_apredict = Withdeuxcentdummies[Withdeuxcentdummies['Salary'] == 'notfound']\n",
    "#~~~~~~~~~~~~~~~~~~~~~~~~~~~~~~~~~~~~~~~~~~\n",
    "SalarycategWithcategorie_traintest = SalarycategWithcategorie[SalarycategWithcategorie['Salary'] != 'notfound']\n",
    "SalarycategWithcategorie_apredict = SalarycategWithcategorie[SalarycategWithcategorie['Salary'] == 'notfound']\n",
    "#~~~~~~~~~~~~~~~~~~~~~~~~~~~~~~~~~~~~~~~~~~\n",
    "SalarycategWithdeuxcentdummies_traintest = SalarycategWithdeuxcentdummies[SalarycategWithdeuxcentdummies['Salary'] != 'notfound']\n",
    "SalarycategWithdeuxcentdummies_apredict = SalarycategWithdeuxcentdummies[SalarycategWithdeuxcentdummies['Salary'] == 'notfound']"
   ]
  },
  {
   "cell_type": "code",
   "execution_count": 11,
   "metadata": {},
   "outputs": [],
   "source": [
    "y1=Withcategorie_traintest.pop('Salary')\n",
    "Withcategorie_traintest =pd.get_dummies(Withcategorie_traintest)\n",
    "X1=Withcategorie_traintest\n",
    "Xtrain1,Xtest1,ytrain1,ytest1 = train_test_split(X1,y1,test_size= 0.3)\n",
    "#~~~~~~~~~~~~~~~~~~~~~~~~~~~~~~~~~~~~~~~~~~\n",
    "y2=Withdeuxcentdummies_traintest.pop('Salary')\n",
    "Withdeuxcentdummies_traintest =pd.get_dummies(Withdeuxcentdummies_traintest)\n",
    "X2=Withdeuxcentdummies_traintest\n",
    "Xtrain2,Xtest2,ytrain2,ytest2 = train_test_split(X2,y2,test_size= 0.3)\n",
    "#~~~~~~~~~~~~~~~~~~~~~~~~~~~~~~~~~~~~~~~~~~\n",
    "y3=SalarycategWithcategorie_traintest.pop('Salary')\n",
    "SalarycategWithcategorie_traintest =pd.get_dummies(SalarycategWithcategorie_traintest)\n",
    "X3=SalarycategWithcategorie_traintest\n",
    "Xtrain3,Xtest3,ytrain3,ytest3 = train_test_split(X3,y3,test_size= 0.3)\n",
    "#~~~~~~~~~~~~~~~~~~~~~~~~~~~~~~~~~~~~~~~~~~\n",
    "y4=SalarycategWithdeuxcentdummies_traintest.pop('Salary')\n",
    "SalarycategWithdeuxcentdummies_traintest =pd.get_dummies(SalarycategWithdeuxcentdummies_traintest)\n",
    "X4=SalarycategWithdeuxcentdummies_traintest\n",
    "Xtrain4,Xtest4,ytrain4,ytest4 = train_test_split(X4,y4,test_size= 0.3)"
   ]
  },
  {
   "cell_type": "code",
   "execution_count": 12,
   "metadata": {},
   "outputs": [
    {
     "name": "stderr",
     "output_type": "stream",
     "text": [
      "C:\\Users\\Utilisateur\\Anaconda3\\lib\\site-packages\\sklearn\\model_selection\\_split.py:1978: FutureWarning: The default value of cv will change from 3 to 5 in version 0.22. Specify it explicitly to silence this warning.\n",
      "  warnings.warn(CV_WARNING, FutureWarning)\n",
      "[Parallel(n_jobs=4)]: Using backend LokyBackend with 4 concurrent workers.\n"
     ]
    },
    {
     "name": "stdout",
     "output_type": "stream",
     "text": [
      "Fitting 3 folds for each of 1536 candidates, totalling 4608 fits\n"
     ]
    },
    {
     "name": "stderr",
     "output_type": "stream",
     "text": [
      "[Parallel(n_jobs=4)]: Done  42 tasks      | elapsed:    6.4s\n",
      "[Parallel(n_jobs=4)]: Done 296 tasks      | elapsed:   21.4s\n",
      "[Parallel(n_jobs=4)]: Done 618 tasks      | elapsed:   55.9s\n",
      "[Parallel(n_jobs=4)]: Done 1072 tasks      | elapsed:  1.7min\n",
      "[Parallel(n_jobs=4)]: Done 2598 tasks      | elapsed:  3.0min\n",
      "[Parallel(n_jobs=4)]: Done 3260 tasks      | elapsed:  5.9min\n",
      "[Parallel(n_jobs=4)]: Done 4608 out of 4608 | elapsed:  6.9min finished\n",
      "C:\\Users\\Utilisateur\\Anaconda3\\lib\\site-packages\\sklearn\\model_selection\\_search.py:814: DeprecationWarning: The default of the `iid` parameter will change from True to False in version 0.22 and will be removed in 0.24. This will change numeric results when test-set sizes are unequal.\n",
      "  DeprecationWarning)\n",
      "C:\\Users\\Utilisateur\\Anaconda3\\lib\\site-packages\\sklearn\\model_selection\\_split.py:1978: FutureWarning: The default value of cv will change from 3 to 5 in version 0.22. Specify it explicitly to silence this warning.\n",
      "  warnings.warn(CV_WARNING, FutureWarning)\n",
      "[Parallel(n_jobs=4)]: Using backend LokyBackend with 4 concurrent workers.\n"
     ]
    },
    {
     "name": "stdout",
     "output_type": "stream",
     "text": [
      "Fitting 3 folds for each of 1536 candidates, totalling 4608 fits\n"
     ]
    },
    {
     "name": "stderr",
     "output_type": "stream",
     "text": [
      "[Parallel(n_jobs=4)]: Done  42 tasks      | elapsed:   11.0s\n",
      "[Parallel(n_jobs=4)]: Done 296 tasks      | elapsed:   43.7s\n",
      "[Parallel(n_jobs=4)]: Done 626 tasks      | elapsed:  2.1min\n",
      "[Parallel(n_jobs=4)]: Done 1064 tasks      | elapsed:  3.7min\n",
      "[Parallel(n_jobs=4)]: Done 2398 tasks      | elapsed:  5.6min\n",
      "[Parallel(n_jobs=4)]: Done 3048 tasks      | elapsed:  9.3min\n",
      "[Parallel(n_jobs=4)]: Done 4332 tasks      | elapsed: 13.4min\n",
      "[Parallel(n_jobs=4)]: Done 4608 out of 4608 | elapsed: 13.5min finished\n",
      "C:\\Users\\Utilisateur\\Anaconda3\\lib\\site-packages\\sklearn\\model_selection\\_search.py:814: DeprecationWarning: The default of the `iid` parameter will change from True to False in version 0.22 and will be removed in 0.24. This will change numeric results when test-set sizes are unequal.\n",
      "  DeprecationWarning)\n",
      "C:\\Users\\Utilisateur\\Anaconda3\\lib\\site-packages\\sklearn\\model_selection\\_split.py:1978: FutureWarning: The default value of cv will change from 3 to 5 in version 0.22. Specify it explicitly to silence this warning.\n",
      "  warnings.warn(CV_WARNING, FutureWarning)\n",
      "C:\\Users\\Utilisateur\\Anaconda3\\lib\\site-packages\\sklearn\\model_selection\\_split.py:657: Warning: The least populated class in y has only 2 members, which is too few. The minimum number of members in any class cannot be less than n_splits=3.\n",
      "  % (min_groups, self.n_splits)), Warning)\n",
      "[Parallel(n_jobs=4)]: Using backend LokyBackend with 4 concurrent workers.\n"
     ]
    },
    {
     "name": "stdout",
     "output_type": "stream",
     "text": [
      "Fitting 3 folds for each of 48 candidates, totalling 144 fits\n"
     ]
    },
    {
     "name": "stderr",
     "output_type": "stream",
     "text": [
      "[Parallel(n_jobs=4)]: Done 128 tasks      | elapsed:    2.1s\n",
      "[Parallel(n_jobs=4)]: Done 137 out of 144 | elapsed:    2.3s remaining:    0.0s\n",
      "[Parallel(n_jobs=4)]: Done 144 out of 144 | elapsed:    2.4s finished\n",
      "C:\\Users\\Utilisateur\\Anaconda3\\lib\\site-packages\\sklearn\\model_selection\\_search.py:814: DeprecationWarning: The default of the `iid` parameter will change from True to False in version 0.22 and will be removed in 0.24. This will change numeric results when test-set sizes are unequal.\n",
      "  DeprecationWarning)\n",
      "C:\\Users\\Utilisateur\\Anaconda3\\lib\\site-packages\\sklearn\\model_selection\\_split.py:1978: FutureWarning: The default value of cv will change from 3 to 5 in version 0.22. Specify it explicitly to silence this warning.\n",
      "  warnings.warn(CV_WARNING, FutureWarning)\n",
      "C:\\Users\\Utilisateur\\Anaconda3\\lib\\site-packages\\sklearn\\model_selection\\_split.py:657: Warning: The least populated class in y has only 2 members, which is too few. The minimum number of members in any class cannot be less than n_splits=3.\n",
      "  % (min_groups, self.n_splits)), Warning)\n",
      "[Parallel(n_jobs=4)]: Using backend LokyBackend with 4 concurrent workers.\n"
     ]
    },
    {
     "name": "stdout",
     "output_type": "stream",
     "text": [
      "Fitting 3 folds for each of 48 candidates, totalling 144 fits\n"
     ]
    },
    {
     "name": "stderr",
     "output_type": "stream",
     "text": [
      "[Parallel(n_jobs=4)]: Done 125 tasks      | elapsed:    2.5s\n",
      "[Parallel(n_jobs=4)]: Done 137 out of 144 | elapsed:    2.7s remaining:    0.0s\n",
      "[Parallel(n_jobs=4)]: Done 144 out of 144 | elapsed:    2.9s finished\n",
      "C:\\Users\\Utilisateur\\Anaconda3\\lib\\site-packages\\sklearn\\model_selection\\_search.py:814: DeprecationWarning: The default of the `iid` parameter will change from True to False in version 0.22 and will be removed in 0.24. This will change numeric results when test-set sizes are unequal.\n",
      "  DeprecationWarning)\n"
     ]
    }
   ],
   "source": [
    "parametre = {\n",
    "    'n_estimators': np.arange(10,90,10),\n",
    "    'criterion': ('mae','mse'),\n",
    "    'max_depth': np.arange(2,6),\n",
    "    'min_samples_split': np.arange(2,5),\n",
    "    'max_features':('auto','sqrt','log2', None),\n",
    "    'bootstrap':(True,False)\n",
    "}\n",
    "clf = RandomForestRegressor(max_depth=2, random_state=0)\n",
    "Forest1 = GridSearchCV(clf, parametre,verbose=1,n_jobs=4)\n",
    "Forest1.fit(Xtrain1, ytrain1)\n",
    "ypred1 = Forest1.predict(Xtest1)\n",
    "#~~~~~~~~~~~~~~~~~~~~~~~~~~~~~~~~~~~~~~~~~~\n",
    "Forest2 = GridSearchCV(clf, parametre,verbose=1,n_jobs=4)\n",
    "Forest2.fit(Xtrain2, ytrain2)\n",
    "ypred2 = Forest2.predict(Xtest2)\n",
    "#~~~~~~~~~~~~~~~~~~~~~~~~~~~~~~~~~~~~~~~~~~\n",
    "params = {'n_estimators':[50],\n",
    "          'criterion':['gini','entropy'],\n",
    "          'max_depth': np.arange(2,5),\n",
    "          'max_features':['auto','sqrt','log2',None],\n",
    "          'bootstrap':[True,False]\n",
    "         }\n",
    "thetree = RandomForestClassifier(random_state=7)\n",
    "Forest3 = GridSearchCV(thetree, params,verbose=1,n_jobs=4)\n",
    "Forest3.fit(Xtrain3, ytrain3)\n",
    "ypred3 = Forest3.predict(Xtest3)\n",
    "#~~~~~~~~~~~~~~~~~~~~~~~~~~~~~~~~~~~~~~~~~~\n",
    "Forest4 = GridSearchCV(thetree, params,verbose=1,n_jobs=4)\n",
    "Forest4.fit(Xtrain4, ytrain4)\n",
    "ypred4 = Forest4.predict(Xtest4)"
   ]
  },
  {
   "cell_type": "code",
   "execution_count": 60,
   "metadata": {},
   "outputs": [
    {
     "data": {
      "image/png": "[encoded data removed]",
      "text/plain": [
       "<Figure size 1080x864 with 6 Axes>"
      ]
     },
     "metadata": {
      "needs_background": "light"
     },
     "output_type": "display_data"
    }
   ],
   "source": [
    "plt.figure(figsize=(15,12))\n",
    "plt.subplot(2,2,1)\n",
    "plt.scatter(range(len(ytest1)),ytest1)\n",
    "plt.scatter(range(len(ypred1)),ypred1)\n",
    "plt.text(80,900000,\"Score : \"+str(round(Forest1.best_estimator_.score(Xtest1,ytest1),2)))\n",
    "plt.title(\"Forest 1 -prix normal ( regression ) / desc dummies des 200 mots \")\n",
    "plt.subplot(2,2,2)\n",
    "plt.scatter(range(len(ytest2)),ytest2)\n",
    "plt.scatter(range(len(ypred2)),ypred2)\n",
    "plt.text(80,500000,\"Score : \"+str(round(Forest2.best_estimator_.score(Xtest2,ytest2),2)))\n",
    "plt.title(\"Forest 2 - prix normal ( regression ) / desc categorie\")\n",
    "plt.subplot(2,2,3)\n",
    "conf3 = confusion_matrix(ytest3,ypred3)\n",
    "sns.heatmap(conf3,annot=True)\n",
    "plt.title(\"Forest 3 - prix categorie / desc dummies des200 mots \"+ str(round(Forest3.best_score_,2)))\n",
    "# fix for mpl bug that cuts off top/bottom of seaborn viz\n",
    "b, t = plt.ylim() # discover the values for bottom and top\n",
    "b += 0.5 # Add 0.5 to the bottom\n",
    "t -= 0.5 # Subtract 0.5 from the top\n",
    "plt.ylim(b, t) # update the ylim(bottom, top) values\n",
    "plt.subplot(2,2,4)\n",
    "conf4 = confusion_matrix(ytest4,ypred4)\n",
    "sns.heatmap(conf4,annot=True)\n",
    "plt.plot(label=\"Score : \"+str(Forest4.best_score_))\n",
    "plt.title(\"Forest 4 - prix categorie / desc categorie \"+ str(round(Forest4.best_score_,2)))\n",
    "# fix for mpl bug that cuts off top/bottom of seaborn viz\n",
    "b, t = plt.ylim() # discover the values for bottom and top\n",
    "b += 0.5 # Add 0.5 to the bottom\n",
    "t -= 0.5 # Subtract 0.5 from the top\n",
    "plt.ylim(b, t) # update the ylim(bottom, top) values\n",
    "plt.show() # ta-da!"
   ]
  },
  {
   "cell_type": "code",
   "execution_count": 75,
   "metadata": {},
   "outputs": [
    {
     "name": "stdout",
     "output_type": "stream",
     "text": [
      "               precision    recall  f1-score   support\n",
      "\n",
      "    25a60Kans       0.94      0.97      0.96        88\n",
      "   60a200Kans       0.83      0.50      0.62        10\n",
      "moinsde25Kans       0.75      1.00      0.86         6\n",
      "\n",
      "     accuracy                           0.92       104\n",
      "    macro avg       0.84      0.82      0.81       104\n",
      " weighted avg       0.92      0.92      0.92       104\n",
      "\n",
      "               precision    recall  f1-score   support\n",
      "\n",
      "    25a60Kans       0.95      0.99      0.97        89\n",
      "   60a200Kans       0.88      0.88      0.88         8\n",
      "moinsde25Kans       1.00      0.43      0.60         7\n",
      "\n",
      "     accuracy                           0.94       104\n",
      "    macro avg       0.94      0.76      0.81       104\n",
      " weighted avg       0.94      0.94      0.94       104\n",
      "\n"
     ]
    }
   ],
   "source": [
    "print(classification_report(ytest3,ypred3))\n",
    "print(classification_report(ytest4,ypred4))"
   ]
  },
  {
   "cell_type": "code",
   "execution_count": null,
   "metadata": {},
   "outputs": [],
   "source": []
  },
  {
   "cell_type": "code",
   "execution_count": null,
   "metadata": {},
   "outputs": [],
   "source": []
  }
 ],
 "metadata": {
  "kernelspec": {
   "display_name": "Python 3.7.4 64-bit ('base': conda)",
   "language": "python",
   "name": "python37464bitbaseconda76c3cbbed76b48a2a84540fe36a74ed2"
  },
  "language_info": {
   "codemirror_mode": {
    "name": "ipython",
    "version": 3
   },
   "file_extension": ".py",
   "mimetype": "text/x-python",
   "name": "python",
   "nbconvert_exporter": "python",
   "pygments_lexer": "ipython3",
   "version": "3.7.4"
  }
 },
 "nbformat": 4,
 "nbformat_minor": 2
}
