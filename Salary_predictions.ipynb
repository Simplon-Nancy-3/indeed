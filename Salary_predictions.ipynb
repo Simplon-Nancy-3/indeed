{
 "cells": [
  {
   "cell_type": "code",
   "execution_count": 69,
   "metadata": {},
   "outputs": [],
   "source": [
    "import pandas as pd\n",
    "import numpy as np\n",
    "from Preprocessing import *\n",
    "from sklearn.feature_extraction.text import CountVectorizer\n",
    "from sklearn.cluster import KMeans\n",
    "from sklearn.model_selection import train_test_split\n",
    "from sklearn.ensemble import RandomForestRegressor\n",
    "from sklearn.ensemble import RandomForestClassifier\n",
    "from sklearn.model_selection import GridSearchCV\n",
    "from sklearn.linear_model import SGDClassifier, SGDRegressor, Lasso , Ridge\n",
    "import seaborn as sns\n",
    "from sklearn.metrics import confusion_matrix\n",
    "import matplotlib.pyplot as plt\n",
    "from sklearn.metrics import classification_report, explained_variance_score, mean_absolute_error,r2_score,mean_squared_error,accuracy_score,precision_score ,recall_score\n",
    "from xgboost import XGBClassifier\n",
    "import xgboost as xgb\n",
    "from eli5 import show_weights\n",
    "from sklearn.preprocessing import StandardScaler\n",
    "from sklearn.svm import SVC\n",
    "from sklearn.naive_bayes import GaussianNB"
   ]
  },
  {
   "cell_type": "code",
   "execution_count": 2,
   "metadata": {},
   "outputs": [],
   "source": [
    "Withcategorie = pd.read_csv('data/rdyforml/Withcategorie.csv')\n",
    "Withdeuxcentdummies = pd.read_csv('data/rdyforml/Withdeuxcentdummies.csv')\n",
    "SalarycategWithcategorie = pd.read_csv('data/rdyforml/SalarycategWithcategorie.csv')\n",
    "SalarycategWithdeuxcentdummies = pd.read_csv('data/rdyforml/SalarycategWithdeuxcentdummies.csv')"
   ]
  },
  {
   "cell_type": "code",
   "execution_count": 3,
   "metadata": {},
   "outputs": [],
   "source": [
    "Withcategorie = Withcategorie.drop(['TypeContrat','Description','Link'],axis=1)\n",
    "Withdeuxcentdummies = Withdeuxcentdummies.drop(['TypeContrat','Description','Link'],axis=1)\n",
    "SalarycategWithcategorie = SalarycategWithcategorie.drop(['TypeContrat','Description','Link'],axis=1)\n",
    "SalarycategWithdeuxcentdummies = SalarycategWithdeuxcentdummies.drop(['TypeContrat','Description','Link'],axis=1)"
   ]
  },
  {
   "cell_type": "code",
   "execution_count": 4,
   "metadata": {},
   "outputs": [],
   "source": [
    "Withcategorie_traintest = Withcategorie[Withcategorie['Salary'] != 'notfound']\n",
    "Withcategorie_apredict = Withcategorie[Withcategorie['Salary'] == 'notfound']\n",
    "#~~~~~~~~~~~~~~~~~~~~~~~~~~~~~~~~~~~~~~~~~~\n",
    "Withdeuxcentdummies_traintest = Withdeuxcentdummies[Withdeuxcentdummies['Salary'] != 'notfound']\n",
    "Withdeuxcentdummies_apredict = Withdeuxcentdummies[Withdeuxcentdummies['Salary'] == 'notfound']\n",
    "#~~~~~~~~~~~~~~~~~~~~~~~~~~~~~~~~~~~~~~~~~~\n",
    "SalarycategWithcategorie_traintest = SalarycategWithcategorie[SalarycategWithcategorie['Salary'] != 'notfound']\n",
    "SalarycategWithcategorie_apredict = SalarycategWithcategorie[SalarycategWithcategorie['Salary'] == 'notfound']\n",
    "#~~~~~~~~~~~~~~~~~~~~~~~~~~~~~~~~~~~~~~~~~~\n",
    "SalarycategWithdeuxcentdummies_traintest = SalarycategWithdeuxcentdummies[SalarycategWithdeuxcentdummies['Salary'] != 'notfound']\n",
    "SalarycategWithdeuxcentdummies_apredict = SalarycategWithdeuxcentdummies[SalarycategWithdeuxcentdummies['Salary'] == 'notfound']"
   ]
  },
  {
   "cell_type": "code",
   "execution_count": 5,
   "metadata": {},
   "outputs": [],
   "source": [
    "y1=Withcategorie_traintest.pop('Salary')\n",
    "DumsWithcategorie_traintest =pd.get_dummies(Withcategorie_traintest)\n",
    "X1=DumsWithcategorie_traintest\n",
    "Xtrain1,Xtest1,ytrain1,ytest1 = train_test_split(X1,y1,test_size= 0.3)\n",
    "#~~~~~~~~~~~~~~~~~~~~~~~~~~~~~~~~~~~~~~~~~~\n",
    "y2=Withdeuxcentdummies_traintest.pop('Salary')\n",
    "DumsWithdeuxcentdummies_traintest =pd.get_dummies(Withdeuxcentdummies_traintest)\n",
    "X2=DumsWithdeuxcentdummies_traintest\n",
    "Xtrain2,Xtest2,ytrain2,ytest2 = train_test_split(X2,y2,test_size= 0.3)\n",
    "#~~~~~~~~~~~~~~~~~~~~~~~~~~~~~~~~~~~~~~~~~~\n",
    "y3=SalarycategWithcategorie_traintest.pop('Salary')\n",
    "DumsSalarycategWithcategorie_traintest =pd.get_dummies(SalarycategWithcategorie_traintest)\n",
    "X3=DumsSalarycategWithcategorie_traintest\n",
    "Xtrain3,Xtest3,ytrain3,ytest3 = train_test_split(X3,y3,test_size= 0.3)\n",
    "#~~~~~~~~~~~~~~~~~~~~~~~~~~~~~~~~~~~~~~~~~~\n",
    "y4=SalarycategWithdeuxcentdummies_traintest.pop('Salary')\n",
    "DumsSalarycategWithdeuxcentdummies_traintest =pd.get_dummies(SalarycategWithdeuxcentdummies_traintest)\n",
    "X4=DumsSalarycategWithdeuxcentdummies_traintest\n",
    "Xtrain4,Xtest4,ytrain4,ytest4 = train_test_split(X4,y4,test_size= 0.3)"
   ]
  },
  {
   "cell_type": "markdown",
   "metadata": {},
   "source": [
    "<h1 style='text-align:center'>Random Forest </h1>"
   ]
  },
  {
   "cell_type": "code",
   "execution_count": 6,
   "metadata": {},
   "outputs": [
    {
     "name": "stderr",
     "output_type": "stream",
     "text": [
      "C:\\Users\\Utilisateur\\Anaconda3\\lib\\site-packages\\sklearn\\model_selection\\_split.py:1978: FutureWarning: The default value of cv will change from 3 to 5 in version 0.22. Specify it explicitly to silence this warning.\n",
      "  warnings.warn(CV_WARNING, FutureWarning)\n",
      "[Parallel(n_jobs=4)]: Using backend LokyBackend with 4 concurrent workers.\n"
     ]
    },
    {
     "name": "stdout",
     "output_type": "stream",
     "text": [
      "Fitting 3 folds for each of 1536 candidates, totalling 4608 fits\n"
     ]
    },
    {
     "name": "stderr",
     "output_type": "stream",
     "text": [
      "[Parallel(n_jobs=4)]: Done  42 tasks      | elapsed:    7.2s\n",
      "[Parallel(n_jobs=4)]: Done 364 tasks      | elapsed:   33.4s\n",
      "[Parallel(n_jobs=4)]: Done 686 tasks      | elapsed:  1.0min\n",
      "[Parallel(n_jobs=4)]: Done 1172 tasks      | elapsed:  1.9min\n",
      "[Parallel(n_jobs=4)]: Done 2722 tasks      | elapsed:  3.4min\n",
      "[Parallel(n_jobs=4)]: Done 3444 tasks      | elapsed:  6.1min\n",
      "[Parallel(n_jobs=4)]: Done 4608 out of 4608 | elapsed:  6.6min finished\n",
      "C:\\Users\\Utilisateur\\Anaconda3\\lib\\site-packages\\sklearn\\model_selection\\_search.py:814: DeprecationWarning: The default of the `iid` parameter will change from True to False in version 0.22 and will be removed in 0.24. This will change numeric results when test-set sizes are unequal.\n",
      "  DeprecationWarning)\n",
      "C:\\Users\\Utilisateur\\Anaconda3\\lib\\site-packages\\sklearn\\model_selection\\_split.py:1978: FutureWarning: The default value of cv will change from 3 to 5 in version 0.22. Specify it explicitly to silence this warning.\n",
      "  warnings.warn(CV_WARNING, FutureWarning)\n",
      "[Parallel(n_jobs=4)]: Using backend LokyBackend with 4 concurrent workers.\n"
     ]
    },
    {
     "name": "stdout",
     "output_type": "stream",
     "text": [
      "Fitting 3 folds for each of 1536 candidates, totalling 4608 fits\n"
     ]
    },
    {
     "name": "stderr",
     "output_type": "stream",
     "text": [
      "[Parallel(n_jobs=4)]: Done  42 tasks      | elapsed:   11.9s\n",
      "[Parallel(n_jobs=4)]: Done 251 tasks      | elapsed:   33.6s\n",
      "[Parallel(n_jobs=4)]: Done 554 tasks      | elapsed:  1.7min\n",
      "[Parallel(n_jobs=4)]: Done 948 tasks      | elapsed:  3.9min\n",
      "[Parallel(n_jobs=4)]: Done 2080 tasks      | elapsed:  5.0min\n",
      "[Parallel(n_jobs=4)]: Done 2912 tasks      | elapsed:  8.7min\n",
      "[Parallel(n_jobs=4)]: Done 3828 tasks      | elapsed: 13.5min\n",
      "[Parallel(n_jobs=4)]: Done 4601 out of 4608 | elapsed: 13.9min remaining:    1.2s\n",
      "[Parallel(n_jobs=4)]: Done 4608 out of 4608 | elapsed: 13.9min finished\n",
      "C:\\Users\\Utilisateur\\Anaconda3\\lib\\site-packages\\sklearn\\model_selection\\_search.py:814: DeprecationWarning: The default of the `iid` parameter will change from True to False in version 0.22 and will be removed in 0.24. This will change numeric results when test-set sizes are unequal.\n",
      "  DeprecationWarning)\n",
      "C:\\Users\\Utilisateur\\Anaconda3\\lib\\site-packages\\sklearn\\model_selection\\_split.py:1978: FutureWarning: The default value of cv will change from 3 to 5 in version 0.22. Specify it explicitly to silence this warning.\n",
      "  warnings.warn(CV_WARNING, FutureWarning)\n",
      "C:\\Users\\Utilisateur\\Anaconda3\\lib\\site-packages\\sklearn\\model_selection\\_split.py:657: Warning: The least populated class in y has only 2 members, which is too few. The minimum number of members in any class cannot be less than n_splits=3.\n",
      "  % (min_groups, self.n_splits)), Warning)\n",
      "[Parallel(n_jobs=4)]: Using backend LokyBackend with 4 concurrent workers.\n"
     ]
    },
    {
     "name": "stdout",
     "output_type": "stream",
     "text": [
      "Fitting 3 folds for each of 48 candidates, totalling 144 fits\n"
     ]
    },
    {
     "name": "stderr",
     "output_type": "stream",
     "text": [
      "[Parallel(n_jobs=4)]: Done 128 tasks      | elapsed:    2.5s\n",
      "[Parallel(n_jobs=4)]: Done 137 out of 144 | elapsed:    2.6s remaining:    0.0s\n",
      "[Parallel(n_jobs=4)]: Done 144 out of 144 | elapsed:    2.8s finished\n",
      "C:\\Users\\Utilisateur\\Anaconda3\\lib\\site-packages\\sklearn\\model_selection\\_search.py:814: DeprecationWarning: The default of the `iid` parameter will change from True to False in version 0.22 and will be removed in 0.24. This will change numeric results when test-set sizes are unequal.\n",
      "  DeprecationWarning)\n",
      "C:\\Users\\Utilisateur\\Anaconda3\\lib\\site-packages\\sklearn\\model_selection\\_split.py:1978: FutureWarning: The default value of cv will change from 3 to 5 in version 0.22. Specify it explicitly to silence this warning.\n",
      "  warnings.warn(CV_WARNING, FutureWarning)\n",
      "C:\\Users\\Utilisateur\\Anaconda3\\lib\\site-packages\\sklearn\\model_selection\\_split.py:657: Warning: The least populated class in y has only 1 members, which is too few. The minimum number of members in any class cannot be less than n_splits=3.\n",
      "  % (min_groups, self.n_splits)), Warning)\n",
      "[Parallel(n_jobs=4)]: Using backend LokyBackend with 4 concurrent workers.\n"
     ]
    },
    {
     "name": "stdout",
     "output_type": "stream",
     "text": [
      "Fitting 3 folds for each of 48 candidates, totalling 144 fits\n"
     ]
    },
    {
     "name": "stderr",
     "output_type": "stream",
     "text": [
      "[Parallel(n_jobs=4)]: Done 128 tasks      | elapsed:    3.2s\n",
      "[Parallel(n_jobs=4)]: Done 137 out of 144 | elapsed:    3.3s remaining:    0.1s\n",
      "[Parallel(n_jobs=4)]: Done 144 out of 144 | elapsed:    3.6s finished\n",
      "C:\\Users\\Utilisateur\\Anaconda3\\lib\\site-packages\\sklearn\\model_selection\\_search.py:814: DeprecationWarning: The default of the `iid` parameter will change from True to False in version 0.22 and will be removed in 0.24. This will change numeric results when test-set sizes are unequal.\n",
      "  DeprecationWarning)\n"
     ]
    }
   ],
   "source": [
    "parametre = {\n",
    "    'n_estimators': np.arange(10,90,10),\n",
    "    'criterion': ('mae','mse'),\n",
    "    'max_depth': np.arange(2,6),\n",
    "    'min_samples_split': np.arange(2,5),\n",
    "    'max_features':('auto','sqrt','log2', None),\n",
    "    'bootstrap':(True,False)\n",
    "}\n",
    "clf = RandomForestRegressor(max_depth=2, random_state=0)\n",
    "Forest1 = GridSearchCV(clf, parametre,verbose=1,n_jobs=4)\n",
    "Forest1.fit(Xtrain1, ytrain1)\n",
    "ypred1 = Forest1.predict(Xtest1)\n",
    "#~~~~~~~~~~~~~~~~~~~~~~~~~~~~~~~~~~~~~~~~~~\n",
    "Forest2 = GridSearchCV(clf, parametre,verbose=1,n_jobs=4)\n",
    "Forest2.fit(Xtrain2, ytrain2)\n",
    "ypred2 = Forest2.predict(Xtest2)\n",
    "#~~~~~~~~~~~~~~~~~~~~~~~~~~~~~~~~~~~~~~~~~~\n",
    "params = {'n_estimators':[50],\n",
    "          'criterion':['gini','entropy'],\n",
    "          'max_depth': np.arange(2,5),\n",
    "          'max_features':['auto','sqrt','log2',None],\n",
    "          'bootstrap':[True,False]\n",
    "         }\n",
    "thetree = RandomForestClassifier(random_state=7)\n",
    "Forest3 = GridSearchCV(thetree, params,verbose=1,n_jobs=4)\n",
    "Forest3.fit(Xtrain3, ytrain3)\n",
    "ypred3 = Forest3.predict(Xtest3)\n",
    "#~~~~~~~~~~~~~~~~~~~~~~~~~~~~~~~~~~~~~~~~~~\n",
    "Forest4 = GridSearchCV(thetree, params,verbose=1,n_jobs=4)\n",
    "Forest4.fit(Xtrain4, ytrain4)\n",
    "ypred4 = Forest4.predict(Xtest4)"
   ]
  },
  {
   "cell_type": "code",
   "execution_count": 7,
   "metadata": {},
   "outputs": [
    {
     "data": {
      "image/png": "[encoded data removed]",
      "text/plain": [
       "<Figure size 1080x864 with 6 Axes>"
      ]
     },
     "metadata": {
      "needs_background": "light"
     },
     "output_type": "display_data"
    }
   ],
   "source": [
    "plt.figure(figsize=(15,12))\n",
    "plt.subplot(2,2,1)\n",
    "plt.scatter(range(len(ytest1)),ytest1)\n",
    "plt.scatter(range(len(ypred1)),ypred1)\n",
    "plt.text(80,500000,\"Score : \"+str(round(Forest1.best_estimator_.score(Xtest1,ytest1),2)))\n",
    "plt.title(\"Forest 1 -prix normal ( regression ) / desc dummies des 200 mots \")\n",
    "plt.subplot(2,2,2)\n",
    "plt.scatter(range(len(ytest2)),ytest2)\n",
    "plt.scatter(range(len(ypred2)),ypred2)\n",
    "plt.text(80,500000,\"Score : \"+str(round(Forest2.best_estimator_.score(Xtest2,ytest2),2)))\n",
    "plt.title(\"Forest 2 - prix normal ( regression ) / desc categorie\")\n",
    "plt.subplot(2,2,3)\n",
    "conf3 = confusion_matrix(ytest3,ypred3)\n",
    "sns.heatmap(conf3,annot=True)\n",
    "plt.title(\"Forest 3 - prix categorie / desc dummies des200 mots \"+ str(round(Forest3.best_score_,2)))\n",
    "# fix for mpl bug that cuts off top/bottom of seaborn viz\n",
    "b, t = plt.ylim() # discover the values for bottom and top\n",
    "b += 0.5 # Add 0.5 to the bottom\n",
    "t -= 0.5 # Subtract 0.5 from the top\n",
    "plt.ylim(b, t) # update the ylim(bottom, top) values\n",
    "plt.subplot(2,2,4)\n",
    "conf4 = confusion_matrix(ytest4,ypred4)\n",
    "sns.heatmap(conf4,annot=True)\n",
    "plt.plot(label=\"Score : \"+str(Forest4.best_score_))\n",
    "plt.title(\"Forest 4 - prix categorie / desc categorie \"+ str(round(Forest4.best_score_,2)))\n",
    "# fix for mpl bug that cuts off top/bottom of seaborn viz\n",
    "b, t = plt.ylim() # discover the values for bottom and top\n",
    "b += 0.5 # Add 0.5 to the bottom\n",
    "t -= 0.5 # Subtract 0.5 from the top\n",
    "plt.ylim(b, t) # update the ylim(bottom, top) values\n",
    "plt.show() # ta-da!"
   ]
  },
  {
   "cell_type": "code",
   "execution_count": 83,
   "metadata": {},
   "outputs": [
    {
     "name": "stdout",
     "output_type": "stream",
     "text": [
      "Variance: -1.1573440124202357 \n",
      "Mae : 14499.772115384616 \n",
      "Mse : 571520526.76125 \n",
      "R² : -1.171484481557815 \n",
      "\n",
      "Variance: -4.392399860327041 \n",
      "Mae : 20055.862602780413 \n",
      "Mse : 3235942170.49492 \n",
      "R² : -4.405427193266296\n",
      "                         precision    recall  f1-score   support\n",
      "\n",
      "              25a60Kans       0.83      0.92      0.87        86\n",
      "             60a200Kans       0.00      0.00      0.00         9\n",
      "millionnairestoutlesans       0.00      0.00      0.00         1\n",
      "          moinsde25Kans       0.17      0.12      0.14         8\n",
      "\n",
      "               accuracy                           0.77       104\n",
      "              macro avg       0.25      0.26      0.25       104\n",
      "           weighted avg       0.70      0.77      0.73       104\n",
      "\n",
      "                         precision    recall  f1-score   support\n",
      "\n",
      "              25a60Kans       0.85      0.93      0.89        89\n",
      "             60a200Kans       0.00      0.00      0.00         7\n",
      "millionnairestoutlesans       0.00      0.00      0.00         1\n",
      "          moinsde25Kans       0.00      0.00      0.00         7\n",
      "\n",
      "               accuracy                           0.80       104\n",
      "              macro avg       0.21      0.23      0.22       104\n",
      "           weighted avg       0.72      0.80      0.76       104\n",
      "\n"
     ]
    },
    {
     "name": "stderr",
     "output_type": "stream",
     "text": [
      "C:\\Users\\Utilisateur\\Anaconda3\\lib\\site-packages\\sklearn\\metrics\\classification.py:1437: UndefinedMetricWarning: Precision and F-score are ill-defined and being set to 0.0 in labels with no predicted samples.\n",
      "  'precision', 'predicted', average, warn_for)\n",
      "C:\\Users\\Utilisateur\\Anaconda3\\lib\\site-packages\\sklearn\\metrics\\classification.py:1437: UndefinedMetricWarning: Precision is ill-defined and being set to 0.0 in labels with no predicted samples.\n",
      "  'precision', 'predicted', average, warn_for)\n"
     ]
    },
    {
     "data": {
      "text/html": [
       "<div>\n",
       "<style scoped>\n",
       "    .dataframe tbody tr th:only-of-type {\n",
       "        vertical-align: middle;\n",
       "    }\n",
       "\n",
       "    .dataframe tbody tr th {\n",
       "        vertical-align: top;\n",
       "    }\n",
       "\n",
       "    .dataframe thead th {\n",
       "        text-align: right;\n",
       "    }\n",
       "</style>\n",
       "<table border=\"1\" class=\"dataframe\">\n",
       "  <thead>\n",
       "    <tr style=\"text-align: right;\">\n",
       "      <th></th>\n",
       "      <th>Precision</th>\n",
       "      <th>Recall</th>\n",
       "      <th>Accuracy</th>\n",
       "    </tr>\n",
       "  </thead>\n",
       "  <tbody>\n",
       "    <tr>\n",
       "      <th>Forestclass1</th>\n",
       "      <td>0.700472</td>\n",
       "      <td>0.769231</td>\n",
       "      <td>0.769231</td>\n",
       "    </tr>\n",
       "    <tr>\n",
       "      <th>Forestclass2</th>\n",
       "      <td>0.724784</td>\n",
       "      <td>0.798077</td>\n",
       "      <td>0.798077</td>\n",
       "    </tr>\n",
       "  </tbody>\n",
       "</table>\n",
       "</div>"
      ],
      "text/plain": [
       "              Precision    Recall  Accuracy\n",
       "Forestclass1   0.700472  0.769231  0.769231\n",
       "Forestclass2   0.724784  0.798077  0.798077"
      ]
     },
     "execution_count": 83,
     "metadata": {},
     "output_type": "execute_result"
    }
   ],
   "source": [
    "print('Variance:', explained_variance_score(ytest1,ypred1),'\\nMae :', mean_absolute_error(ytest1,ypred1),'\\nMse :', mean_squared_error(ytest1,ypred1),'\\nR² :', r2_score(ytest1,ypred1),'\\n')\n",
    "print('Variance:', explained_variance_score(ytest2,ypred2),'\\nMae :', mean_absolute_error(ytest2,ypred2),'\\nMse :', mean_squared_error(ytest2,ypred2),'\\nR² :', r2_score(ytest2,ypred2))\n",
    "print(classification_report(ytest3,ypred3))\n",
    "print(classification_report(ytest4,ypred4))\n",
    "un = [explained_variance_score(ytest1,ypred1),mean_absolute_error(ytest1,ypred1),mean_squared_error(ytest1,ypred1),r2_score(ytest1,ypred1)]\n",
    "deux = [explained_variance_score(ytest2,ypred2),mean_absolute_error(ytest2,ypred2),mean_squared_error(ytest2,ypred2),r2_score(ytest2,ypred2)]\n",
    "resregforest = pd.DataFrame([un,deux],columns=[\"Variance\",\"MAE\",'MSE','R²'], index =['ForestReg1','ForestReg2'])\n",
    "un = [precision_score(ytest3,ypred3,average=\"weighted\"),recall_score(ytest3,ypred3,average=\"weighted\"),accuracy_score(ytest3,ypred3)]\n",
    "deux = [precision_score(ytest4,ypred4,average=\"weighted\"),recall_score(ytest4,ypred4,average=\"weighted\"),accuracy_score(ytest4,ypred4)]\n",
    "resclassforest = pd.DataFrame([un,deux],columns=[\"Precision\",\"Recall\",'Accuracy'], index =['Forestclass1','Forestclass2'])\n",
    "resclassforest"
   ]
  },
  {
   "cell_type": "code",
   "execution_count": 9,
   "metadata": {},
   "outputs": [
    {
     "name": "stdout",
     "output_type": "stream",
     "text": [
      "Forest 1 {'bootstrap': True, 'criterion': 'mae', 'max_depth': 4, 'max_features': 'auto', 'min_samples_split': 2, 'n_estimators': 10}\n",
      "Forest 2 {'bootstrap': False, 'criterion': 'mse', 'max_depth': 5, 'max_features': 'log2', 'min_samples_split': 2, 'n_estimators': 10}\n",
      "Forest 3 {'bootstrap': True, 'criterion': 'gini', 'max_depth': 2, 'max_features': None, 'n_estimators': 50}\n",
      "Forest 4 {'bootstrap': True, 'criterion': 'gini', 'max_depth': 4, 'max_features': None, 'n_estimators': 50}\n"
     ]
    }
   ],
   "source": [
    "print('Forest 1',Forest1.best_params_)\n",
    "print('Forest 2',Forest2.best_params_)\n",
    "print('Forest 3',Forest3.best_params_)\n",
    "print('Forest 4',Forest4.best_params_)"
   ]
  },
  {
   "cell_type": "markdown",
   "metadata": {},
   "source": [
    "<h1 style='text-align:center'>XG Boost </h1>"
   ]
  },
  {
   "cell_type": "code",
   "execution_count": 10,
   "metadata": {},
   "outputs": [],
   "source": [
    "Withcategorie = pd.read_csv('data/rdyforml/Withcategorie.csv')\n",
    "Withdeuxcentdummies = pd.read_csv('data/rdyforml/Withdeuxcentdummies.csv')\n",
    "SalarycategWithcategorie = pd.read_csv('data/rdyforml/SalarycategWithcategorie.csv')\n",
    "SalarycategWithdeuxcentdummies = pd.read_csv('data/rdyforml/SalarycategWithdeuxcentdummies.csv')"
   ]
  },
  {
   "cell_type": "code",
   "execution_count": 11,
   "metadata": {},
   "outputs": [],
   "source": [
    "Withcategorie = Withcategorie.drop(['TypeContrat','Description','Link'],axis=1)\n",
    "Withdeuxcentdummies = Withdeuxcentdummies.drop(['TypeContrat','Description','Link'],axis=1)\n",
    "SalarycategWithcategorie = SalarycategWithcategorie.drop(['TypeContrat','Description','Link'],axis=1)\n",
    "SalarycategWithdeuxcentdummies = SalarycategWithdeuxcentdummies.drop(['TypeContrat','Description','Link'],axis=1)"
   ]
  },
  {
   "cell_type": "code",
   "execution_count": 12,
   "metadata": {},
   "outputs": [],
   "source": [
    "Withcategorie_traintest = Withcategorie[Withcategorie['Salary'] != 'notfound']\n",
    "Withcategorie_apredict = Withcategorie[Withcategorie['Salary'] == 'notfound']\n",
    "#~~~~~~~~~~~~~~~~~~~~~~~~~~~~~~~~~~~~~~~~~~\n",
    "Withdeuxcentdummies_traintest = Withdeuxcentdummies[Withdeuxcentdummies['Salary'] != 'notfound']\n",
    "Withdeuxcentdummies_apredict = Withdeuxcentdummies[Withdeuxcentdummies['Salary'] == 'notfound']\n",
    "#~~~~~~~~~~~~~~~~~~~~~~~~~~~~~~~~~~~~~~~~~~\n",
    "SalarycategWithcategorie_traintest = SalarycategWithcategorie[SalarycategWithcategorie['Salary'] != 'notfound']\n",
    "SalarycategWithcategorie_apredict = SalarycategWithcategorie[SalarycategWithcategorie['Salary'] == 'notfound']\n",
    "#~~~~~~~~~~~~~~~~~~~~~~~~~~~~~~~~~~~~~~~~~~\n",
    "SalarycategWithdeuxcentdummies_traintest = SalarycategWithdeuxcentdummies[SalarycategWithdeuxcentdummies['Salary'] != 'notfound']\n",
    "SalarycategWithdeuxcentdummies_apredict = SalarycategWithdeuxcentdummies[SalarycategWithdeuxcentdummies['Salary'] == 'notfound']"
   ]
  },
  {
   "cell_type": "code",
   "execution_count": 13,
   "metadata": {},
   "outputs": [],
   "source": [
    "Sc = StandardScaler()\n",
    "y1=Withcategorie_traintest.pop('Salary')\n",
    "DumsWithcategorie_traintest =pd.get_dummies(Withcategorie_traintest)\n",
    "Sc.fit(DumsWithcategorie_traintest)\n",
    "SCDumsWithcategorie_traintest = Sc.transform(DumsWithcategorie_traintest)\n",
    "SCDumsWithcategorie_traintest= pd.DataFrame(SCDumsWithcategorie_traintest,columns=DumsWithcategorie_traintest.columns)\n",
    "X1=SCDumsWithcategorie_traintest\n",
    "Xtrain1,Xtest1,ytrain1,ytest1 = train_test_split(X1,y1,test_size= 0.3)\n",
    "#~~~~~~~~~~~~~~~~~~~~~~~~~~~~~~~~~~~~~~~~~~\n",
    "y2=Withdeuxcentdummies_traintest.pop('Salary')\n",
    "DumsWithdeuxcentdummies_traintest =pd.get_dummies(Withdeuxcentdummies_traintest)\n",
    "SCDumsWithdeuxcentdummies_traintest = Sc.fit_transform(DumsWithdeuxcentdummies_traintest)\n",
    "X2=SCDumsWithdeuxcentdummies_traintest\n",
    "Xtrain2,Xtest2,ytrain2,ytest2 = train_test_split(X2,y2,test_size= 0.3)\n",
    "#~~~~~~~~~~~~~~~~~~~~~~~~~~~~~~~~~~~~~~~~~~\n",
    "y3=SalarycategWithcategorie_traintest.pop('Salary')\n",
    "DumsSalarycategWithcategorie_traintest =pd.get_dummies(SalarycategWithcategorie_traintest)\n",
    "X3=DumsSalarycategWithcategorie_traintest\n",
    "Xtrain3,Xtest3,ytrain3,ytest3 = train_test_split(X3,y3,test_size= 0.3)\n",
    "#~~~~~~~~~~~~~~~~~~~~~~~~~~~~~~~~~~~~~~~~~~\n",
    "y4=SalarycategWithdeuxcentdummies_traintest.pop('Salary')\n",
    "DumsSalarycategWithdeuxcentdummies_traintest =pd.get_dummies(SalarycategWithdeuxcentdummies_traintest)\n",
    "X4=DumsSalarycategWithdeuxcentdummies_traintest\n",
    "Xtrain4,Xtest4,ytrain4,ytest4 = train_test_split(X4,y4,test_size= 0.3)"
   ]
  },
  {
   "cell_type": "code",
   "execution_count": 14,
   "metadata": {},
   "outputs": [
    {
     "name": "stderr",
     "output_type": "stream",
     "text": [
      "C:\\Users\\Utilisateur\\Anaconda3\\lib\\site-packages\\sklearn\\model_selection\\_split.py:1978: FutureWarning: The default value of cv will change from 3 to 5 in version 0.22. Specify it explicitly to silence this warning.\n",
      "  warnings.warn(CV_WARNING, FutureWarning)\n",
      "[Parallel(n_jobs=4)]: Using backend LokyBackend with 4 concurrent workers.\n"
     ]
    },
    {
     "name": "stdout",
     "output_type": "stream",
     "text": [
      "Fitting 3 folds for each of 405 candidates, totalling 1215 fits\n"
     ]
    },
    {
     "name": "stderr",
     "output_type": "stream",
     "text": [
      "[Parallel(n_jobs=4)]: Done  42 tasks      | elapsed:    4.2s\n",
      "[Parallel(n_jobs=4)]: Done 192 tasks      | elapsed:   17.2s\n",
      "[Parallel(n_jobs=4)]: Done 442 tasks      | elapsed:   37.1s\n",
      "[Parallel(n_jobs=4)]: Done 792 tasks      | elapsed:  1.2min\n",
      "[Parallel(n_jobs=4)]: Done 1215 out of 1215 | elapsed:  2.0min finished\n",
      "C:\\Users\\Utilisateur\\Anaconda3\\lib\\site-packages\\sklearn\\model_selection\\_search.py:814: DeprecationWarning: The default of the `iid` parameter will change from True to False in version 0.22 and will be removed in 0.24. This will change numeric results when test-set sizes are unequal.\n",
      "  DeprecationWarning)\n"
     ]
    },
    {
     "name": "stdout",
     "output_type": "stream",
     "text": [
      "Fitting 3 folds for each of 405 candidates, totalling 1215 fits\n"
     ]
    },
    {
     "name": "stderr",
     "output_type": "stream",
     "text": [
      "[Parallel(n_jobs=4)]: Using backend LokyBackend with 4 concurrent workers.\n",
      "[Parallel(n_jobs=4)]: Done  42 tasks      | elapsed:    3.4s\n",
      "[Parallel(n_jobs=4)]: Done 192 tasks      | elapsed:   18.0s\n",
      "[Parallel(n_jobs=4)]: Done 442 tasks      | elapsed:   42.4s\n",
      "[Parallel(n_jobs=4)]: Done 792 tasks      | elapsed:  1.4min\n",
      "[Parallel(n_jobs=4)]: Done 1215 out of 1215 | elapsed:  2.4min finished\n",
      "C:\\Users\\Utilisateur\\Anaconda3\\lib\\site-packages\\sklearn\\model_selection\\_search.py:814: DeprecationWarning: The default of the `iid` parameter will change from True to False in version 0.22 and will be removed in 0.24. This will change numeric results when test-set sizes are unequal.\n",
      "  DeprecationWarning)\n"
     ]
    },
    {
     "name": "stdout",
     "output_type": "stream",
     "text": [
      "Fitting 3 folds for each of 405 candidates, totalling 1215 fits\n"
     ]
    },
    {
     "name": "stderr",
     "output_type": "stream",
     "text": [
      "C:\\Users\\Utilisateur\\Anaconda3\\lib\\site-packages\\sklearn\\model_selection\\_split.py:657: Warning: The least populated class in y has only 1 members, which is too few. The minimum number of members in any class cannot be less than n_splits=3.\n",
      "  % (min_groups, self.n_splits)), Warning)\n",
      "[Parallel(n_jobs=4)]: Using backend LokyBackend with 4 concurrent workers.\n",
      "[Parallel(n_jobs=4)]: Done  42 tasks      | elapsed:    7.0s\n",
      "[Parallel(n_jobs=4)]: Done 192 tasks      | elapsed:   31.1s\n",
      "[Parallel(n_jobs=4)]: Done 442 tasks      | elapsed:  1.2min\n",
      "[Parallel(n_jobs=4)]: Done 792 tasks      | elapsed:  2.5min\n",
      "[Parallel(n_jobs=4)]: Done 1215 out of 1215 | elapsed:  4.2min finished\n",
      "C:\\Users\\Utilisateur\\Anaconda3\\lib\\site-packages\\sklearn\\model_selection\\_search.py:814: DeprecationWarning: The default of the `iid` parameter will change from True to False in version 0.22 and will be removed in 0.24. This will change numeric results when test-set sizes are unequal.\n",
      "  DeprecationWarning)\n",
      "C:\\Users\\Utilisateur\\Anaconda3\\lib\\site-packages\\sklearn\\model_selection\\_split.py:1978: FutureWarning: The default value of cv will change from 3 to 5 in version 0.22. Specify it explicitly to silence this warning.\n",
      "  warnings.warn(CV_WARNING, FutureWarning)\n",
      "C:\\Users\\Utilisateur\\Anaconda3\\lib\\site-packages\\sklearn\\model_selection\\_split.py:657: Warning: The least populated class in y has only 1 members, which is too few. The minimum number of members in any class cannot be less than n_splits=3.\n",
      "  % (min_groups, self.n_splits)), Warning)\n",
      "[Parallel(n_jobs=4)]: Using backend LokyBackend with 4 concurrent workers.\n"
     ]
    },
    {
     "name": "stdout",
     "output_type": "stream",
     "text": [
      "Fitting 3 folds for each of 405 candidates, totalling 1215 fits\n"
     ]
    },
    {
     "name": "stderr",
     "output_type": "stream",
     "text": [
      "[Parallel(n_jobs=4)]: Done  42 tasks      | elapsed:   10.7s\n",
      "[Parallel(n_jobs=4)]: Done 192 tasks      | elapsed:   49.2s\n",
      "[Parallel(n_jobs=4)]: Done 442 tasks      | elapsed:  1.9min\n",
      "[Parallel(n_jobs=4)]: Done 792 tasks      | elapsed:  3.7min\n",
      "[Parallel(n_jobs=4)]: Done 1215 out of 1215 | elapsed:  6.1min finished\n",
      "C:\\Users\\Utilisateur\\Anaconda3\\lib\\site-packages\\sklearn\\model_selection\\_search.py:814: DeprecationWarning: The default of the `iid` parameter will change from True to False in version 0.22 and will be removed in 0.24. This will change numeric results when test-set sizes are unequal.\n",
      "  DeprecationWarning)\n"
     ]
    }
   ],
   "source": [
    "parametre= {\n",
    "    'min_child_weight': [1, 5, 10],\n",
    "    'gamma': [0.5, 1, 1.5, 2, 5],\n",
    "    'subsample': [0.6, 0.8, 1.0],\n",
    "    'colsample_bytree': [0.6, 0.8, 1.0],\n",
    "    'max_depth': [3, 4, 5]\n",
    "}\n",
    "xg_reg = xgb.XGBRegressor(objective='reg:tweedie')\n",
    "ytrain1 = pd.to_numeric(ytrain1)\n",
    "Xgboost1 = GridSearchCV(xg_reg, parametre,verbose=1,n_jobs=4)\n",
    "Xgboost1.fit(Xtrain1, ytrain1)\n",
    "ypredXgboost1 = Xgboost1.predict(Xtest1)\n",
    "#~~~~~~~~~~~~~~~~~~~~~~~~~~~~~~~~~~~~~~~~~~\n",
    "ytrain2 = pd.to_numeric(ytrain2)\n",
    "Xgboost2 = GridSearchCV(xg_reg, parametre,verbose=1,n_jobs=4)\n",
    "Xgboost2.fit(Xtrain2, ytrain2)\n",
    "ypredXgboost2 = Xgboost2.predict(Xtest2)\n",
    "#~~~~~~~~~~~~~~~~~~~~~~~~~~~~~~~~~~~~~~~~~~\n",
    "parametre = {\n",
    "    'min_child_weight': [1, 5, 10],\n",
    "    'gamma': [0.5, 1, 1.5, 2, 5],\n",
    "    'subsample': [0.6, 0.8, 1.0],\n",
    "    'colsample_bytree': [0.6, 0.8, 1.0],\n",
    "    'max_depth': [3, 4, 5]\n",
    "}\n",
    "clf = XGBClassifier(random_state=0)\n",
    "Xgboost3 = GridSearchCV(clf, parametre,verbose=1,n_jobs=4)\n",
    "Xgboost3.fit(Xtrain3, ytrain3)\n",
    "ypredXgboost3 = Xgboost3.predict(Xtest3)\n",
    "#~~~~~~~~~~~~~~~~~~~~~~~~~~~~~~~~~~~~~~~~~~\n",
    "Xgboost4 = GridSearchCV(clf, parametre,verbose=1,n_jobs=4)\n",
    "Xgboost4.fit(Xtrain4, ytrain4)\n",
    "ypredXgboost4 = Xgboost4.predict(Xtest4)"
   ]
  },
  {
   "cell_type": "code",
   "execution_count": 67,
   "metadata": {},
   "outputs": [
    {
     "data": {
      "image/png": "[encoded data removed]",
      "text/plain": [
       "<Figure size 1080x864 with 6 Axes>"
      ]
     },
     "metadata": {
      "needs_background": "light"
     },
     "output_type": "display_data"
    }
   ],
   "source": [
    "plt.figure(figsize=(15,12))\n",
    "plt.subplot(2,2,1)\n",
    "plt.scatter(range(len(ytest1)),ytest1)\n",
    "plt.scatter(range(len(ypredXgboost1)),ypredXgboost1)\n",
    "plt.text(80,90000,\"Score : \"+str(round(Xgboost1.best_estimator_.score(Xtest1,ytest1),2)))\n",
    "plt.title(\"Xgboost 1 -prix normal ( regression ) / desc dummies des 200 mots \")\n",
    "plt.subplot(2,2,2)\n",
    "plt.scatter(range(len(ytest2)),ytest2)\n",
    "plt.scatter(range(len(ypredXgboost2)),ypredXgboost2)\n",
    "plt.text(80,50000,\"Score : \"+str(round(Xgboost2.best_estimator_.score(Xtest2,ytest2),2)))\n",
    "plt.title(\"Xgboost 2 - prix normal ( regression ) / desc categorie\")\n",
    "plt.subplot(2,2,3)\n",
    "conf3 = confusion_matrix(ytest3,ypredXgboost3)\n",
    "sns.heatmap(conf3,annot=True)\n",
    "plt.title(\"Xgboost 3 - prix categorie / desc dummies des 200 mots \"+ str(round(Xgboost3.best_score_,2)))\n",
    "# fix for mpl bug that cuts off top/bottom of seaborn viz\n",
    "b, t = plt.ylim() # discover the values for bottom and top\n",
    "b += 0.5 # Add 0.5 to the bottom\n",
    "t -= 0.5 # Subtract 0.5 from the top\n",
    "plt.ylim(b, t) # update the ylim(bottom, top) values\n",
    "plt.subplot(2,2,4)\n",
    "conf4 = confusion_matrix(ytest4,ypredXgboost4)\n",
    "sns.heatmap(conf4,annot=True)\n",
    "plt.plot(label=\"Score : \"+str(Xgboost4.best_score_))\n",
    "plt.title(\"Xgboost 4 - prix categorie / desc categorie \"+ str(round(Xgboost4.best_score_,2)))\n",
    "# fix for mpl bug that cuts off top/bottom of seaborn viz\n",
    "b, t = plt.ylim() # discover the values for bottom and top\n",
    "b += 0.5 # Add 0.5 to the bottom\n",
    "t -= 0.5 # Subtract 0.5 from the top\n",
    "plt.ylim(b, t) # update the ylim(bottom, top) values\n",
    "plt.show() # ta-da!"
   ]
  },
  {
   "cell_type": "code",
   "execution_count": 85,
   "metadata": {},
   "outputs": [
    {
     "name": "stdout",
     "output_type": "stream",
     "text": [
      "Variance: 0.5730499013086323 \n",
      "Mae : 6994.400165264423 \n",
      "Mse : 115275797.62600414 \n",
      "R² : 0.5620111720875478 \n",
      "\n",
      "Variance: 0.4835712204308803 \n",
      "Mae : 10148.45000751202 \n",
      "Mse : 314980548.04356587 \n",
      "R² : 0.4738458445676711\n",
      "                         precision    recall  f1-score   support\n",
      "\n",
      "              25a60Kans       0.91      0.99      0.95        86\n",
      "             60a200Kans       0.71      0.56      0.63         9\n",
      "millionnairestoutlesans       0.00      0.00      0.00         1\n",
      "          moinsde25Kans       0.75      0.38      0.50         8\n",
      "\n",
      "               accuracy                           0.89       104\n",
      "              macro avg       0.59      0.48      0.52       104\n",
      "           weighted avg       0.88      0.89      0.88       104\n",
      "\n",
      "                         precision    recall  f1-score   support\n",
      "\n",
      "              25a60Kans       0.91      0.94      0.93        89\n",
      "             60a200Kans       0.44      0.57      0.50         7\n",
      "millionnairestoutlesans       0.00      0.00      0.00         1\n",
      "          moinsde25Kans       0.67      0.29      0.40         7\n",
      "\n",
      "               accuracy                           0.87       104\n",
      "              macro avg       0.51      0.45      0.46       104\n",
      "           weighted avg       0.86      0.87      0.85       104\n",
      "\n"
     ]
    },
    {
     "name": "stderr",
     "output_type": "stream",
     "text": [
      "C:\\Users\\Utilisateur\\Anaconda3\\lib\\site-packages\\sklearn\\metrics\\classification.py:1437: UndefinedMetricWarning: Precision and F-score are ill-defined and being set to 0.0 in labels with no predicted samples.\n",
      "  'precision', 'predicted', average, warn_for)\n",
      "C:\\Users\\Utilisateur\\Anaconda3\\lib\\site-packages\\sklearn\\metrics\\classification.py:1437: UndefinedMetricWarning: Precision is ill-defined and being set to 0.0 in labels with no predicted samples.\n",
      "  'precision', 'predicted', average, warn_for)\n"
     ]
    }
   ],
   "source": [
    "print('Variance:', explained_variance_score(ytest1,ypredXgboost1),'\\nMae :', mean_absolute_error(ytest1,ypredXgboost1),'\\nMse :', mean_squared_error(ytest1,ypredXgboost1),'\\nR² :', r2_score(ytest1,ypredXgboost1),'\\n')\n",
    "print('Variance:', explained_variance_score(ytest2,ypredXgboost2),'\\nMae :', mean_absolute_error(ytest2,ypredXgboost2),'\\nMse :', mean_squared_error(ytest2,ypredXgboost2),'\\nR² :', r2_score(ytest2,ypredXgboost2))\n",
    "print(classification_report(ytest3,ypredXgboost3))\n",
    "print(classification_report(ytest4,ypredXgboost4))\n",
    "un = [explained_variance_score(ytest1,ypredXgboost1),mean_absolute_error(ytest1,ypredXgboost1),mean_squared_error(ytest1,ypredXgboost1),r2_score(ytest1,ypredXgboost1)]\n",
    "deux = [explained_variance_score(ytest2,ypredXgboost2),mean_absolute_error(ytest2,ypredXgboost2),mean_squared_error(ytest2,ypredXgboost2),r2_score(ytest2,ypredXgboost2)]\n",
    "resXgboost = pd.DataFrame([un,deux],columns=[\"Variance\",\"MAE\",'MSE','R²'], index =['XgboostReg1','XgboostReg2'])\n",
    "un = [precision_score(ytest3,ypredXgboost3,average=\"weighted\"),recall_score(ytest3,ypredXgboost3,average=\"weighted\"),accuracy_score(ytest3,ypredXgboost3)]\n",
    "deux = [precision_score(ytest4,ypredXgboost4,average=\"weighted\"),recall_score(ytest4,ypredXgboost4,average=\"weighted\"),accuracy_score(ytest4,ypredXgboost4)]\n",
    "resclassXgboost = pd.DataFrame([un,deux],columns=[\"Precision\",\"Recall\",'Accuracy'], index =['XGBoostclass1','XGBoostclass2'])"
   ]
  },
  {
   "cell_type": "code",
   "execution_count": 17,
   "metadata": {},
   "outputs": [
    {
     "name": "stdout",
     "output_type": "stream",
     "text": [
      "Xgboost 1 {'colsample_bytree': 0.6, 'gamma': 1, 'max_depth': 4, 'min_child_weight': 1, 'subsample': 0.8}\n",
      "Xgboost 2 {'colsample_bytree': 0.8, 'gamma': 1, 'max_depth': 5, 'min_child_weight': 1, 'subsample': 1.0}\n",
      "Xgboost 3 {'colsample_bytree': 0.6, 'gamma': 0.5, 'max_depth': 3, 'min_child_weight': 1, 'subsample': 1.0}\n",
      "Xgboost 4 {'colsample_bytree': 0.8, 'gamma': 0.5, 'max_depth': 5, 'min_child_weight': 1, 'subsample': 0.8}\n"
     ]
    }
   ],
   "source": [
    "print('Xgboost 1',Xgboost1.best_params_)\n",
    "print('Xgboost 2',Xgboost2.best_params_)\n",
    "print('Xgboost 3',Xgboost3.best_params_)\n",
    "print('Xgboost 4',Xgboost4.best_params_)"
   ]
  },
  {
   "cell_type": "markdown",
   "metadata": {},
   "source": [
    "<h1 style='text-align:center'>SGD model </h1>"
   ]
  },
  {
   "cell_type": "code",
   "execution_count": 18,
   "metadata": {},
   "outputs": [
    {
     "name": "stderr",
     "output_type": "stream",
     "text": [
      "C:\\Users\\Utilisateur\\Anaconda3\\lib\\site-packages\\sklearn\\model_selection\\_split.py:1978: FutureWarning: The default value of cv will change from 3 to 5 in version 0.22. Specify it explicitly to silence this warning.\n",
      "  warnings.warn(CV_WARNING, FutureWarning)\n",
      "[Parallel(n_jobs=4)]: Using backend LokyBackend with 4 concurrent workers.\n"
     ]
    },
    {
     "name": "stdout",
     "output_type": "stream",
     "text": [
      "Fitting 3 folds for each of 162 candidates, totalling 486 fits\n"
     ]
    },
    {
     "name": "stderr",
     "output_type": "stream",
     "text": [
      "[Parallel(n_jobs=4)]: Done  62 tasks      | elapsed:    6.4s\n",
      "[Parallel(n_jobs=4)]: Done 212 tasks      | elapsed:   24.7s\n",
      "[Parallel(n_jobs=4)]: Done 462 tasks      | elapsed:   53.7s\n",
      "[Parallel(n_jobs=4)]: Done 486 out of 486 | elapsed:   57.7s finished\n",
      "C:\\Users\\Utilisateur\\Anaconda3\\lib\\site-packages\\sklearn\\model_selection\\_search.py:814: DeprecationWarning: The default of the `iid` parameter will change from True to False in version 0.22 and will be removed in 0.24. This will change numeric results when test-set sizes are unequal.\n",
      "  DeprecationWarning)\n",
      "C:\\Users\\Utilisateur\\Anaconda3\\lib\\site-packages\\sklearn\\linear_model\\stochastic_gradient.py:1185: ConvergenceWarning: Maximum number of iteration reached before convergence. Consider increasing max_iter to improve the fit.\n",
      "  ConvergenceWarning)\n",
      "C:\\Users\\Utilisateur\\Anaconda3\\lib\\site-packages\\sklearn\\model_selection\\_split.py:1978: FutureWarning: The default value of cv will change from 3 to 5 in version 0.22. Specify it explicitly to silence this warning.\n",
      "  warnings.warn(CV_WARNING, FutureWarning)\n",
      "[Parallel(n_jobs=4)]: Using backend LokyBackend with 4 concurrent workers.\n"
     ]
    },
    {
     "name": "stdout",
     "output_type": "stream",
     "text": [
      "Fitting 3 folds for each of 162 candidates, totalling 486 fits\n"
     ]
    },
    {
     "name": "stderr",
     "output_type": "stream",
     "text": [
      "[Parallel(n_jobs=4)]: Done  58 tasks      | elapsed:    7.4s\n",
      "[Parallel(n_jobs=4)]: Done 208 tasks      | elapsed:   31.3s\n",
      "[Parallel(n_jobs=4)]: Done 458 tasks      | elapsed:  1.1min\n",
      "[Parallel(n_jobs=4)]: Done 486 out of 486 | elapsed:  1.2min finished\n",
      "C:\\Users\\Utilisateur\\Anaconda3\\lib\\site-packages\\sklearn\\model_selection\\_search.py:814: DeprecationWarning: The default of the `iid` parameter will change from True to False in version 0.22 and will be removed in 0.24. This will change numeric results when test-set sizes are unequal.\n",
      "  DeprecationWarning)\n",
      "C:\\Users\\Utilisateur\\Anaconda3\\lib\\site-packages\\sklearn\\linear_model\\stochastic_gradient.py:1185: ConvergenceWarning: Maximum number of iteration reached before convergence. Consider increasing max_iter to improve the fit.\n",
      "  ConvergenceWarning)\n",
      "C:\\Users\\Utilisateur\\Anaconda3\\lib\\site-packages\\sklearn\\model_selection\\_split.py:1978: FutureWarning: The default value of cv will change from 3 to 5 in version 0.22. Specify it explicitly to silence this warning.\n",
      "  warnings.warn(CV_WARNING, FutureWarning)\n",
      "C:\\Users\\Utilisateur\\Anaconda3\\lib\\site-packages\\sklearn\\model_selection\\_split.py:657: Warning: The least populated class in y has only 1 members, which is too few. The minimum number of members in any class cannot be less than n_splits=3.\n",
      "  % (min_groups, self.n_splits)), Warning)\n",
      "[Parallel(n_jobs=4)]: Using backend LokyBackend with 4 concurrent workers.\n"
     ]
    },
    {
     "name": "stdout",
     "output_type": "stream",
     "text": [
      "Fitting 3 folds for each of 48 candidates, totalling 144 fits\n"
     ]
    },
    {
     "name": "stderr",
     "output_type": "stream",
     "text": [
      "[Parallel(n_jobs=4)]: Done 130 tasks      | elapsed:    0.6s\n",
      "[Parallel(n_jobs=4)]: Done 144 out of 144 | elapsed:    0.6s finished\n",
      "C:\\Users\\Utilisateur\\Anaconda3\\lib\\site-packages\\sklearn\\model_selection\\_search.py:814: DeprecationWarning: The default of the `iid` parameter will change from True to False in version 0.22 and will be removed in 0.24. This will change numeric results when test-set sizes are unequal.\n",
      "  DeprecationWarning)\n",
      "C:\\Users\\Utilisateur\\Anaconda3\\lib\\site-packages\\sklearn\\model_selection\\_split.py:1978: FutureWarning: The default value of cv will change from 3 to 5 in version 0.22. Specify it explicitly to silence this warning.\n",
      "  warnings.warn(CV_WARNING, FutureWarning)\n",
      "C:\\Users\\Utilisateur\\Anaconda3\\lib\\site-packages\\sklearn\\model_selection\\_split.py:657: Warning: The least populated class in y has only 1 members, which is too few. The minimum number of members in any class cannot be less than n_splits=3.\n",
      "  % (min_groups, self.n_splits)), Warning)\n",
      "[Parallel(n_jobs=4)]: Using backend LokyBackend with 4 concurrent workers.\n"
     ]
    },
    {
     "name": "stdout",
     "output_type": "stream",
     "text": [
      "Fitting 3 folds for each of 48 candidates, totalling 144 fits\n"
     ]
    },
    {
     "name": "stderr",
     "output_type": "stream",
     "text": [
      "[Parallel(n_jobs=4)]: Done 130 tasks      | elapsed:    0.9s\n",
      "[Parallel(n_jobs=4)]: Done 144 out of 144 | elapsed:    0.9s finished\n",
      "C:\\Users\\Utilisateur\\Anaconda3\\lib\\site-packages\\sklearn\\model_selection\\_search.py:814: DeprecationWarning: The default of the `iid` parameter will change from True to False in version 0.22 and will be removed in 0.24. This will change numeric results when test-set sizes are unequal.\n",
      "  DeprecationWarning)\n"
     ]
    }
   ],
   "source": [
    "parametre = {\n",
    "    'alpha': 10.0 ** -np.arange(1, 7),\n",
    "    'loss': ['squared_loss', 'huber', 'epsilon_insensitive'],\n",
    "    'penalty': ['l2', 'l1', 'elasticnet'],\n",
    "    'learning_rate': ['constant', 'optimal', 'invscaling'],\n",
    "}\n",
    "sgdr = SGDRegressor()\n",
    "SGDRegressor1 = GridSearchCV(sgdr, parametre,verbose=1,n_jobs=4)\n",
    "SGDRegressor1.fit(Xtrain1, ytrain1)\n",
    "ypredSGDRegressor1 = SGDRegressor1.predict(Xtest1)\n",
    "#~~~~~~~~~~~~~~~~~~~~~~~~~~~~~~~~~~~~~~~~~~\n",
    "SGDRegressor2 = GridSearchCV(sgdr, parametre,verbose=1,n_jobs=4)\n",
    "SGDRegressor2.fit(Xtrain2, ytrain2)\n",
    "ypredSGDRegressor2 = SGDRegressor2.predict(Xtest2)\n",
    "#~~~~~~~~~~~~~~~~~~~~~~~~~~~~~~~~~~~~~~~~~~\n",
    "parametre = {\n",
    "    'alpha' : 10.0**-np.arange(1,7),\n",
    "    'l1_ratio':[.05, .15, .5, .7, .9, .95, .99, 1]\n",
    "}\n",
    "sgdc = SGDClassifier()\n",
    "SGDClassifier3 = GridSearchCV(sgdc, parametre,verbose=1,n_jobs=4)\n",
    "SGDClassifier3.fit(Xtrain3, ytrain3)\n",
    "ypredSGDClassifier3 = SGDClassifier3.predict(Xtest3)\n",
    "#~~~~~~~~~~~~~~~~~~~~~~~~~~~~~~~~~~~~~~~~~~\n",
    "SGDClassifier4 = GridSearchCV(sgdc, parametre,verbose=1,n_jobs=4)\n",
    "SGDClassifier4.fit(Xtrain4, ytrain4)\n",
    "ypredSGDClassifier4 = SGDClassifier4.predict(Xtest4)"
   ]
  },
  {
   "cell_type": "code",
   "execution_count": 19,
   "metadata": {},
   "outputs": [
    {
     "data": {
      "image/png": "[encoded data removed]",
      "text/plain": [
       "<Figure size 1080x864 with 6 Axes>"
      ]
     },
     "metadata": {
      "needs_background": "light"
     },
     "output_type": "display_data"
    }
   ],
   "source": [
    "plt.figure(figsize=(15,12))\n",
    "plt.subplot(2,2,1)\n",
    "plt.scatter(range(len(ytest1)),ytest1)\n",
    "plt.scatter(range(len(ypredSGDRegressor1)),ypredSGDRegressor1)\n",
    "plt.text(80,10000,\"Score : \"+str(round(SGDRegressor1.best_estimator_.score(Xtest1,ytest1),2)))\n",
    "plt.title(\"SGDRegressor 1 -prix normal ( regression ) / desc dummies des 200 mots \")\n",
    "plt.subplot(2,2,2)\n",
    "plt.scatter(range(len(ytest2)),ytest2)\n",
    "plt.scatter(range(len(ypredSGDRegressor2)),ypredSGDRegressor2)\n",
    "plt.text(80,10000,\"Score : \"+str(round(SGDRegressor2.best_estimator_.score(Xtest2,ytest2),2)))\n",
    "plt.title(\"SGDRegressor 2 - prix normal ( regression ) / desc categorie\")\n",
    "plt.subplot(2,2,3)\n",
    "conf3 = confusion_matrix(ytest3,ypredSGDClassifier3)\n",
    "sns.heatmap(conf3,annot=True)\n",
    "plt.title(\"SGDClassifier 3 - prix categorie / desc dummies des 200 mots \"+ str(round(SGDClassifier3.best_score_,2)))\n",
    "# fix for mpl bug that cuts off top/bottom of seaborn viz\n",
    "b, t = plt.ylim() # discover the values for bottom and top\n",
    "b += 0.5 # Add 0.5 to the bottom\n",
    "t -= 0.5 # Subtract 0.5 from the top\n",
    "plt.ylim(b, t) # update the ylim(bottom, top) values\n",
    "plt.subplot(2,2,4)\n",
    "conf4 = confusion_matrix(ytest4,ypredSGDClassifier4)\n",
    "sns.heatmap(conf4,annot=True)\n",
    "plt.plot(label=\"Score : \"+str(SGDClassifier4.best_score_))\n",
    "plt.title(\"SGDClassifier 4 - prix categorie / desc categorie \"+ str(round(SGDClassifier4.best_score_,2)))\n",
    "# fix for mpl bug that cuts off top/bottom of seaborn viz\n",
    "b, t = plt.ylim() # discover the values for bottom and top\n",
    "b += 0.5 # Add 0.5 to the bottom\n",
    "t -= 0.5 # Subtract 0.5 from the top\n",
    "plt.ylim(b, t) # update the ylim(bottom, top) values\n",
    "plt.show() # ta-da!"
   ]
  },
  {
   "cell_type": "code",
   "execution_count": 86,
   "metadata": {},
   "outputs": [
    {
     "name": "stdout",
     "output_type": "stream",
     "text": [
      "Variance: 0.2313756951874465 \n",
      "Mae : 10451.891461318146 \n",
      "Mse : 281444575.49135876 \n",
      "R² : -0.06934484324028212 \n",
      "\n",
      "Variance: 0.12082600997979587 \n",
      "Mae : 16661.162704774753 \n",
      "Mse : 751770379.5009512 \n",
      "R² : -0.2557826556662637\n",
      "                         precision    recall  f1-score   support\n",
      "\n",
      "              25a60Kans       0.92      0.99      0.96        86\n",
      "             60a200Kans       1.00      0.56      0.71         9\n",
      "millionnairestoutlesans       0.00      0.00      0.00         1\n",
      "          moinsde25Kans       0.71      0.62      0.67         8\n",
      "\n",
      "               accuracy                           0.91       104\n",
      "              macro avg       0.66      0.54      0.58       104\n",
      "           weighted avg       0.91      0.91      0.90       104\n",
      "\n",
      "                         precision    recall  f1-score   support\n",
      "\n",
      "              25a60Kans       0.89      0.94      0.92        89\n",
      "             60a200Kans       0.75      0.43      0.55         7\n",
      "millionnairestoutlesans       0.00      0.00      0.00         1\n",
      "          moinsde25Kans       0.33      0.29      0.31         7\n",
      "\n",
      "               accuracy                           0.86       104\n",
      "              macro avg       0.49      0.41      0.44       104\n",
      "           weighted avg       0.84      0.86      0.84       104\n",
      "\n"
     ]
    },
    {
     "name": "stderr",
     "output_type": "stream",
     "text": [
      "C:\\Users\\Utilisateur\\Anaconda3\\lib\\site-packages\\sklearn\\metrics\\classification.py:1437: UndefinedMetricWarning: Precision and F-score are ill-defined and being set to 0.0 in labels with no predicted samples.\n",
      "  'precision', 'predicted', average, warn_for)\n",
      "C:\\Users\\Utilisateur\\Anaconda3\\lib\\site-packages\\sklearn\\metrics\\classification.py:1437: UndefinedMetricWarning: Precision is ill-defined and being set to 0.0 in labels with no predicted samples.\n",
      "  'precision', 'predicted', average, warn_for)\n"
     ]
    }
   ],
   "source": [
    "print('Variance:', explained_variance_score(ytest1,ypredSGDRegressor1),'\\nMae :', mean_absolute_error(ytest1,ypredSGDRegressor1),'\\nMse :', mean_squared_error(ytest1,ypredSGDRegressor1),'\\nR² :', r2_score(ytest1,ypredSGDRegressor1),'\\n')\n",
    "print('Variance:', explained_variance_score(ytest2,ypredSGDRegressor2),'\\nMae :', mean_absolute_error(ytest2,ypredSGDRegressor2),'\\nMse :', mean_squared_error(ytest2,ypredSGDRegressor2),'\\nR² :', r2_score(ytest2,ypredSGDRegressor2))\n",
    "print(classification_report(ytest3,ypredSGDClassifier3))\n",
    "print(classification_report(ytest4,ypredSGDClassifier4))\n",
    "un = [explained_variance_score(ytest1,ypredSGDRegressor1),mean_absolute_error(ytest1,ypredSGDRegressor1),mean_squared_error(ytest1,ypredSGDRegressor1),r2_score(ytest1,ypredSGDRegressor1)]\n",
    "deux = [explained_variance_score(ytest2,ypredSGDRegressor2),mean_absolute_error(ytest2,ypredSGDRegressor2),mean_squared_error(ytest2,ypredSGDRegressor2),r2_score(ytest2,ypredSGDRegressor2)]\n",
    "resreSGD = pd.DataFrame([un,deux],columns=[\"Variance\",\"MAE\",'MSE','R²'], index =['SGDReg1','SGDReg2'])\n",
    "un = [precision_score(ytest3,ypredSGDClassifier3,average=\"weighted\"),recall_score(ytest3,ypredSGDClassifier3,average=\"weighted\"),accuracy_score(ytest3,ypredSGDClassifier3)]\n",
    "deux = [precision_score(ytest4,ypredSGDClassifier4,average=\"weighted\"),recall_score(ytest4,ypredSGDClassifier4,average=\"weighted\"),accuracy_score(ytest4,ypredSGDClassifier4)]\n",
    "resclassSGD = pd.DataFrame([un,deux],columns=[\"Precision\",\"Recall\",'Accuracy'], index =['SGDclass1','SGDclass2'])"
   ]
  },
  {
   "cell_type": "code",
   "execution_count": 21,
   "metadata": {},
   "outputs": [
    {
     "name": "stdout",
     "output_type": "stream",
     "text": [
      "SGDRegressor 1 {'alpha': 0.0001, 'learning_rate': 'optimal', 'loss': 'epsilon_insensitive', 'penalty': 'l2'}\n",
      "SGDRegressor 2 {'alpha': 0.0001, 'learning_rate': 'optimal', 'loss': 'epsilon_insensitive', 'penalty': 'l2'}\n",
      "SGDClassifier 3 {'alpha': 0.01, 'l1_ratio': 0.15}\n",
      "SGDClassifier 4 {'alpha': 0.001, 'l1_ratio': 0.15}\n"
     ]
    }
   ],
   "source": [
    "print('SGDRegressor 1',SGDRegressor1.best_params_)\n",
    "print('SGDRegressor 2',SGDRegressor2.best_params_)\n",
    "print('SGDClassifier 3',SGDClassifier3.best_params_)\n",
    "print('SGDClassifier 4',SGDClassifier4.best_params_)"
   ]
  },
  {
   "cell_type": "markdown",
   "metadata": {},
   "source": [
    "<h1 style='text-align:center'>Lasso / SVC </h1>"
   ]
  },
  {
   "cell_type": "code",
   "execution_count": 22,
   "metadata": {},
   "outputs": [
    {
     "name": "stderr",
     "output_type": "stream",
     "text": [
      "C:\\Users\\Utilisateur\\Anaconda3\\lib\\site-packages\\sklearn\\model_selection\\_split.py:1978: FutureWarning: The default value of cv will change from 3 to 5 in version 0.22. Specify it explicitly to silence this warning.\n",
      "  warnings.warn(CV_WARNING, FutureWarning)\n",
      "[Parallel(n_jobs=4)]: Using backend LokyBackend with 4 concurrent workers.\n"
     ]
    },
    {
     "name": "stdout",
     "output_type": "stream",
     "text": [
      "Fitting 3 folds for each of 24 candidates, totalling 72 fits\n"
     ]
    },
    {
     "name": "stderr",
     "output_type": "stream",
     "text": [
      "[Parallel(n_jobs=4)]: Done  72 out of  72 | elapsed:    0.3s finished\n",
      "C:\\Users\\Utilisateur\\Anaconda3\\lib\\site-packages\\sklearn\\model_selection\\_search.py:814: DeprecationWarning: The default of the `iid` parameter will change from True to False in version 0.22 and will be removed in 0.24. This will change numeric results when test-set sizes are unequal.\n",
      "  DeprecationWarning)\n",
      "C:\\Users\\Utilisateur\\Anaconda3\\lib\\site-packages\\sklearn\\model_selection\\_split.py:1978: FutureWarning: The default value of cv will change from 3 to 5 in version 0.22. Specify it explicitly to silence this warning.\n",
      "  warnings.warn(CV_WARNING, FutureWarning)\n",
      "[Parallel(n_jobs=4)]: Using backend LokyBackend with 4 concurrent workers.\n"
     ]
    },
    {
     "name": "stdout",
     "output_type": "stream",
     "text": [
      "Fitting 3 folds for each of 24 candidates, totalling 72 fits\n"
     ]
    },
    {
     "name": "stderr",
     "output_type": "stream",
     "text": [
      "[Parallel(n_jobs=4)]: Done  72 out of  72 | elapsed:    0.3s finished\n",
      "C:\\Users\\Utilisateur\\Anaconda3\\lib\\site-packages\\sklearn\\model_selection\\_search.py:814: DeprecationWarning: The default of the `iid` parameter will change from True to False in version 0.22 and will be removed in 0.24. This will change numeric results when test-set sizes are unequal.\n",
      "  DeprecationWarning)\n",
      "C:\\Users\\Utilisateur\\Anaconda3\\lib\\site-packages\\sklearn\\model_selection\\_split.py:1978: FutureWarning: The default value of cv will change from 3 to 5 in version 0.22. Specify it explicitly to silence this warning.\n",
      "  warnings.warn(CV_WARNING, FutureWarning)\n",
      "C:\\Users\\Utilisateur\\Anaconda3\\lib\\site-packages\\sklearn\\model_selection\\_split.py:657: Warning: The least populated class in y has only 1 members, which is too few. The minimum number of members in any class cannot be less than n_splits=3.\n",
      "  % (min_groups, self.n_splits)), Warning)\n",
      "[Parallel(n_jobs=4)]: Using backend LokyBackend with 4 concurrent workers.\n"
     ]
    },
    {
     "name": "stdout",
     "output_type": "stream",
     "text": [
      "Fitting 3 folds for each of 48 candidates, totalling 144 fits\n"
     ]
    },
    {
     "name": "stderr",
     "output_type": "stream",
     "text": [
      "[Parallel(n_jobs=4)]: Done 123 tasks      | elapsed:    1.0s\n",
      "[Parallel(n_jobs=4)]: Done 144 out of 144 | elapsed:    1.1s finished\n",
      "C:\\Users\\Utilisateur\\Anaconda3\\lib\\site-packages\\sklearn\\model_selection\\_search.py:814: DeprecationWarning: The default of the `iid` parameter will change from True to False in version 0.22 and will be removed in 0.24. This will change numeric results when test-set sizes are unequal.\n",
      "  DeprecationWarning)\n",
      "C:\\Users\\Utilisateur\\Anaconda3\\lib\\site-packages\\sklearn\\model_selection\\_split.py:1978: FutureWarning: The default value of cv will change from 3 to 5 in version 0.22. Specify it explicitly to silence this warning.\n",
      "  warnings.warn(CV_WARNING, FutureWarning)\n",
      "C:\\Users\\Utilisateur\\Anaconda3\\lib\\site-packages\\sklearn\\model_selection\\_split.py:657: Warning: The least populated class in y has only 1 members, which is too few. The minimum number of members in any class cannot be less than n_splits=3.\n",
      "  % (min_groups, self.n_splits)), Warning)\n",
      "[Parallel(n_jobs=4)]: Using backend LokyBackend with 4 concurrent workers.\n"
     ]
    },
    {
     "name": "stdout",
     "output_type": "stream",
     "text": [
      "Fitting 3 folds for each of 48 candidates, totalling 144 fits\n"
     ]
    },
    {
     "name": "stderr",
     "output_type": "stream",
     "text": [
      "[Parallel(n_jobs=4)]: Done 125 tasks      | elapsed:    1.4s\n",
      "[Parallel(n_jobs=4)]: Done 144 out of 144 | elapsed:    1.5s finished\n",
      "C:\\Users\\Utilisateur\\Anaconda3\\lib\\site-packages\\sklearn\\model_selection\\_search.py:814: DeprecationWarning: The default of the `iid` parameter will change from True to False in version 0.22 and will be removed in 0.24. This will change numeric results when test-set sizes are unequal.\n",
      "  DeprecationWarning)\n"
     ]
    }
   ],
   "source": [
    "parametre = {\n",
    "    'alpha': [1.e-01, 1.e-02, 1.e-03, 1.e-04, 1.e-05, 1.e-06],\n",
    "    'precompute': [True, False],\n",
    "    'selection': ['cyclic', 'random']\n",
    "}\n",
    "lasso = Lasso()\n",
    "lasso1 = GridSearchCV(lasso, parametre,verbose=1,n_jobs=4)\n",
    "lasso1.fit(Xtrain1, ytrain1)\n",
    "ypredlasso1 = lasso1.predict(Xtest1)\n",
    "#~~~~~~~~~~~~~~~~~~~~~~~~~~~~~~~~~~~~~~~~~~\n",
    "lasso2 = GridSearchCV(lasso, parametre,verbose=1,n_jobs=4)\n",
    "lasso2.fit(Xtrain2, ytrain2)\n",
    "ypredlasso2 = lasso2.predict(Xtest2)\n",
    "#~~~~~~~~~~~~~~~~~~~~~~~~~~~~~~~~~~~~~~~~~~\n",
    "parametre = {\n",
    "    'C': [0.1,1, 10, 100],\n",
    "    'gamma': [1,0.1,0.01,0.001],\n",
    "    'kernel': ['rbf', 'poly', 'sigmoid']\n",
    "}\n",
    "svc = SVC()\n",
    "SvectorC3 = GridSearchCV(svc, parametre,verbose=1,n_jobs=4)\n",
    "SvectorC3.fit(Xtrain3, ytrain3)\n",
    "ypredSvectorC3 = SvectorC3.predict(Xtest3)\n",
    "#~~~~~~~~~~~~~~~~~~~~~~~~~~~~~~~~~~~~~~~~~~\n",
    "SvectorC4 = GridSearchCV(svc, parametre,verbose=1,n_jobs=4)\n",
    "SvectorC4.fit(Xtrain4, ytrain4)\n",
    "ypredSvectorC4 = SvectorC4.predict(Xtest4)"
   ]
  },
  {
   "cell_type": "code",
   "execution_count": 23,
   "metadata": {},
   "outputs": [
    {
     "data": {
      "image/png": "[encoded data removed]",
      "text/plain": [
       "<Figure size 1080x864 with 6 Axes>"
      ]
     },
     "metadata": {
      "needs_background": "light"
     },
     "output_type": "display_data"
    }
   ],
   "source": [
    "plt.figure(figsize=(15,12))\n",
    "plt.subplot(2,2,1)\n",
    "plt.scatter(range(len(ytest1)),ytest1)\n",
    "plt.scatter(range(len(ypredlasso1)),ypredlasso1)\n",
    "plt.text(80,10000,\"Score : \"+str(round(lasso1.best_estimator_.score(Xtest1,ytest1),2)))\n",
    "plt.title(\"Lasso 1 -prix normal ( regression ) / desc dummies des 200 mots \")\n",
    "plt.subplot(2,2,2)\n",
    "plt.scatter(range(len(ytest2)),ytest2)\n",
    "plt.scatter(range(len(ypredlasso2)),ypredlasso2)\n",
    "plt.text(80,10000,\"Score : \"+str(round(lasso2.best_estimator_.score(Xtest2,ytest2),2)))\n",
    "plt.title(\"Lasso 2 - prix normal ( regression ) / desc categorie\")\n",
    "plt.subplot(2,2,3)\n",
    "conf3 = confusion_matrix(ytest3,ypredSvectorC3)\n",
    "sns.heatmap(conf3,annot=True)\n",
    "plt.title(\"SVC 3 - prix categorie / desc dummies des 200 mots \"+ str(round(SvectorC3.best_score_,2)))\n",
    "# fix for mpl bug that cuts off top/bottom of seaborn viz\n",
    "b, t = plt.ylim() # discover the values for bottom and top\n",
    "b += 0.5 # Add 0.5 to the bottom\n",
    "t -= 0.5 # Subtract 0.5 from the top\n",
    "plt.ylim(b, t) # update the ylim(bottom, top) values\n",
    "plt.subplot(2,2,4)\n",
    "conf4 = confusion_matrix(ytest4,ypredSvectorC4)\n",
    "sns.heatmap(conf4,annot=True)\n",
    "plt.plot(label=\"Score : \"+str(SvectorC4.best_score_))\n",
    "plt.title(\"SVC 4 - prix categorie / desc categorie \"+ str(round(SvectorC4.best_score_,2)))\n",
    "# fix for mpl bug that cuts off top/bottom of seaborn viz\n",
    "b, t = plt.ylim() # discover the values for bottom and top\n",
    "b += 0.5 # Add 0.5 to the bottom\n",
    "t -= 0.5 # Subtract 0.5 from the top\n",
    "plt.ylim(b, t) # update the ylim(bottom, top) values\n",
    "plt.show() # ta-da!"
   ]
  },
  {
   "cell_type": "code",
   "execution_count": 87,
   "metadata": {},
   "outputs": [
    {
     "name": "stdout",
     "output_type": "stream",
     "text": [
      "Variance: -642.971073502467 \n",
      "Mae : 106030.63270402372 \n",
      "Mse : 174449415944.03223 \n",
      "R² : -661.8181872766544 \n",
      "\n",
      "Variance: -132.12199035539206 \n",
      "Mae : 166279.85324052582 \n",
      "Mse : 80282625619.63693 \n",
      "R² : -133.10681180524023\n",
      "                         precision    recall  f1-score   support\n",
      "\n",
      "              25a60Kans       0.94      0.98      0.96        86\n",
      "             60a200Kans       0.88      0.78      0.82         9\n",
      "millionnairestoutlesans       1.00      1.00      1.00         1\n",
      "          moinsde25Kans       0.83      0.62      0.71         8\n",
      "\n",
      "               accuracy                           0.93       104\n",
      "              macro avg       0.91      0.84      0.87       104\n",
      "           weighted avg       0.93      0.93      0.93       104\n",
      "\n",
      "                         precision    recall  f1-score   support\n",
      "\n",
      "              25a60Kans       0.88      0.99      0.93        89\n",
      "             60a200Kans       0.75      0.43      0.55         7\n",
      "millionnairestoutlesans       0.00      0.00      0.00         1\n",
      "          moinsde25Kans       0.00      0.00      0.00         7\n",
      "\n",
      "               accuracy                           0.88       104\n",
      "              macro avg       0.41      0.35      0.37       104\n",
      "           weighted avg       0.80      0.88      0.83       104\n",
      "\n"
     ]
    },
    {
     "name": "stderr",
     "output_type": "stream",
     "text": [
      "C:\\Users\\Utilisateur\\Anaconda3\\lib\\site-packages\\sklearn\\metrics\\classification.py:1437: UndefinedMetricWarning: Precision and F-score are ill-defined and being set to 0.0 in labels with no predicted samples.\n",
      "  'precision', 'predicted', average, warn_for)\n",
      "C:\\Users\\Utilisateur\\Anaconda3\\lib\\site-packages\\sklearn\\metrics\\classification.py:1437: UndefinedMetricWarning: Precision is ill-defined and being set to 0.0 in labels with no predicted samples.\n",
      "  'precision', 'predicted', average, warn_for)\n"
     ]
    }
   ],
   "source": [
    "print('Variance:', explained_variance_score(ytest1,ypredlasso1),'\\nMae :', mean_absolute_error(ytest1,ypredlasso1),'\\nMse :', mean_squared_error(ytest1,ypredlasso1),'\\nR² :', r2_score(ytest1,ypredlasso1),'\\n')\n",
    "print('Variance:', explained_variance_score(ytest2,ypredlasso2),'\\nMae :', mean_absolute_error(ytest2,ypredlasso2),'\\nMse :', mean_squared_error(ytest2,ypredlasso2),'\\nR² :', r2_score(ytest2,ypredlasso2))\n",
    "print(classification_report(ytest3,ypredSvectorC3))\n",
    "print(classification_report(ytest4,ypredSvectorC4))\n",
    "un = [explained_variance_score(ytest1,ypredlasso1),mean_absolute_error(ytest1,ypredlasso1),mean_squared_error(ytest1,ypredlasso1),r2_score(ytest1,ypredlasso1)]\n",
    "deux = [explained_variance_score(ytest2,ypredlasso2),mean_absolute_error(ytest2,ypredlasso2),mean_squared_error(ytest2,ypredlasso2),r2_score(ytest2,ypredlasso2)]\n",
    "resreglasso = pd.DataFrame([un,deux],columns=[\"Variance\",\"MAE\",'MSE','R²'], index =['LassoReg1','LassoReg2'])\n",
    "un = [precision_score(ytest3,ypredSvectorC3,average=\"weighted\"),recall_score(ytest3,ypredSvectorC3,average=\"weighted\"),accuracy_score(ytest3,ypredSvectorC3)]\n",
    "deux = [precision_score(ytest4,ypredSvectorC4,average=\"weighted\"),recall_score(ytest4,ypredSvectorC4,average=\"weighted\"),accuracy_score(ytest4,ypredSvectorC4)]\n",
    "resclassSVC = pd.DataFrame([un,deux],columns=[\"Precision\",\"Recall\",'Accuracy'], index =['SVCclass1','SVCclass2'])"
   ]
  },
  {
   "cell_type": "code",
   "execution_count": 25,
   "metadata": {},
   "outputs": [
    {
     "name": "stdout",
     "output_type": "stream",
     "text": [
      "SGDRegressor 1 {'alpha': 0.001, 'precompute': False, 'selection': 'random'}\n",
      "SGDRegressor 2 {'alpha': 0.001, 'precompute': True, 'selection': 'random'}\n",
      "SGDClassifier 3 {'C': 100, 'gamma': 0.01, 'kernel': 'rbf'}\n",
      "SGDClassifier 4 {'C': 10, 'gamma': 0.01, 'kernel': 'rbf'}\n"
     ]
    }
   ],
   "source": [
    "print('SGDRegressor 1',lasso1.best_params_)\n",
    "print('SGDRegressor 2',lasso2.best_params_)\n",
    "print('SGDClassifier 3',SvectorC3.best_params_)\n",
    "print('SGDClassifier 4',SvectorC4.best_params_)"
   ]
  },
  {
   "cell_type": "markdown",
   "metadata": {},
   "source": [
    "<h1 style='text-align:center'>Ridge / Nayves Bayes </h1>"
   ]
  },
  {
   "cell_type": "code",
   "execution_count": 26,
   "metadata": {},
   "outputs": [
    {
     "name": "stdout",
     "output_type": "stream",
     "text": [
      "Fitting 3 folds for each of 25 candidates, totalling 75 fits\n"
     ]
    },
    {
     "name": "stderr",
     "output_type": "stream",
     "text": [
      "C:\\Users\\Utilisateur\\Anaconda3\\lib\\site-packages\\sklearn\\model_selection\\_split.py:1978: FutureWarning: The default value of cv will change from 3 to 5 in version 0.22. Specify it explicitly to silence this warning.\n",
      "  warnings.warn(CV_WARNING, FutureWarning)\n",
      "[Parallel(n_jobs=4)]: Using backend LokyBackend with 4 concurrent workers.\n",
      "[Parallel(n_jobs=4)]: Done  75 out of  75 | elapsed:    0.3s finished\n",
      "C:\\Users\\Utilisateur\\Anaconda3\\lib\\site-packages\\sklearn\\model_selection\\_search.py:814: DeprecationWarning: The default of the `iid` parameter will change from True to False in version 0.22 and will be removed in 0.24. This will change numeric results when test-set sizes are unequal.\n",
      "  DeprecationWarning)\n",
      "C:\\Users\\Utilisateur\\Anaconda3\\lib\\site-packages\\sklearn\\model_selection\\_split.py:1978: FutureWarning: The default value of cv will change from 3 to 5 in version 0.22. Specify it explicitly to silence this warning.\n",
      "  warnings.warn(CV_WARNING, FutureWarning)\n",
      "[Parallel(n_jobs=4)]: Using backend LokyBackend with 4 concurrent workers.\n"
     ]
    },
    {
     "name": "stdout",
     "output_type": "stream",
     "text": [
      "Fitting 3 folds for each of 25 candidates, totalling 75 fits\n"
     ]
    },
    {
     "name": "stderr",
     "output_type": "stream",
     "text": [
      "[Parallel(n_jobs=4)]: Done  75 out of  75 | elapsed:    0.6s finished\n",
      "C:\\Users\\Utilisateur\\Anaconda3\\lib\\site-packages\\sklearn\\model_selection\\_search.py:814: DeprecationWarning: The default of the `iid` parameter will change from True to False in version 0.22 and will be removed in 0.24. This will change numeric results when test-set sizes are unequal.\n",
      "  DeprecationWarning)\n",
      "C:\\Users\\Utilisateur\\Anaconda3\\lib\\site-packages\\sklearn\\model_selection\\_split.py:1978: FutureWarning: The default value of cv will change from 3 to 5 in version 0.22. Specify it explicitly to silence this warning.\n",
      "  warnings.warn(CV_WARNING, FutureWarning)\n",
      "C:\\Users\\Utilisateur\\Anaconda3\\lib\\site-packages\\sklearn\\model_selection\\_split.py:657: Warning: The least populated class in y has only 1 members, which is too few. The minimum number of members in any class cannot be less than n_splits=3.\n",
      "  % (min_groups, self.n_splits)), Warning)\n",
      "[Parallel(n_jobs=4)]: Using backend LokyBackend with 4 concurrent workers.\n"
     ]
    },
    {
     "name": "stdout",
     "output_type": "stream",
     "text": [
      "Fitting 3 folds for each of 100 candidates, totalling 300 fits\n"
     ]
    },
    {
     "name": "stderr",
     "output_type": "stream",
     "text": [
      "[Parallel(n_jobs=4)]: Done 220 tasks      | elapsed:    0.7s\n",
      "[Parallel(n_jobs=4)]: Done 300 out of 300 | elapsed:    0.9s finished\n",
      "C:\\Users\\Utilisateur\\Anaconda3\\lib\\site-packages\\sklearn\\model_selection\\_search.py:814: DeprecationWarning: The default of the `iid` parameter will change from True to False in version 0.22 and will be removed in 0.24. This will change numeric results when test-set sizes are unequal.\n",
      "  DeprecationWarning)\n",
      "C:\\Users\\Utilisateur\\Anaconda3\\lib\\site-packages\\sklearn\\model_selection\\_split.py:1978: FutureWarning: The default value of cv will change from 3 to 5 in version 0.22. Specify it explicitly to silence this warning.\n",
      "  warnings.warn(CV_WARNING, FutureWarning)\n",
      "C:\\Users\\Utilisateur\\Anaconda3\\lib\\site-packages\\sklearn\\model_selection\\_split.py:657: Warning: The least populated class in y has only 1 members, which is too few. The minimum number of members in any class cannot be less than n_splits=3.\n",
      "  % (min_groups, self.n_splits)), Warning)\n",
      "[Parallel(n_jobs=4)]: Using backend LokyBackend with 4 concurrent workers.\n"
     ]
    },
    {
     "name": "stdout",
     "output_type": "stream",
     "text": [
      "Fitting 3 folds for each of 100 candidates, totalling 300 fits\n"
     ]
    },
    {
     "name": "stderr",
     "output_type": "stream",
     "text": [
      "[Parallel(n_jobs=4)]: Done 235 tasks      | elapsed:    0.9s\n",
      "[Parallel(n_jobs=4)]: Done 300 out of 300 | elapsed:    1.2s finished\n",
      "C:\\Users\\Utilisateur\\Anaconda3\\lib\\site-packages\\sklearn\\model_selection\\_search.py:814: DeprecationWarning: The default of the `iid` parameter will change from True to False in version 0.22 and will be removed in 0.24. This will change numeric results when test-set sizes are unequal.\n",
      "  DeprecationWarning)\n"
     ]
    }
   ],
   "source": [
    "parametre = {\n",
    "    'alpha':[0.02, 0.024, 0.025, 0.026, 0.03],\n",
    "    'solver': ['auto', 'svd', 'cholesky', 'lsqr', 'sparse_cg']\n",
    "}\n",
    "ridge = Ridge()\n",
    "ridge1 = GridSearchCV(ridge, parametre,verbose=1,n_jobs=4)\n",
    "ridge1.fit(Xtrain1, ytrain1)\n",
    "ypredridge1 = ridge1.predict(Xtest1)\n",
    "#~~~~~~~~~~~~~~~~~~~~~~~~~~~~~~~~~~~~~~~~~~\n",
    "ridge2 = GridSearchCV(ridge, parametre,verbose=1,n_jobs=4)\n",
    "ridge2.fit(Xtrain2, ytrain2)\n",
    "ypredridge2 = ridge2.predict(Xtest2)\n",
    "#~~~~~~~~~~~~~~~~~~~~~~~~~~~~~~~~~~~~~~~~~~\n",
    "parametre = {\n",
    "    'var_smoothing': np.logspace(0,-9, num=100)\n",
    "}\n",
    "gnb = GaussianNB()\n",
    "gnb3 = GridSearchCV(gnb, parametre,verbose=1,n_jobs=4)\n",
    "gnb3.fit(Xtrain3, ytrain3)\n",
    "ypredgnb3 = gnb3.predict(Xtest3)\n",
    "#~~~~~~~~~~~~~~~~~~~~~~~~~~~~~~~~~~~~~~~~~~\n",
    "gnb4 = GridSearchCV(gnb, parametre,verbose=1,n_jobs=4)\n",
    "gnb4.fit(Xtrain4, ytrain4)\n",
    "ypredgnb4 = gnb4.predict(Xtest4)"
   ]
  },
  {
   "cell_type": "code",
   "execution_count": 27,
   "metadata": {},
   "outputs": [
    {
     "data": {
      "image/png": "[encoded data removed]",
      "text/plain": [
       "<Figure size 1080x864 with 6 Axes>"
      ]
     },
     "metadata": {
      "needs_background": "light"
     },
     "output_type": "display_data"
    }
   ],
   "source": [
    "plt.figure(figsize=(15,12))\n",
    "plt.subplot(2,2,1)\n",
    "plt.scatter(range(len(ytest1)),ytest1)\n",
    "plt.scatter(range(len(ypredridge1)),ypredridge1)\n",
    "plt.text(80,10000,\"Score : \"+str(round(ridge1.best_estimator_.score(Xtest1,ytest1),2)))\n",
    "plt.title(\"Ridge 1 -prix normal ( regression ) / desc dummies des 200 mots \")\n",
    "plt.subplot(2,2,2)\n",
    "plt.scatter(range(len(ytest2)),ytest2)\n",
    "plt.scatter(range(len(ypredridge2)),ypredridge2)\n",
    "plt.text(80,10000,\"Score : \"+str(round(ridge2.best_estimator_.score(Xtest2,ytest2),2)))\n",
    "plt.title(\"Ridge 2 - prix normal ( regression ) / desc categorie\")\n",
    "plt.subplot(2,2,3)\n",
    "conf3 = confusion_matrix(ytest3,ypredgnb3)\n",
    "sns.heatmap(conf3,annot=True)\n",
    "plt.title(\"GNB 3 - prix categorie / desc dummies des 200 mots \"+ str(round(gnb3.best_score_,2)))\n",
    "# fix for mpl bug that cuts off top/bottom of seaborn viz\n",
    "b, t = plt.ylim() # discover the values for bottom and top\n",
    "b += 0.5 # Add 0.5 to the bottom\n",
    "t -= 0.5 # Subtract 0.5 from the top\n",
    "plt.ylim(b, t) # update the ylim(bottom, top) values\n",
    "plt.subplot(2,2,4)\n",
    "conf4 = confusion_matrix(ytest4,ypredgnb4)\n",
    "sns.heatmap(conf4,annot=True)\n",
    "plt.plot(label=\"Score : \"+str(gnb4.best_score_))\n",
    "plt.title(\"GNB 4 - prix categorie / desc categorie \"+ str(round(gnb4.best_score_,2)))\n",
    "# fix for mpl bug that cuts off top/bottom of seaborn viz\n",
    "b, t = plt.ylim() # discover the values for bottom and top\n",
    "b += 0.5 # Add 0.5 to the bottom\n",
    "t -= 0.5 # Subtract 0.5 from the top\n",
    "plt.ylim(b, t) # update the ylim(bottom, top) values\n",
    "plt.show() # ta-da!"
   ]
  },
  {
   "cell_type": "code",
   "execution_count": 88,
   "metadata": {},
   "outputs": [
    {
     "name": "stdout",
     "output_type": "stream",
     "text": [
      "Variance: -206.42055112671596 \n",
      "Mae : 77384.71168008875 \n",
      "Mse : 58110693219.415 \n",
      "R² : -219.79078988398328 \n",
      "\n",
      "Variance: -31.355137630721003 \n",
      "Mae : 103172.1280511343 \n",
      "Mse : 19634275013.46092 \n",
      "R² : -31.79775672307467\n",
      "                         precision    recall  f1-score   support\n",
      "\n",
      "              25a60Kans       0.90      0.99      0.94        86\n",
      "             60a200Kans       1.00      0.44      0.62         9\n",
      "millionnairestoutlesans       1.00      1.00      1.00         1\n",
      "          moinsde25Kans       0.60      0.38      0.46         8\n",
      "\n",
      "               accuracy                           0.89       104\n",
      "              macro avg       0.88      0.70      0.76       104\n",
      "           weighted avg       0.89      0.89      0.88       104\n",
      "\n",
      "                         precision    recall  f1-score   support\n",
      "\n",
      "              25a60Kans       0.88      0.85      0.87        89\n",
      "             60a200Kans       0.23      0.43      0.30         7\n",
      "millionnairestoutlesans       0.00      0.00      0.00         1\n",
      "          moinsde25Kans       0.20      0.14      0.17         7\n",
      "\n",
      "               accuracy                           0.77       104\n",
      "              macro avg       0.33      0.36      0.33       104\n",
      "           weighted avg       0.79      0.77      0.77       104\n",
      "\n"
     ]
    },
    {
     "name": "stderr",
     "output_type": "stream",
     "text": [
      "C:\\Users\\Utilisateur\\Anaconda3\\lib\\site-packages\\sklearn\\metrics\\classification.py:1437: UndefinedMetricWarning: Precision and F-score are ill-defined and being set to 0.0 in labels with no predicted samples.\n",
      "  'precision', 'predicted', average, warn_for)\n",
      "C:\\Users\\Utilisateur\\Anaconda3\\lib\\site-packages\\sklearn\\metrics\\classification.py:1437: UndefinedMetricWarning: Precision is ill-defined and being set to 0.0 in labels with no predicted samples.\n",
      "  'precision', 'predicted', average, warn_for)\n"
     ]
    }
   ],
   "source": [
    "print('Variance:', explained_variance_score(ytest1,ypredridge1),'\\nMae :', mean_absolute_error(ytest1,ypredridge1),'\\nMse :', mean_squared_error(ytest1,ypredridge1),'\\nR² :', r2_score(ytest1,ypredridge1),'\\n')\n",
    "print('Variance:', explained_variance_score(ytest2,ypredridge2),'\\nMae :', mean_absolute_error(ytest2,ypredridge2),'\\nMse :', mean_squared_error(ytest2,ypredridge2),'\\nR² :', r2_score(ytest2,ypredridge2))\n",
    "print(classification_report(ytest3,ypredgnb3))\n",
    "print(classification_report(ytest4,ypredgnb4))\n",
    "un = [explained_variance_score(ytest1,ypredridge1),mean_absolute_error(ytest1,ypredridge1),mean_squared_error(ytest1,ypredridge1),r2_score(ytest1,ypredridge1)]\n",
    "deux = [explained_variance_score(ytest2,ypredridge2),mean_absolute_error(ytest2,ypredridge2),mean_squared_error(ytest2,ypredridge2),r2_score(ytest2,ypredridge2)]\n",
    "resregridge = pd.DataFrame([un,deux],columns=[\"Variance\",\"MAE\",'MSE','R²'], index =['RidgeReg1','RidgeReg2'])\n",
    "un = [precision_score(ytest3,ypredgnb3,average=\"weighted\"),recall_score(ytest3,ypredgnb3,average=\"weighted\"),accuracy_score(ytest3,ypredgnb3)]\n",
    "deux = [precision_score(ytest4,ypredgnb4,average=\"weighted\"),recall_score(ytest4,ypredgnb4,average=\"weighted\"),accuracy_score(ytest4,ypredgnb4)]\n",
    "resclassGNB = pd.DataFrame([un,deux],columns=[\"Precision\",\"Recall\",'Accuracy'], index =['GNBclass1','GNBclass2'])"
   ]
  },
  {
   "cell_type": "code",
   "execution_count": 29,
   "metadata": {},
   "outputs": [
    {
     "name": "stdout",
     "output_type": "stream",
     "text": [
      "ridge 1 {'alpha': 0.03, 'solver': 'sparse_cg'}\n",
      "ridge 2 {'alpha': 0.025, 'solver': 'lsqr'}\n",
      "Naives Bayesienne 3 {'var_smoothing': 0.1}\n",
      "Naives Bayesienne 4 {'var_smoothing': 8.111308307896872e-05}\n"
     ]
    }
   ],
   "source": [
    "print('ridge 1',ridge1.best_params_)\n",
    "print('ridge 2',ridge2.best_params_)\n",
    "print('Naives Bayesienne 3',gnb3.best_params_)\n",
    "print('Naives Bayesienne 4',gnb4.best_params_)"
   ]
  },
  {
   "cell_type": "code",
   "execution_count": 100,
   "metadata": {},
   "outputs": [
    {
     "data": {
      "text/html": [
       "<div>\n",
       "<style scoped>\n",
       "    .dataframe tbody tr th:only-of-type {\n",
       "        vertical-align: middle;\n",
       "    }\n",
       "\n",
       "    .dataframe tbody tr th {\n",
       "        vertical-align: top;\n",
       "    }\n",
       "\n",
       "    .dataframe thead th {\n",
       "        text-align: right;\n",
       "    }\n",
       "</style>\n",
       "<table border=\"1\" class=\"dataframe\">\n",
       "  <thead>\n",
       "    <tr style=\"text-align: right;\">\n",
       "      <th></th>\n",
       "      <th>Precision</th>\n",
       "      <th>Recall</th>\n",
       "      <th>Accuracy</th>\n",
       "    </tr>\n",
       "  </thead>\n",
       "  <tbody>\n",
       "    <tr>\n",
       "      <th>Forestclass1</th>\n",
       "      <td>0.700472</td>\n",
       "      <td>0.769231</td>\n",
       "      <td>0.769231</td>\n",
       "    </tr>\n",
       "    <tr>\n",
       "      <th>Forestclass2</th>\n",
       "      <td>0.724784</td>\n",
       "      <td>0.798077</td>\n",
       "      <td>0.798077</td>\n",
       "    </tr>\n",
       "    <tr>\n",
       "      <th>XGBoostclass1</th>\n",
       "      <td>0.875295</td>\n",
       "      <td>0.894231</td>\n",
       "      <td>0.894231</td>\n",
       "    </tr>\n",
       "    <tr>\n",
       "      <th>XGBoostclass2</th>\n",
       "      <td>0.856141</td>\n",
       "      <td>0.865385</td>\n",
       "      <td>0.865385</td>\n",
       "    </tr>\n",
       "    <tr>\n",
       "      <th>SGDclass1</th>\n",
       "      <td>0.905489</td>\n",
       "      <td>0.913462</td>\n",
       "      <td>0.913462</td>\n",
       "    </tr>\n",
       "    <tr>\n",
       "      <th>SGDclass2</th>\n",
       "      <td>0.837647</td>\n",
       "      <td>0.855769</td>\n",
       "      <td>0.855769</td>\n",
       "    </tr>\n",
       "    <tr>\n",
       "      <th>SVCclass1</th>\n",
       "      <td>0.929906</td>\n",
       "      <td>0.932692</td>\n",
       "      <td>0.932692</td>\n",
       "    </tr>\n",
       "    <tr>\n",
       "      <th>SVCclass2</th>\n",
       "      <td>0.803558</td>\n",
       "      <td>0.875000</td>\n",
       "      <td>0.875000</td>\n",
       "    </tr>\n",
       "    <tr>\n",
       "      <th>GNBclass1</th>\n",
       "      <td>0.890057</td>\n",
       "      <td>0.894231</td>\n",
       "      <td>0.894231</td>\n",
       "    </tr>\n",
       "    <tr>\n",
       "      <th>GNBclass2</th>\n",
       "      <td>0.785255</td>\n",
       "      <td>0.769231</td>\n",
       "      <td>0.769231</td>\n",
       "    </tr>\n",
       "  </tbody>\n",
       "</table>\n",
       "</div>"
      ],
      "text/plain": [
       "               Precision    Recall  Accuracy\n",
       "Forestclass1    0.700472  0.769231  0.769231\n",
       "Forestclass2    0.724784  0.798077  0.798077\n",
       "XGBoostclass1   0.875295  0.894231  0.894231\n",
       "XGBoostclass2   0.856141  0.865385  0.865385\n",
       "SGDclass1       0.905489  0.913462  0.913462\n",
       "SGDclass2       0.837647  0.855769  0.855769\n",
       "SVCclass1       0.929906  0.932692  0.932692\n",
       "SVCclass2       0.803558  0.875000  0.875000\n",
       "GNBclass1       0.890057  0.894231  0.894231\n",
       "GNBclass2       0.785255  0.769231  0.769231"
      ]
     },
     "execution_count": 100,
     "metadata": {},
     "output_type": "execute_result"
    }
   ],
   "source": [
    "Classificationresult = pd.concat([resclassforest,resclassXgboost,resclassSGD,resclassSVC,resclassGNB])\n",
    "Classificationresult"
   ]
  },
  {
   "cell_type": "code",
   "execution_count": 101,
   "metadata": {},
   "outputs": [
    {
     "data": {
      "text/html": [
       "<div>\n",
       "<style scoped>\n",
       "    .dataframe tbody tr th:only-of-type {\n",
       "        vertical-align: middle;\n",
       "    }\n",
       "\n",
       "    .dataframe tbody tr th {\n",
       "        vertical-align: top;\n",
       "    }\n",
       "\n",
       "    .dataframe thead th {\n",
       "        text-align: right;\n",
       "    }\n",
       "</style>\n",
       "<table border=\"1\" class=\"dataframe\">\n",
       "  <thead>\n",
       "    <tr style=\"text-align: right;\">\n",
       "      <th></th>\n",
       "      <th>Variance</th>\n",
       "      <th>MAE</th>\n",
       "      <th>MSE</th>\n",
       "      <th>R²</th>\n",
       "    </tr>\n",
       "  </thead>\n",
       "  <tbody>\n",
       "    <tr>\n",
       "      <th>ForestReg1</th>\n",
       "      <td>-1.157344</td>\n",
       "      <td>14499.772115</td>\n",
       "      <td>5.715205e+08</td>\n",
       "      <td>-1.171484</td>\n",
       "    </tr>\n",
       "    <tr>\n",
       "      <th>ForestReg2</th>\n",
       "      <td>-4.392400</td>\n",
       "      <td>20055.862603</td>\n",
       "      <td>3.235942e+09</td>\n",
       "      <td>-4.405427</td>\n",
       "    </tr>\n",
       "    <tr>\n",
       "      <th>XgboostReg1</th>\n",
       "      <td>0.573050</td>\n",
       "      <td>6994.400165</td>\n",
       "      <td>1.152758e+08</td>\n",
       "      <td>0.562011</td>\n",
       "    </tr>\n",
       "    <tr>\n",
       "      <th>XgboostReg2</th>\n",
       "      <td>0.483571</td>\n",
       "      <td>10148.450008</td>\n",
       "      <td>3.149805e+08</td>\n",
       "      <td>0.473846</td>\n",
       "    </tr>\n",
       "    <tr>\n",
       "      <th>SGDReg1</th>\n",
       "      <td>0.231376</td>\n",
       "      <td>10451.891461</td>\n",
       "      <td>2.814446e+08</td>\n",
       "      <td>-0.069345</td>\n",
       "    </tr>\n",
       "    <tr>\n",
       "      <th>SGDReg2</th>\n",
       "      <td>0.120826</td>\n",
       "      <td>16661.162705</td>\n",
       "      <td>7.517704e+08</td>\n",
       "      <td>-0.255783</td>\n",
       "    </tr>\n",
       "    <tr>\n",
       "      <th>LassoReg1</th>\n",
       "      <td>-642.971074</td>\n",
       "      <td>106030.632704</td>\n",
       "      <td>1.744494e+11</td>\n",
       "      <td>-661.818187</td>\n",
       "    </tr>\n",
       "    <tr>\n",
       "      <th>LassoReg2</th>\n",
       "      <td>-132.121990</td>\n",
       "      <td>166279.853241</td>\n",
       "      <td>8.028263e+10</td>\n",
       "      <td>-133.106812</td>\n",
       "    </tr>\n",
       "    <tr>\n",
       "      <th>RidgeReg1</th>\n",
       "      <td>-206.420551</td>\n",
       "      <td>77384.711680</td>\n",
       "      <td>5.811069e+10</td>\n",
       "      <td>-219.790790</td>\n",
       "    </tr>\n",
       "    <tr>\n",
       "      <th>RidgeReg2</th>\n",
       "      <td>-31.355138</td>\n",
       "      <td>103172.128051</td>\n",
       "      <td>1.963428e+10</td>\n",
       "      <td>-31.797757</td>\n",
       "    </tr>\n",
       "  </tbody>\n",
       "</table>\n",
       "</div>"
      ],
      "text/plain": [
       "               Variance            MAE           MSE          R²\n",
       "ForestReg1    -1.157344   14499.772115  5.715205e+08   -1.171484\n",
       "ForestReg2    -4.392400   20055.862603  3.235942e+09   -4.405427\n",
       "XgboostReg1    0.573050    6994.400165  1.152758e+08    0.562011\n",
       "XgboostReg2    0.483571   10148.450008  3.149805e+08    0.473846\n",
       "SGDReg1        0.231376   10451.891461  2.814446e+08   -0.069345\n",
       "SGDReg2        0.120826   16661.162705  7.517704e+08   -0.255783\n",
       "LassoReg1   -642.971074  106030.632704  1.744494e+11 -661.818187\n",
       "LassoReg2   -132.121990  166279.853241  8.028263e+10 -133.106812\n",
       "RidgeReg1   -206.420551   77384.711680  5.811069e+10 -219.790790\n",
       "RidgeReg2    -31.355138  103172.128051  1.963428e+10  -31.797757"
      ]
     },
     "execution_count": 101,
     "metadata": {},
     "output_type": "execute_result"
    }
   ],
   "source": [
    "regretionresult =pd.concat([resregforest,resXgboost,resreSGD,resreglasso,resregridge])\n",
    "regretionresult"
   ]
  },
  {
   "cell_type": "code",
   "execution_count": null,
   "metadata": {},
   "outputs": [],
   "source": []
  },
  {
   "cell_type": "code",
   "execution_count": null,
   "metadata": {},
   "outputs": [],
   "source": []
  }
 ],
 "metadata": {
  "kernelspec": {
   "display_name": "Python 3.7.4 64-bit ('base': conda)",
   "language": "python",
   "name": "python37464bitbaseconda76c3cbbed76b48a2a84540fe36a74ed2"
  },
  "language_info": {
   "codemirror_mode": {
    "name": "ipython",
    "version": 3
   },
   "file_extension": ".py",
   "mimetype": "text/x-python",
   "name": "python",
   "nbconvert_exporter": "python",
   "pygments_lexer": "ipython3",
   "version": "3.7.4"
  }
 },
 "nbformat": 4,
 "nbformat_minor": 2
}
