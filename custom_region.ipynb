{
 "cells": [
  {
   "cell_type": "markdown",
   "metadata": {},
   "source": [
    "# Imports"
   ]
  },
  {
   "cell_type": "code",
   "execution_count": 35,
   "metadata": {},
   "outputs": [],
   "source": [
    "import numpy as np\n",
    "import pandas as pd\n",
    "\n",
    "import matplotlib.pyplot as plt\n",
    "import seaborn as sns\n",
    "sns.set_style('darkgrid', {'legend.frameon':True})\n",
    "\n",
    "from sklearn.metrics import mean_absolute_error, mean_squared_error, r2_score\n",
    "from sklearn.model_selection import train_test_split, GridSearchCV\n",
    "from xgboost import XGBRegressor\n",
    "\n",
    "from IPython.display import clear_output"
   ]
  },
  {
   "cell_type": "markdown",
   "metadata": {},
   "source": [
    "# Loads"
   ]
  },
  {
   "cell_type": "code",
   "execution_count": 36,
   "metadata": {
    "scrolled": true
   },
   "outputs": [
    {
     "name": "stdout",
     "output_type": "stream",
     "text": [
      "<class 'pandas.core.frame.DataFrame'>\n",
      "Int64Index: 1532 entries, 5 to 10351\n",
      "Data columns (total 40 columns):\n",
      " #   Column                       Non-Null Count  Dtype  \n",
      "---  ------                       --------------  -----  \n",
      " 0   _id                          1532 non-null   object \n",
      " 1   query                        1532 non-null   object \n",
      " 2   title                        1532 non-null   object \n",
      " 3   company                      1532 non-null   object \n",
      " 4   rating_mean                  1532 non-null   float64\n",
      " 5   location                     1532 non-null   object \n",
      " 6   salary                       1532 non-null   object \n",
      " 7   summary                      1532 non-null   object \n",
      " 8   sponso                       1532 non-null   int64  \n",
      " 9   contract                     1279 non-null   object \n",
      " 10  desc                         1532 non-null   object \n",
      " 11  rating_count                 1532 non-null   int64  \n",
      " 12  day_since                    1532 non-null   object \n",
      " 13  salary_min                   1532 non-null   float64\n",
      " 14  salary_max                   1532 non-null   float64\n",
      " 15  salary_mean                  1532 non-null   float64\n",
      " 16  date                         1532 non-null   object \n",
      " 17  query_data+scientist         1532 non-null   int64  \n",
      " 18  query_business+intelligence  1532 non-null   int64  \n",
      " 19  query_data+analyst           1532 non-null   int64  \n",
      " 20  query_developpeur            1532 non-null   int64  \n",
      " 21  contract_contrat pro         1532 non-null   int64  \n",
      " 22  contract_intérim             1532 non-null   int64  \n",
      " 23  contract_temps plein         1532 non-null   int64  \n",
      " 24  contract_indépendant         1532 non-null   int64  \n",
      " 25  contract_cdd                 1532 non-null   int64  \n",
      " 26  contract_temps partiel       1532 non-null   int64  \n",
      " 27  contract_cdi                 1532 non-null   int64  \n",
      " 28  contract_stage               1532 non-null   int64  \n",
      " 29  contract_commission          1532 non-null   int64  \n",
      " 30  contract_apprentissage       1532 non-null   int64  \n",
      " 31  contract_nan                 1532 non-null   int64  \n",
      " 32  dep                          1524 non-null   object \n",
      " 33  region                       1532 non-null   object \n",
      " 34  salary_band                  1532 non-null   float64\n",
      " 35  mode_an                      1532 non-null   uint8  \n",
      " 36  mode_heure                   1532 non-null   uint8  \n",
      " 37  mode_jour                    1532 non-null   uint8  \n",
      " 38  mode_mois                    1532 non-null   uint8  \n",
      " 39  mode_semaine                 1532 non-null   uint8  \n",
      "dtypes: float64(5), int64(17), object(13), uint8(5)\n",
      "memory usage: 438.4+ KB\n"
     ]
    }
   ],
   "source": [
    "df = pd.read_csv('csv/jobs_it_process.csv')\n",
    "full = pd.DataFrame(df)\n",
    "df = df.dropna(subset=['salary_mean', 'region'])\n",
    "df = pd.concat([df, pd.get_dummies(df.pop('salary_origin_mode'), prefix='mode')], axis=1)\n",
    "df.info()"
   ]
  },
  {
   "cell_type": "code",
   "execution_count": 37,
   "metadata": {},
   "outputs": [
    {
     "data": {
      "text/plain": [
       "array(['île-de-france', 'grand est', 'nouvelle-aquitaine', 'occitanie',\n",
       "       \"provence-alpes-côte d'azur\", 'auvergne-rhône-alpes',\n",
       "       'hauts-de-france', 'bretagne', 'centre-val de loire',\n",
       "       'bourgogne-franche-comté', 'normandie', 'pays de la loire',\n",
       "       'corse'], dtype=object)"
      ]
     },
     "execution_count": 37,
     "metadata": {},
     "output_type": "execute_result"
    }
   ],
   "source": [
    "df['region'].unique()"
   ]
  },
  {
   "cell_type": "code",
   "execution_count": 38,
   "metadata": {},
   "outputs": [],
   "source": [
    "f_rating=['rating_mean', 'rating_count']\n",
    "f_contract=list(df.columns[21:31])\n",
    "f_mode=list(df.columns[35:])\n",
    "f_query=list(df.columns[17:21])"
   ]
  },
  {
   "cell_type": "markdown",
   "metadata": {
    "heading_collapsed": true
   },
   "source": [
    "# Explore"
   ]
  },
  {
   "cell_type": "code",
   "execution_count": 14,
   "metadata": {
    "hidden": true
   },
   "outputs": [
    {
     "name": "stdout",
     "output_type": "stream",
     "text": [
      "total 101\n"
     ]
    },
    {
     "data": {
      "text/plain": [
       "33    88\n",
       "17     8\n",
       "16     2\n",
       "47     2\n",
       "24     1\n",
       "Name: dep, dtype: int64"
      ]
     },
     "execution_count": 14,
     "metadata": {},
     "output_type": "execute_result"
    }
   ],
   "source": [
    "sample = pd.concat([df[df['dep'] == '33'],\n",
    "    df[df['dep'] == '17'], df[df['dep'] == '16'], \n",
    "    df[df['dep'] == '24'], df[df['dep'] == '47'],\n",
    "    df[df['dep'] == '40']])\n",
    "print('total {}'.format(len(sample)))\n",
    "sample['dep'].value_counts()"
   ]
  },
  {
   "cell_type": "markdown",
   "metadata": {},
   "source": [
    "# Paris"
   ]
  },
  {
   "cell_type": "code",
   "execution_count": 74,
   "metadata": {
    "scrolled": true
   },
   "outputs": [
    {
     "name": "stdout",
     "output_type": "stream",
     "text": [
      "<class 'pandas.core.frame.DataFrame'>\n",
      "Int64Index: 523 entries, 5 to 5743\n",
      "Data columns (total 24 columns):\n",
      " #   Column                       Non-Null Count  Dtype  \n",
      "---  ------                       --------------  -----  \n",
      " 0   salary_min                   523 non-null    float64\n",
      " 1   salary_max                   523 non-null    float64\n",
      " 2   salary_mean                  523 non-null    float64\n",
      " 3   rating_mean                  523 non-null    float64\n",
      " 4   rating_count                 523 non-null    int64  \n",
      " 5   contract_contrat pro         523 non-null    int64  \n",
      " 6   contract_intérim             523 non-null    int64  \n",
      " 7   contract_temps plein         523 non-null    int64  \n",
      " 8   contract_indépendant         523 non-null    int64  \n",
      " 9   contract_cdd                 523 non-null    int64  \n",
      " 10  contract_temps partiel       523 non-null    int64  \n",
      " 11  contract_cdi                 523 non-null    int64  \n",
      " 12  contract_stage               523 non-null    int64  \n",
      " 13  contract_commission          523 non-null    int64  \n",
      " 14  contract_apprentissage       523 non-null    int64  \n",
      " 15  mode_an                      523 non-null    uint8  \n",
      " 16  mode_heure                   523 non-null    uint8  \n",
      " 17  mode_jour                    523 non-null    uint8  \n",
      " 18  mode_mois                    523 non-null    uint8  \n",
      " 19  mode_semaine                 523 non-null    uint8  \n",
      " 20  query_data+scientist         523 non-null    int64  \n",
      " 21  query_business+intelligence  523 non-null    int64  \n",
      " 22  query_data+analyst           523 non-null    int64  \n",
      " 23  query_developpeur            523 non-null    int64  \n",
      "dtypes: float64(4), int64(15), uint8(5)\n",
      "memory usage: 84.3 KB\n"
     ]
    }
   ],
   "source": [
    "sample = df[df['region']=='île-de-france'][['salary_min', 'salary_max', 'salary_mean']+f_rating+f_contract+f_mode+f_query]\n",
    "sample.info()\n",
    "sample.to_csv('csv/paris.csv', index=False, encoding='utf-8')"
   ]
  },
  {
   "cell_type": "code",
   "execution_count": 75,
   "metadata": {
    "scrolled": true
   },
   "outputs": [
    {
     "name": "stdout",
     "output_type": "stream",
     "text": [
      "<class 'pandas.core.frame.DataFrame'>\n",
      "Int64Index: 3580 entries, 0 to 5743\n",
      "Data columns (total 20 columns):\n",
      " #   Column                       Non-Null Count  Dtype  \n",
      "---  ------                       --------------  -----  \n",
      " 0   salary_min                   523 non-null    float64\n",
      " 1   salary_max                   523 non-null    float64\n",
      " 2   salary_mean                  523 non-null    float64\n",
      " 3   rating_mean                  3580 non-null   float64\n",
      " 4   rating_count                 3580 non-null   int64  \n",
      " 5   contract_contrat pro         3580 non-null   int64  \n",
      " 6   contract_intérim             3580 non-null   int64  \n",
      " 7   contract_temps plein         3580 non-null   int64  \n",
      " 8   contract_indépendant         3580 non-null   int64  \n",
      " 9   contract_cdd                 3580 non-null   int64  \n",
      " 10  contract_temps partiel       3580 non-null   int64  \n",
      " 11  contract_cdi                 3580 non-null   int64  \n",
      " 12  contract_stage               3580 non-null   int64  \n",
      " 13  contract_commission          3580 non-null   int64  \n",
      " 14  contract_apprentissage       3580 non-null   int64  \n",
      " 15  query_data+scientist         3580 non-null   int64  \n",
      " 16  query_business+intelligence  3580 non-null   int64  \n",
      " 17  query_data+analyst           3580 non-null   int64  \n",
      " 18  query_developpeur            3580 non-null   int64  \n",
      " 19  mode_an                      3580 non-null   int64  \n",
      "dtypes: float64(4), int64(16)\n",
      "memory usage: 587.3 KB\n"
     ]
    }
   ],
   "source": [
    "sample = full[full['region']=='île-de-france'][['salary_min', 'salary_max', 'salary_mean']+f_rating+f_contract+f_query]\n",
    "sample['mode_an'] = 1\n",
    "sample.info()\n",
    "sample.to_csv('csv/paris_unknow.csv', index=False, encoding='utf-8')"
   ]
  },
  {
   "cell_type": "markdown",
   "metadata": {},
   "source": [
    "# Lyon"
   ]
  },
  {
   "cell_type": "code",
   "execution_count": 76,
   "metadata": {
    "scrolled": true
   },
   "outputs": [
    {
     "name": "stdout",
     "output_type": "stream",
     "text": [
      "<class 'pandas.core.frame.DataFrame'>\n",
      "Int64Index: 159 entries, 112 to 3384\n",
      "Data columns (total 24 columns):\n",
      " #   Column                       Non-Null Count  Dtype  \n",
      "---  ------                       --------------  -----  \n",
      " 0   salary_min                   159 non-null    float64\n",
      " 1   salary_max                   159 non-null    float64\n",
      " 2   salary_mean                  159 non-null    float64\n",
      " 3   rating_mean                  159 non-null    float64\n",
      " 4   rating_count                 159 non-null    int64  \n",
      " 5   contract_contrat pro         159 non-null    int64  \n",
      " 6   contract_intérim             159 non-null    int64  \n",
      " 7   contract_temps plein         159 non-null    int64  \n",
      " 8   contract_indépendant         159 non-null    int64  \n",
      " 9   contract_cdd                 159 non-null    int64  \n",
      " 10  contract_temps partiel       159 non-null    int64  \n",
      " 11  contract_cdi                 159 non-null    int64  \n",
      " 12  contract_stage               159 non-null    int64  \n",
      " 13  contract_commission          159 non-null    int64  \n",
      " 14  contract_apprentissage       159 non-null    int64  \n",
      " 15  mode_an                      159 non-null    uint8  \n",
      " 16  mode_heure                   159 non-null    uint8  \n",
      " 17  mode_jour                    159 non-null    uint8  \n",
      " 18  mode_mois                    159 non-null    uint8  \n",
      " 19  mode_semaine                 159 non-null    uint8  \n",
      " 20  query_data+scientist         159 non-null    int64  \n",
      " 21  query_business+intelligence  159 non-null    int64  \n",
      " 22  query_data+analyst           159 non-null    int64  \n",
      " 23  query_developpeur            159 non-null    int64  \n",
      "dtypes: float64(4), int64(15), uint8(5)\n",
      "memory usage: 25.6 KB\n"
     ]
    }
   ],
   "source": [
    "sample = pd.concat([df[df['dep'] == '69'],\n",
    "    df[df['dep'] == '71'], df[df['dep'] == '42'], \n",
    "    df[df['dep'] == '01'], df[df['dep'] == '38'],\n",
    "    df[df['dep'] == '26'], df[df['dep'] == '07']])[['salary_min', 'salary_max', 'salary_mean']+f_rating+f_contract+f_mode+f_query]\n",
    "sample.info()\n",
    "sample.to_csv('csv/lyon.csv', index=False, encoding='utf-8')"
   ]
  },
  {
   "cell_type": "code",
   "execution_count": 77,
   "metadata": {
    "scrolled": false
   },
   "outputs": [
    {
     "name": "stdout",
     "output_type": "stream",
     "text": [
      "<class 'pandas.core.frame.DataFrame'>\n",
      "Int64Index: 975 entries, 15 to 3748\n",
      "Data columns (total 20 columns):\n",
      " #   Column                       Non-Null Count  Dtype  \n",
      "---  ------                       --------------  -----  \n",
      " 0   salary_min                   159 non-null    float64\n",
      " 1   salary_max                   159 non-null    float64\n",
      " 2   salary_mean                  159 non-null    float64\n",
      " 3   rating_mean                  975 non-null    float64\n",
      " 4   rating_count                 975 non-null    int64  \n",
      " 5   contract_contrat pro         975 non-null    int64  \n",
      " 6   contract_intérim             975 non-null    int64  \n",
      " 7   contract_temps plein         975 non-null    int64  \n",
      " 8   contract_indépendant         975 non-null    int64  \n",
      " 9   contract_cdd                 975 non-null    int64  \n",
      " 10  contract_temps partiel       975 non-null    int64  \n",
      " 11  contract_cdi                 975 non-null    int64  \n",
      " 12  contract_stage               975 non-null    int64  \n",
      " 13  contract_commission          975 non-null    int64  \n",
      " 14  contract_apprentissage       975 non-null    int64  \n",
      " 15  query_data+scientist         975 non-null    int64  \n",
      " 16  query_business+intelligence  975 non-null    int64  \n",
      " 17  query_data+analyst           975 non-null    int64  \n",
      " 18  query_developpeur            975 non-null    int64  \n",
      " 19  mode_an                      975 non-null    int64  \n",
      "dtypes: float64(4), int64(16)\n",
      "memory usage: 160.0 KB\n"
     ]
    }
   ],
   "source": [
    "sample = pd.concat([full[full['dep'] == '69'],\n",
    "    full[full['dep'] == '71'], full[full['dep'] == '42'], \n",
    "    full[full['dep'] == '01'], full[full['dep'] == '38'],\n",
    "    full[full['dep'] == '26'], full[full['dep'] == '07']])[['salary_min', 'salary_max', 'salary_mean']+f_rating+f_contract+f_query]\n",
    "sample['mode_an'] = 1\n",
    "sample.info()\n",
    "sample.to_csv('csv/lyon_unknow.csv', index=False, encoding='utf-8')"
   ]
  },
  {
   "cell_type": "markdown",
   "metadata": {},
   "source": [
    "# Toulouse"
   ]
  },
  {
   "cell_type": "code",
   "execution_count": 78,
   "metadata": {
    "scrolled": true
   },
   "outputs": [
    {
     "name": "stdout",
     "output_type": "stream",
     "text": [
      "<class 'pandas.core.frame.DataFrame'>\n",
      "Int64Index: 77 entries, 45 to 7540\n",
      "Data columns (total 24 columns):\n",
      " #   Column                       Non-Null Count  Dtype  \n",
      "---  ------                       --------------  -----  \n",
      " 0   salary_min                   77 non-null     float64\n",
      " 1   salary_max                   77 non-null     float64\n",
      " 2   salary_mean                  77 non-null     float64\n",
      " 3   rating_mean                  77 non-null     float64\n",
      " 4   rating_count                 77 non-null     int64  \n",
      " 5   contract_contrat pro         77 non-null     int64  \n",
      " 6   contract_intérim             77 non-null     int64  \n",
      " 7   contract_temps plein         77 non-null     int64  \n",
      " 8   contract_indépendant         77 non-null     int64  \n",
      " 9   contract_cdd                 77 non-null     int64  \n",
      " 10  contract_temps partiel       77 non-null     int64  \n",
      " 11  contract_cdi                 77 non-null     int64  \n",
      " 12  contract_stage               77 non-null     int64  \n",
      " 13  contract_commission          77 non-null     int64  \n",
      " 14  contract_apprentissage       77 non-null     int64  \n",
      " 15  mode_an                      77 non-null     uint8  \n",
      " 16  mode_heure                   77 non-null     uint8  \n",
      " 17  mode_jour                    77 non-null     uint8  \n",
      " 18  mode_mois                    77 non-null     uint8  \n",
      " 19  mode_semaine                 77 non-null     uint8  \n",
      " 20  query_data+scientist         77 non-null     int64  \n",
      " 21  query_business+intelligence  77 non-null     int64  \n",
      " 22  query_data+analyst           77 non-null     int64  \n",
      " 23  query_developpeur            77 non-null     int64  \n",
      "dtypes: float64(4), int64(15), uint8(5)\n",
      "memory usage: 12.4 KB\n"
     ]
    }
   ],
   "source": [
    "sample = pd.concat([df[df['dep'] == '31'],\n",
    "    df[df['dep'] == '32'], df[df['dep'] == '82'], \n",
    "    df[df['dep'] == '81'], df[df['dep'] == '11'],\n",
    "    df[df['dep'] == '09'], df[df['dep'] == '65']])[['salary_min', 'salary_max', 'salary_mean']+f_rating+f_contract+f_mode+f_query]\n",
    "sample.info()\n",
    "sample.to_csv('csv/toulouse.csv', index=False, encoding='utf-8')"
   ]
  },
  {
   "cell_type": "code",
   "execution_count": 79,
   "metadata": {
    "scrolled": false
   },
   "outputs": [
    {
     "name": "stdout",
     "output_type": "stream",
     "text": [
      "<class 'pandas.core.frame.DataFrame'>\n",
      "Int64Index: 602 entries, 45 to 7631\n",
      "Data columns (total 20 columns):\n",
      " #   Column                       Non-Null Count  Dtype  \n",
      "---  ------                       --------------  -----  \n",
      " 0   salary_min                   77 non-null     float64\n",
      " 1   salary_max                   77 non-null     float64\n",
      " 2   salary_mean                  77 non-null     float64\n",
      " 3   rating_mean                  602 non-null    float64\n",
      " 4   rating_count                 602 non-null    int64  \n",
      " 5   contract_contrat pro         602 non-null    int64  \n",
      " 6   contract_intérim             602 non-null    int64  \n",
      " 7   contract_temps plein         602 non-null    int64  \n",
      " 8   contract_indépendant         602 non-null    int64  \n",
      " 9   contract_cdd                 602 non-null    int64  \n",
      " 10  contract_temps partiel       602 non-null    int64  \n",
      " 11  contract_cdi                 602 non-null    int64  \n",
      " 12  contract_stage               602 non-null    int64  \n",
      " 13  contract_commission          602 non-null    int64  \n",
      " 14  contract_apprentissage       602 non-null    int64  \n",
      " 15  query_data+scientist         602 non-null    int64  \n",
      " 16  query_business+intelligence  602 non-null    int64  \n",
      " 17  query_data+analyst           602 non-null    int64  \n",
      " 18  query_developpeur            602 non-null    int64  \n",
      " 19  mode_an                      602 non-null    int64  \n",
      "dtypes: float64(4), int64(16)\n",
      "memory usage: 98.8 KB\n"
     ]
    }
   ],
   "source": [
    "sample = pd.concat([full[full['dep'] == '31'],\n",
    "    full[full['dep'] == '32'], full[full['dep'] == '82'], \n",
    "    full[full['dep'] == '81'], full[full['dep'] == '11'],\n",
    "    full[full['dep'] == '09'], full[full['dep'] == '65']])[['salary_min', 'salary_max', 'salary_mean']+f_rating+f_contract+f_query]\n",
    "sample['mode_an'] = 1\n",
    "sample.info()\n",
    "sample.to_csv('csv/toulouse_unknow.csv', index=False, encoding='utf-8')"
   ]
  },
  {
   "cell_type": "markdown",
   "metadata": {},
   "source": [
    "# Nantes"
   ]
  },
  {
   "cell_type": "code",
   "execution_count": 80,
   "metadata": {
    "scrolled": true
   },
   "outputs": [
    {
     "name": "stdout",
     "output_type": "stream",
     "text": [
      "<class 'pandas.core.frame.DataFrame'>\n",
      "Int64Index: 194 entries, 2608 to 8494\n",
      "Data columns (total 24 columns):\n",
      " #   Column                       Non-Null Count  Dtype  \n",
      "---  ------                       --------------  -----  \n",
      " 0   salary_min                   194 non-null    float64\n",
      " 1   salary_max                   194 non-null    float64\n",
      " 2   salary_mean                  194 non-null    float64\n",
      " 3   rating_mean                  194 non-null    float64\n",
      " 4   rating_count                 194 non-null    int64  \n",
      " 5   contract_contrat pro         194 non-null    int64  \n",
      " 6   contract_intérim             194 non-null    int64  \n",
      " 7   contract_temps plein         194 non-null    int64  \n",
      " 8   contract_indépendant         194 non-null    int64  \n",
      " 9   contract_cdd                 194 non-null    int64  \n",
      " 10  contract_temps partiel       194 non-null    int64  \n",
      " 11  contract_cdi                 194 non-null    int64  \n",
      " 12  contract_stage               194 non-null    int64  \n",
      " 13  contract_commission          194 non-null    int64  \n",
      " 14  contract_apprentissage       194 non-null    int64  \n",
      " 15  mode_an                      194 non-null    uint8  \n",
      " 16  mode_heure                   194 non-null    uint8  \n",
      " 17  mode_jour                    194 non-null    uint8  \n",
      " 18  mode_mois                    194 non-null    uint8  \n",
      " 19  mode_semaine                 194 non-null    uint8  \n",
      " 20  query_data+scientist         194 non-null    int64  \n",
      " 21  query_business+intelligence  194 non-null    int64  \n",
      " 22  query_data+analyst           194 non-null    int64  \n",
      " 23  query_developpeur            194 non-null    int64  \n",
      "dtypes: float64(4), int64(15), uint8(5)\n",
      "memory usage: 31.3 KB\n"
     ]
    }
   ],
   "source": [
    "sample = pd.concat([df[df['dep'] == '44'],\n",
    "    df[df['dep'] == '85'], df[df['dep'] == '49'], \n",
    "    df[df['dep'] == '72'], df[df['dep'] == '53'],\n",
    "    df[df['dep'] == '35'], df[df['dep'] == '56']])[['salary_min', 'salary_max', 'salary_mean']+f_rating+f_contract+f_mode+f_query]\n",
    "sample.info()\n",
    "sample.to_csv('csv/nantes.csv', index=False, encoding='utf-8')"
   ]
  },
  {
   "cell_type": "code",
   "execution_count": 81,
   "metadata": {},
   "outputs": [
    {
     "name": "stdout",
     "output_type": "stream",
     "text": [
      "<class 'pandas.core.frame.DataFrame'>\n",
      "Int64Index: 1184 entries, 111 to 8494\n",
      "Data columns (total 19 columns):\n",
      " #   Column                       Non-Null Count  Dtype  \n",
      "---  ------                       --------------  -----  \n",
      " 0   salary_min                   194 non-null    float64\n",
      " 1   salary_max                   194 non-null    float64\n",
      " 2   salary_mean                  194 non-null    float64\n",
      " 3   rating_mean                  1184 non-null   float64\n",
      " 4   rating_count                 1184 non-null   int64  \n",
      " 5   contract_contrat pro         1184 non-null   int64  \n",
      " 6   contract_intérim             1184 non-null   int64  \n",
      " 7   contract_temps plein         1184 non-null   int64  \n",
      " 8   contract_indépendant         1184 non-null   int64  \n",
      " 9   contract_cdd                 1184 non-null   int64  \n",
      " 10  contract_temps partiel       1184 non-null   int64  \n",
      " 11  contract_cdi                 1184 non-null   int64  \n",
      " 12  contract_stage               1184 non-null   int64  \n",
      " 13  contract_commission          1184 non-null   int64  \n",
      " 14  contract_apprentissage       1184 non-null   int64  \n",
      " 15  query_data+scientist         1184 non-null   int64  \n",
      " 16  query_business+intelligence  1184 non-null   int64  \n",
      " 17  query_data+analyst           1184 non-null   int64  \n",
      " 18  query_developpeur            1184 non-null   int64  \n",
      "dtypes: float64(4), int64(15)\n",
      "memory usage: 185.0 KB\n"
     ]
    }
   ],
   "source": [
    "sample = pd.concat([full[full['dep'] == '44'],\n",
    "    full[full['dep'] == '85'], full[full['dep'] == '49'], \n",
    "    full[full['dep'] == '72'], full[full['dep'] == '53'],\n",
    "    full[full['dep'] == '35'], full[full['dep'] == '56']])[['salary_min', 'salary_max', 'salary_mean']+f_rating+f_contract+f_query]\n",
    "sample.info()\n",
    "sample.to_csv('csv/nantes_unknow.csv', index=False, encoding='utf-8')"
   ]
  },
  {
   "cell_type": "markdown",
   "metadata": {},
   "source": [
    "# Bordeaux"
   ]
  },
  {
   "cell_type": "code",
   "execution_count": 82,
   "metadata": {
    "scrolled": true
   },
   "outputs": [
    {
     "name": "stdout",
     "output_type": "stream",
     "text": [
      "<class 'pandas.core.frame.DataFrame'>\n",
      "Int64Index: 101 entries, 16 to 5749\n",
      "Data columns (total 24 columns):\n",
      " #   Column                       Non-Null Count  Dtype  \n",
      "---  ------                       --------------  -----  \n",
      " 0   salary_min                   101 non-null    float64\n",
      " 1   salary_max                   101 non-null    float64\n",
      " 2   salary_mean                  101 non-null    float64\n",
      " 3   rating_mean                  101 non-null    float64\n",
      " 4   rating_count                 101 non-null    int64  \n",
      " 5   contract_contrat pro         101 non-null    int64  \n",
      " 6   contract_intérim             101 non-null    int64  \n",
      " 7   contract_temps plein         101 non-null    int64  \n",
      " 8   contract_indépendant         101 non-null    int64  \n",
      " 9   contract_cdd                 101 non-null    int64  \n",
      " 10  contract_temps partiel       101 non-null    int64  \n",
      " 11  contract_cdi                 101 non-null    int64  \n",
      " 12  contract_stage               101 non-null    int64  \n",
      " 13  contract_commission          101 non-null    int64  \n",
      " 14  contract_apprentissage       101 non-null    int64  \n",
      " 15  mode_an                      101 non-null    uint8  \n",
      " 16  mode_heure                   101 non-null    uint8  \n",
      " 17  mode_jour                    101 non-null    uint8  \n",
      " 18  mode_mois                    101 non-null    uint8  \n",
      " 19  mode_semaine                 101 non-null    uint8  \n",
      " 20  query_data+scientist         101 non-null    int64  \n",
      " 21  query_business+intelligence  101 non-null    int64  \n",
      " 22  query_data+analyst           101 non-null    int64  \n",
      " 23  query_developpeur            101 non-null    int64  \n",
      "dtypes: float64(4), int64(15), uint8(5)\n",
      "memory usage: 16.3 KB\n"
     ]
    }
   ],
   "source": [
    "sample = pd.concat([df[df['dep'] == '33'],\n",
    "    df[df['dep'] == '17'], df[df['dep'] == '16'], \n",
    "    df[df['dep'] == '24'], df[df['dep'] == '47'],\n",
    "    df[df['dep'] == '40']])[['salary_min', 'salary_max', 'salary_mean']+f_rating+f_contract+f_mode+f_query]\n",
    "sample.info()\n",
    "sample.to_csv('csv/bordeaux.csv', index=False, encoding='utf-8')"
   ]
  },
  {
   "cell_type": "code",
   "execution_count": 83,
   "metadata": {
    "scrolled": true
   },
   "outputs": [
    {
     "name": "stdout",
     "output_type": "stream",
     "text": [
      "<class 'pandas.core.frame.DataFrame'>\n",
      "Int64Index: 608 entries, 16 to 6052\n",
      "Data columns (total 19 columns):\n",
      " #   Column                       Non-Null Count  Dtype  \n",
      "---  ------                       --------------  -----  \n",
      " 0   salary_min                   101 non-null    float64\n",
      " 1   salary_max                   101 non-null    float64\n",
      " 2   salary_mean                  101 non-null    float64\n",
      " 3   rating_mean                  608 non-null    float64\n",
      " 4   rating_count                 608 non-null    int64  \n",
      " 5   contract_contrat pro         608 non-null    int64  \n",
      " 6   contract_intérim             608 non-null    int64  \n",
      " 7   contract_temps plein         608 non-null    int64  \n",
      " 8   contract_indépendant         608 non-null    int64  \n",
      " 9   contract_cdd                 608 non-null    int64  \n",
      " 10  contract_temps partiel       608 non-null    int64  \n",
      " 11  contract_cdi                 608 non-null    int64  \n",
      " 12  contract_stage               608 non-null    int64  \n",
      " 13  contract_commission          608 non-null    int64  \n",
      " 14  contract_apprentissage       608 non-null    int64  \n",
      " 15  query_data+scientist         608 non-null    int64  \n",
      " 16  query_business+intelligence  608 non-null    int64  \n",
      " 17  query_data+analyst           608 non-null    int64  \n",
      " 18  query_developpeur            608 non-null    int64  \n",
      "dtypes: float64(4), int64(15)\n",
      "memory usage: 95.0 KB\n"
     ]
    }
   ],
   "source": [
    "sample = pd.concat([full[full['dep'] == '33'],\n",
    "    full[full['dep'] == '17'], full[full['dep'] == '16'], \n",
    "    full[full['dep'] == '24'], full[full['dep'] == '47'],\n",
    "    full[full['dep'] == '40']])[['salary_min', 'salary_max', 'salary_mean']+f_rating+f_contract+f_query]\n",
    "sample.info()\n",
    "sample.to_csv('csv/bordeaux_unknow.csv', index=False, encoding='utf-8')"
   ]
  },
  {
   "cell_type": "code",
   "execution_count": null,
   "metadata": {},
   "outputs": [],
   "source": []
  },
  {
   "cell_type": "code",
   "execution_count": null,
   "metadata": {},
   "outputs": [],
   "source": []
  },
  {
   "cell_type": "code",
   "execution_count": null,
   "metadata": {},
   "outputs": [],
   "source": []
  },
  {
   "cell_type": "code",
   "execution_count": null,
   "metadata": {},
   "outputs": [],
   "source": []
  },
  {
   "cell_type": "code",
   "execution_count": null,
   "metadata": {},
   "outputs": [],
   "source": []
  },
  {
   "cell_type": "code",
   "execution_count": null,
   "metadata": {},
   "outputs": [],
   "source": []
  },
  {
   "cell_type": "code",
   "execution_count": null,
   "metadata": {},
   "outputs": [],
   "source": []
  }
 ],
 "metadata": {
  "kernelspec": {
   "display_name": "Python 3",
   "language": "python",
   "name": "python3"
  },
  "language_info": {
   "codemirror_mode": {
    "name": "ipython",
    "version": 3
   },
   "file_extension": ".py",
   "mimetype": "text/x-python",
   "name": "python",
   "nbconvert_exporter": "python",
   "pygments_lexer": "ipython3",
   "version": "3.7.7"
  }
 },
 "nbformat": 4,
 "nbformat_minor": 4
}
