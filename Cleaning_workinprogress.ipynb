{
 "cells": [
  {
   "cell_type": "code",
   "execution_count": 33,
   "metadata": {},
   "outputs": [],
   "source": [
    "import pandas as pd\n",
    "import numpy as np\n",
    "from Preprocessing import *\n",
    "from sklearn.feature_extraction.text import CountVectorizer\n",
    "from sklearn.cluster import KMeans"
   ]
  },
  {
   "cell_type": "code",
   "execution_count": 25,
   "metadata": {},
   "outputs": [
    {
     "data": {
      "text/html": [
       "<div>\n",
       "<style scoped>\n",
       "    .dataframe tbody tr th:only-of-type {\n",
       "        vertical-align: middle;\n",
       "    }\n",
       "\n",
       "    .dataframe tbody tr th {\n",
       "        vertical-align: top;\n",
       "    }\n",
       "\n",
       "    .dataframe thead th {\n",
       "        text-align: right;\n",
       "    }\n",
       "</style>\n",
       "<table border=\"1\" class=\"dataframe\">\n",
       "  <thead>\n",
       "    <tr style=\"text-align: right;\">\n",
       "      <th></th>\n",
       "      <th>Title</th>\n",
       "      <th>Company</th>\n",
       "      <th>Location</th>\n",
       "      <th>TypeContrat</th>\n",
       "      <th>Salary</th>\n",
       "      <th>Description</th>\n",
       "      <th>Date</th>\n",
       "      <th>Link</th>\n",
       "      <th>TypeContrat_CDI</th>\n",
       "      <th>TypeContrat_Temps plein</th>\n",
       "      <th>TypeContrat_Apprentissage</th>\n",
       "      <th>TypeContrat_Contrat pro</th>\n",
       "      <th>TypeContrat_CDD</th>\n",
       "      <th>TypeContrat_Intérim</th>\n",
       "      <th>TypeContrat_Temps partiel</th>\n",
       "      <th>TypeContrat_Stage</th>\n",
       "      <th>TypeContrat_Indépendant</th>\n",
       "    </tr>\n",
       "  </thead>\n",
       "  <tbody>\n",
       "    <tr>\n",
       "      <th>0</th>\n",
       "      <td>Data Scientist</td>\n",
       "      <td>Malakoff Humanis</td>\n",
       "      <td>Paris</td>\n",
       "      <td>Apprentissage, Contrat pro</td>\n",
       "      <td>notfound</td>\n",
       "      <td>Contrat\\r\\nALTERNANCE\\r\\nFinalité du poste\\r\\n...</td>\n",
       "      <td>2020-05-21 14:00:21.641431</td>\n",
       "      <td>/pagead/clk?mo=r&amp;ad=-6NYlbfkN0BfLf6vlT6l4ABp3X...</td>\n",
       "      <td>0</td>\n",
       "      <td>0</td>\n",
       "      <td>1</td>\n",
       "      <td>1</td>\n",
       "      <td>0</td>\n",
       "      <td>0</td>\n",
       "      <td>0</td>\n",
       "      <td>0</td>\n",
       "      <td>0</td>\n",
       "    </tr>\n",
       "    <tr>\n",
       "      <th>1</th>\n",
       "      <td>Data Scientist</td>\n",
       "      <td>Jellysmack</td>\n",
       "      <td>Paris</td>\n",
       "      <td>Temps plein, CDI</td>\n",
       "      <td>notfound</td>\n",
       "      <td>Nous continuons de recruter et avons adapté no...</td>\n",
       "      <td>2020-04-30 14:00:21.641431</td>\n",
       "      <td>/pagead/clk?mo=r&amp;ad=-6NYlbfkN0B8n3TtewkfrSQLVL...</td>\n",
       "      <td>1</td>\n",
       "      <td>1</td>\n",
       "      <td>0</td>\n",
       "      <td>0</td>\n",
       "      <td>0</td>\n",
       "      <td>0</td>\n",
       "      <td>0</td>\n",
       "      <td>0</td>\n",
       "      <td>0</td>\n",
       "    </tr>\n",
       "    <tr>\n",
       "      <th>2</th>\n",
       "      <td>Direction</td>\n",
       "      <td>Castelis</td>\n",
       "      <td>Paris</td>\n",
       "      <td>notfound</td>\n",
       "      <td>50000</td>\n",
       "      <td>Présentation de la société Castelis conçoit, d...</td>\n",
       "      <td>2020-04-25 14:00:21.642431</td>\n",
       "      <td>/pagead/clk?mo=r&amp;ad=-6NYlbfkN0Bl_GJvjV7T_nyT7Y...</td>\n",
       "      <td>0</td>\n",
       "      <td>0</td>\n",
       "      <td>0</td>\n",
       "      <td>0</td>\n",
       "      <td>0</td>\n",
       "      <td>0</td>\n",
       "      <td>0</td>\n",
       "      <td>0</td>\n",
       "      <td>0</td>\n",
       "    </tr>\n",
       "    <tr>\n",
       "      <th>3</th>\n",
       "      <td>Data Scientist</td>\n",
       "      <td>BNP Paribas</td>\n",
       "      <td>Paris</td>\n",
       "      <td>Temps plein, Stage</td>\n",
       "      <td>notfound</td>\n",
       "      <td>ASSISTANT DATA SCIENTIST - STAGE 3 MOIS H/F (N...</td>\n",
       "      <td>2020-05-25 14:00:21.642431</td>\n",
       "      <td>/rc/clk?jk=dc84057ced14dfad&amp;fccid=1392500f835b...</td>\n",
       "      <td>0</td>\n",
       "      <td>1</td>\n",
       "      <td>0</td>\n",
       "      <td>0</td>\n",
       "      <td>0</td>\n",
       "      <td>0</td>\n",
       "      <td>0</td>\n",
       "      <td>1</td>\n",
       "      <td>0</td>\n",
       "    </tr>\n",
       "    <tr>\n",
       "      <th>4</th>\n",
       "      <td>Data Scientist</td>\n",
       "      <td>NEOBRAIN</td>\n",
       "      <td>Paris</td>\n",
       "      <td>Temps plein, CDI</td>\n",
       "      <td>notfound</td>\n",
       "      <td>Neobrain développe des solutions digitales int...</td>\n",
       "      <td>2020-05-25 14:00:21.642431</td>\n",
       "      <td>/company/NEOBRAIN/jobs/Data-Scientist-dfce81a4...</td>\n",
       "      <td>1</td>\n",
       "      <td>1</td>\n",
       "      <td>0</td>\n",
       "      <td>0</td>\n",
       "      <td>0</td>\n",
       "      <td>0</td>\n",
       "      <td>0</td>\n",
       "      <td>0</td>\n",
       "      <td>0</td>\n",
       "    </tr>\n",
       "    <tr>\n",
       "      <th>...</th>\n",
       "      <td>...</td>\n",
       "      <td>...</td>\n",
       "      <td>...</td>\n",
       "      <td>...</td>\n",
       "      <td>...</td>\n",
       "      <td>...</td>\n",
       "      <td>...</td>\n",
       "      <td>...</td>\n",
       "      <td>...</td>\n",
       "      <td>...</td>\n",
       "      <td>...</td>\n",
       "      <td>...</td>\n",
       "      <td>...</td>\n",
       "      <td>...</td>\n",
       "      <td>...</td>\n",
       "      <td>...</td>\n",
       "      <td>...</td>\n",
       "    </tr>\n",
       "    <tr>\n",
       "      <th>1018</th>\n",
       "      <td>Dev Web</td>\n",
       "      <td>Exakis</td>\n",
       "      <td>Lyon</td>\n",
       "      <td>CDI</td>\n",
       "      <td>notfound</td>\n",
       "      <td>Exakis Nelite, entité du groupe Magellan Partn...</td>\n",
       "      <td>2020-04-24 14:00:31.982085</td>\n",
       "      <td>/rc/clk?jk=2492975828792445&amp;fccid=74b179ae010f...</td>\n",
       "      <td>1</td>\n",
       "      <td>0</td>\n",
       "      <td>0</td>\n",
       "      <td>0</td>\n",
       "      <td>0</td>\n",
       "      <td>0</td>\n",
       "      <td>0</td>\n",
       "      <td>0</td>\n",
       "      <td>0</td>\n",
       "    </tr>\n",
       "    <tr>\n",
       "      <th>1021</th>\n",
       "      <td>Dev Back end</td>\n",
       "      <td>Apside</td>\n",
       "      <td>Lyon</td>\n",
       "      <td>notfound</td>\n",
       "      <td>notfound</td>\n",
       "      <td>Et si vous étiez prêt pour un challenge qui so...</td>\n",
       "      <td>2020-04-24 14:00:31.982085</td>\n",
       "      <td>/rc/clk?jk=5a58da742f83dea9&amp;fccid=c4b1242d6123...</td>\n",
       "      <td>0</td>\n",
       "      <td>0</td>\n",
       "      <td>0</td>\n",
       "      <td>0</td>\n",
       "      <td>0</td>\n",
       "      <td>0</td>\n",
       "      <td>0</td>\n",
       "      <td>0</td>\n",
       "      <td>0</td>\n",
       "    </tr>\n",
       "    <tr>\n",
       "      <th>1022</th>\n",
       "      <td>Data Analyst</td>\n",
       "      <td>Crédit mutuel</td>\n",
       "      <td>Lyon</td>\n",
       "      <td>CDI</td>\n",
       "      <td>notfound</td>\n",
       "      <td>Les équipes « Ergonomie et Services Distants »...</td>\n",
       "      <td>2020-04-24 14:00:31.982085</td>\n",
       "      <td>/rc/clk?jk=7583f6ab09cd15e3&amp;fccid=064584719361...</td>\n",
       "      <td>1</td>\n",
       "      <td>0</td>\n",
       "      <td>0</td>\n",
       "      <td>0</td>\n",
       "      <td>0</td>\n",
       "      <td>0</td>\n",
       "      <td>0</td>\n",
       "      <td>0</td>\n",
       "      <td>0</td>\n",
       "    </tr>\n",
       "    <tr>\n",
       "      <th>1023</th>\n",
       "      <td>developpeur</td>\n",
       "      <td>AXOPEN</td>\n",
       "      <td>Lyon</td>\n",
       "      <td>Temps plein, CDI</td>\n",
       "      <td>notfound</td>\n",
       "      <td>Pour toi, Android est le meilleur OS de tous l...</td>\n",
       "      <td>2020-05-18 14:00:31.983094</td>\n",
       "      <td>/company/AXOPEN/jobs/D%C3%A9veloppeur-Android-...</td>\n",
       "      <td>1</td>\n",
       "      <td>1</td>\n",
       "      <td>0</td>\n",
       "      <td>0</td>\n",
       "      <td>0</td>\n",
       "      <td>0</td>\n",
       "      <td>0</td>\n",
       "      <td>0</td>\n",
       "      <td>0</td>\n",
       "    </tr>\n",
       "    <tr>\n",
       "      <th>1024</th>\n",
       "      <td>Dev Web</td>\n",
       "      <td>LA COMPAGNIE DES ANIMAUX</td>\n",
       "      <td>Lyon</td>\n",
       "      <td>CDI</td>\n",
       "      <td>notfound</td>\n",
       "      <td>Votre cadre de travail\\r\\n\\r\\n35 heures dans d...</td>\n",
       "      <td>2020-04-24 14:00:31.983094</td>\n",
       "      <td>/rc/clk?jk=1c16f07da55aedc8&amp;fccid=ee3ebdd2e5cb...</td>\n",
       "      <td>1</td>\n",
       "      <td>0</td>\n",
       "      <td>0</td>\n",
       "      <td>0</td>\n",
       "      <td>0</td>\n",
       "      <td>0</td>\n",
       "      <td>0</td>\n",
       "      <td>0</td>\n",
       "      <td>0</td>\n",
       "    </tr>\n",
       "  </tbody>\n",
       "</table>\n",
       "<p>2187 rows × 17 columns</p>\n",
       "</div>"
      ],
      "text/plain": [
       "               Title                   Company Location  \\\n",
       "0     Data Scientist          Malakoff Humanis    Paris   \n",
       "1     Data Scientist                Jellysmack    Paris   \n",
       "2          Direction                  Castelis    Paris   \n",
       "3     Data Scientist               BNP Paribas    Paris   \n",
       "4     Data Scientist                  NEOBRAIN    Paris   \n",
       "...              ...                       ...      ...   \n",
       "1018         Dev Web                    Exakis     Lyon   \n",
       "1021    Dev Back end                    Apside     Lyon   \n",
       "1022    Data Analyst             Crédit mutuel     Lyon   \n",
       "1023     developpeur                    AXOPEN     Lyon   \n",
       "1024         Dev Web  LA COMPAGNIE DES ANIMAUX     Lyon   \n",
       "\n",
       "                     TypeContrat    Salary  \\\n",
       "0     Apprentissage, Contrat pro  notfound   \n",
       "1               Temps plein, CDI  notfound   \n",
       "2                       notfound     50000   \n",
       "3             Temps plein, Stage  notfound   \n",
       "4               Temps plein, CDI  notfound   \n",
       "...                          ...       ...   \n",
       "1018                         CDI  notfound   \n",
       "1021                    notfound  notfound   \n",
       "1022                         CDI  notfound   \n",
       "1023            Temps plein, CDI  notfound   \n",
       "1024                         CDI  notfound   \n",
       "\n",
       "                                            Description  \\\n",
       "0     Contrat\\r\\nALTERNANCE\\r\\nFinalité du poste\\r\\n...   \n",
       "1     Nous continuons de recruter et avons adapté no...   \n",
       "2     Présentation de la société Castelis conçoit, d...   \n",
       "3     ASSISTANT DATA SCIENTIST - STAGE 3 MOIS H/F (N...   \n",
       "4     Neobrain développe des solutions digitales int...   \n",
       "...                                                 ...   \n",
       "1018  Exakis Nelite, entité du groupe Magellan Partn...   \n",
       "1021  Et si vous étiez prêt pour un challenge qui so...   \n",
       "1022  Les équipes « Ergonomie et Services Distants »...   \n",
       "1023  Pour toi, Android est le meilleur OS de tous l...   \n",
       "1024  Votre cadre de travail\\r\\n\\r\\n35 heures dans d...   \n",
       "\n",
       "                            Date  \\\n",
       "0     2020-05-21 14:00:21.641431   \n",
       "1     2020-04-30 14:00:21.641431   \n",
       "2     2020-04-25 14:00:21.642431   \n",
       "3     2020-05-25 14:00:21.642431   \n",
       "4     2020-05-25 14:00:21.642431   \n",
       "...                          ...   \n",
       "1018  2020-04-24 14:00:31.982085   \n",
       "1021  2020-04-24 14:00:31.982085   \n",
       "1022  2020-04-24 14:00:31.982085   \n",
       "1023  2020-05-18 14:00:31.983094   \n",
       "1024  2020-04-24 14:00:31.983094   \n",
       "\n",
       "                                                   Link TypeContrat_CDI  \\\n",
       "0     /pagead/clk?mo=r&ad=-6NYlbfkN0BfLf6vlT6l4ABp3X...               0   \n",
       "1     /pagead/clk?mo=r&ad=-6NYlbfkN0B8n3TtewkfrSQLVL...               1   \n",
       "2     /pagead/clk?mo=r&ad=-6NYlbfkN0Bl_GJvjV7T_nyT7Y...               0   \n",
       "3     /rc/clk?jk=dc84057ced14dfad&fccid=1392500f835b...               0   \n",
       "4     /company/NEOBRAIN/jobs/Data-Scientist-dfce81a4...               1   \n",
       "...                                                 ...             ...   \n",
       "1018  /rc/clk?jk=2492975828792445&fccid=74b179ae010f...               1   \n",
       "1021  /rc/clk?jk=5a58da742f83dea9&fccid=c4b1242d6123...               0   \n",
       "1022  /rc/clk?jk=7583f6ab09cd15e3&fccid=064584719361...               1   \n",
       "1023  /company/AXOPEN/jobs/D%C3%A9veloppeur-Android-...               1   \n",
       "1024  /rc/clk?jk=1c16f07da55aedc8&fccid=ee3ebdd2e5cb...               1   \n",
       "\n",
       "     TypeContrat_Temps plein TypeContrat_Apprentissage  \\\n",
       "0                          0                         1   \n",
       "1                          1                         0   \n",
       "2                          0                         0   \n",
       "3                          1                         0   \n",
       "4                          1                         0   \n",
       "...                      ...                       ...   \n",
       "1018                       0                         0   \n",
       "1021                       0                         0   \n",
       "1022                       0                         0   \n",
       "1023                       1                         0   \n",
       "1024                       0                         0   \n",
       "\n",
       "     TypeContrat_Contrat pro TypeContrat_CDD TypeContrat_Intérim  \\\n",
       "0                          1               0                   0   \n",
       "1                          0               0                   0   \n",
       "2                          0               0                   0   \n",
       "3                          0               0                   0   \n",
       "4                          0               0                   0   \n",
       "...                      ...             ...                 ...   \n",
       "1018                       0               0                   0   \n",
       "1021                       0               0                   0   \n",
       "1022                       0               0                   0   \n",
       "1023                       0               0                   0   \n",
       "1024                       0               0                   0   \n",
       "\n",
       "     TypeContrat_Temps partiel TypeContrat_Stage TypeContrat_Indépendant  \n",
       "0                            0                 0                       0  \n",
       "1                            0                 0                       0  \n",
       "2                            0                 0                       0  \n",
       "3                            0                 1                       0  \n",
       "4                            0                 0                       0  \n",
       "...                        ...               ...                     ...  \n",
       "1018                         0                 0                       0  \n",
       "1021                         0                 0                       0  \n",
       "1022                         0                 0                       0  \n",
       "1023                         0                 0                       0  \n",
       "1024                         0                 0                       0  \n",
       "\n",
       "[2187 rows x 17 columns]"
      ]
     },
     "execution_count": 25,
     "metadata": {},
     "output_type": "execute_result"
    }
   ],
   "source": [
    "data = getDFcleanedFulled()\n",
    "data"
   ]
  },
  {
   "cell_type": "code",
   "execution_count": 51,
   "metadata": {},
   "outputs": [
    {
     "data": {
      "text/plain": [
       "Data Analyst              297\n",
       "developpeur               283\n",
       "Dev Web                   258\n",
       "Data Scientist            217\n",
       "Data Engineer             178\n",
       "Ingénieur                 153\n",
       "Machine Learning          117\n",
       "autres                    116\n",
       "Business Intelligence      95\n",
       "Dev Back end               88\n",
       "Consultant                 87\n",
       "Direction                  71\n",
       "Dev Front end              52\n",
       "Data                       46\n",
       "Big Data                   41\n",
       "Manager                    31\n",
       "Experience Utilisateur     21\n",
       "Admin reseau               10\n",
       "Marketing                   8\n",
       "Cyber sécurity              8\n",
       "Bio-Informatique            5\n",
       "Scrum                       3\n",
       "trésorier                   2\n",
       "Name: Title, dtype: int64"
      ]
     },
     "execution_count": 51,
     "metadata": {},
     "output_type": "execute_result"
    }
   ],
   "source": [
    "data['Title'].value_counts()"
   ]
  },
  {
   "cell_type": "markdown",
   "metadata": {},
   "source": [
    "- je recupere l'occurence de chaque mots dans les descriptions, et jen fais un DF "
   ]
  },
  {
   "cell_type": "code",
   "execution_count": 261,
   "metadata": {},
   "outputs": [],
   "source": [
    "vektor = CountVectorizer()\n",
    "Descroccurence = vektor.fit_transform(data['Description'])\n",
    "Descroccurence = pd.DataFrame(Descroccurence.toarray(),columns= vektor.get_feature_names())"
   ]
  },
  {
   "cell_type": "markdown",
   "metadata": {},
   "source": [
    "- J'applique une cluserisation sur ces données afin de tirer du sens de ma features déscription et de la categoriser en 3 groupes "
   ]
  },
  {
   "cell_type": "code",
   "execution_count": 206,
   "metadata": {},
   "outputs": [],
   "source": [
    "res = KMeans(n_clusters=3, random_state=7).fit_predict(Descroccurence)"
   ]
  },
  {
   "cell_type": "code",
   "execution_count": 207,
   "metadata": {},
   "outputs": [
    {
     "data": {
      "text/plain": [
       "2    1316\n",
       "1     642\n",
       "0     229\n",
       "dtype: int64"
      ]
     },
     "execution_count": 207,
     "metadata": {},
     "output_type": "execute_result"
    }
   ],
   "source": [
    "pd.Series(res).value_counts()"
   ]
  },
  {
   "cell_type": "code",
   "execution_count": 268,
   "metadata": {},
   "outputs": [
    {
     "data": {
      "text/plain": [
       "<matplotlib.collections.PathCollection at 0x1764338f908>"
      ]
     },
     "execution_count": 268,
     "metadata": {},
     "output_type": "execute_result"
    },
    {
     "data": {
      "image/png": "[encoded data removed]",
      "text/plain": [
       "<Figure size 432x288 with 1 Axes>"
      ]
     },
     "metadata": {
      "needs_background": "light"
     },
     "output_type": "display_data"
    }
   ],
   "source": [
    "import matplotlib.pyplot as plt \n",
    "plt.scatter(Descroccurence['œuvrer'],Descroccurence[\"œuvrons\"],c=res)"
   ]
  },
  {
   "cell_type": "code",
   "execution_count": 273,
   "metadata": {},
   "outputs": [
    {
     "data": {
      "text/plain": [
       "<matplotlib.collections.PathCollection at 0x17643436e48>"
      ]
     },
     "execution_count": 273,
     "metadata": {},
     "output_type": "execute_result"
    },
    {
     "data": {
      "image/png": "[encoded data removed]",
      "text/plain": [
       "<Figure size 432x288 with 1 Axes>"
      ]
     },
     "metadata": {
      "needs_background": "light"
     },
     "output_type": "display_data"
    }
   ],
   "source": [
    "plt.scatter(Descroccurence.sum(axis=1),range(0,2187),c=res)"
   ]
  },
  {
   "cell_type": "code",
   "execution_count": 276,
   "metadata": {},
   "outputs": [
    {
     "data": {
      "image/png": "[encoded data removed]",
      "text/plain": [
       "<Figure size 1080x1080 with 1 Axes>"
      ]
     },
     "metadata": {
      "needs_background": "light"
     },
     "output_type": "display_data"
    }
   ],
   "source": [
    "from scipy.cluster.hierarchy import dendrogram, linkage, fcluster\n",
    "mat_lien = linkage(Descroccurence, method='ward', metric='euclidean')\n",
    "fig = plt.figure(figsize=(15,15))\n",
    "dendrogram(mat_lien, orientation='top', color_threshold=400)\n",
    "plt.show()"
   ]
  },
  {
   "cell_type": "code",
   "execution_count": 284,
   "metadata": {},
   "outputs": [],
   "source": [
    "cah = fcluster(mat_lien, t = 400, criterion = 'distance')  \n",
    "cah = cah-1\n",
    "cah = pd.Series(cah)"
   ]
  },
  {
   "cell_type": "code",
   "execution_count": 288,
   "metadata": {},
   "outputs": [
    {
     "data": {
      "text/plain": [
       "array([[ 226,    0,    8],\n",
       "       [   1,  545,   35],\n",
       "       [   2,   97, 1273]], dtype=int64)"
      ]
     },
     "execution_count": 288,
     "metadata": {},
     "output_type": "execute_result"
    }
   ],
   "source": [
    "from sklearn.metrics import confusion_matrix\n",
    "cof = confusion_matrix(cah ,res )\n",
    "cof"
   ]
  },
  {
   "cell_type": "markdown",
   "metadata": {},
   "source": [
    "- En Observant ces Techniques de catégorisation, on cherche a démontrer que nous pouvons rendre de ce text une information qui divise les texts en 3 catégories."
   ]
  },
  {
   "cell_type": "code",
   "execution_count": 293,
   "metadata": {},
   "outputs": [],
   "source": [
    "import numpy as np\n",
    "def levenshtein(seq1, seq2):\n",
    "    size_x = len(seq1) + 1\n",
    "    size_y = len(seq2) + 1\n",
    "    matrix = np.zeros ((size_x, size_y))\n",
    "    for x in range(size_x):\n",
    "        matrix [x, 0] = x\n",
    "    for y in range(size_y):\n",
    "        matrix [0, y] = y\n",
    "\n",
    "    for x in range(1, size_x):\n",
    "        for y in range(1, size_y):\n",
    "            if seq1[x-1] == seq2[y-1]:\n",
    "                matrix [x,y] = min(\n",
    "                    matrix[x-1, y] + 1,\n",
    "                    matrix[x-1, y-1],\n",
    "                    matrix[x, y-1] + 1\n",
    "                )\n",
    "            else:\n",
    "                matrix [x,y] = min(\n",
    "                    matrix[x-1,y] + 1,\n",
    "                    matrix[x-1,y-1] + 1,\n",
    "                    matrix[x,y-1] + 1\n",
    "                )\n",
    "    print (matrix)\n",
    "    return (matrix[size_x - 1, size_y - 1])"
   ]
  },
  {
   "cell_type": "code",
   "execution_count": 302,
   "metadata": {},
   "outputs": [
    {
     "name": "stdout",
     "output_type": "stream",
     "text": [
      "[[0. 1. 2. 3. 4. 5. 6.]\n",
      " [1. 0. 1. 2. 3. 4. 5.]\n",
      " [2. 1. 0. 1. 2. 3. 4.]\n",
      " [3. 2. 1. 0. 1. 2. 3.]\n",
      " [4. 3. 2. 1. 0. 1. 2.]\n",
      " [5. 4. 3. 2. 1. 1. 2.]]\n"
     ]
    },
    {
     "data": {
      "text/plain": [
       "2.0"
      ]
     },
     "execution_count": 302,
     "metadata": {},
     "output_type": "execute_result"
    }
   ],
   "source": [
    "levenshtein(\"donné\",\"donner\")"
   ]
  },
  {
   "cell_type": "markdown",
   "metadata": {},
   "source": [
    "-ITERER SUR LES NOMS DE COLLONE AVEC UN LEVENSTEIN > 3 POUR LES RECUPERER TOUTES EN 1 WALLILA"
   ]
  },
  {
   "cell_type": "code",
   "execution_count": null,
   "metadata": {},
   "outputs": [],
   "source": []
  }
 ],
 "metadata": {
  "kernelspec": {
   "display_name": "Python 3",
   "language": "python",
   "name": "python3"
  },
  "language_info": {
   "codemirror_mode": {
    "name": "ipython",
    "version": 3
   },
   "file_extension": ".py",
   "mimetype": "text/x-python",
   "name": "python",
   "nbconvert_exporter": "python",
   "pygments_lexer": "ipython3",
   "version": "3.7.4"
  }
 },
 "nbformat": 4,
 "nbformat_minor": 2
}
