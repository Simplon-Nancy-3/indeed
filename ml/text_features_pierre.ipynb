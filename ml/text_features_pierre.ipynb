{
 "cells": [
  {
   "cell_type": "markdown",
   "metadata": {},
   "source": [
    "# Imports "
   ]
  },
  {
   "cell_type": "code",
   "execution_count": 1,
   "metadata": {},
   "outputs": [],
   "source": [
    "import numpy as np\n",
    "import pandas as pd\n",
    "\n",
    "import matplotlib.pyplot as plt\n",
    "import seaborn as sns\n",
    "sns.set_style('darkgrid', {'legend.frameon':True})\n",
    "\n",
    "from sklearn.feature_extraction.text import CountVectorizer\n",
    "from sklearn.model_selection import train_test_split\n",
    "from sklearn.ensemble import RandomForestRegressor\n",
    "\n",
    "import sys, os\n",
    "sys.path.append(os.path.abspath(os.path.join('..', 'processing')))\n",
    "from processing import indeed_txt_pl"
   ]
  },
  {
   "cell_type": "markdown",
   "metadata": {},
   "source": [
    "# Loads"
   ]
  },
  {
   "cell_type": "code",
   "execution_count": 2,
   "metadata": {},
   "outputs": [
    {
     "name": "stdout",
     "output_type": "stream",
     "text": [
      "[Pipeline]  (step 1 of 2) Processing salary_transformer, total=   0.0s\n",
      "[Pipeline] .. (step 2 of 2) Processing feature_selector, total=   0.0s\n",
      "<class 'pandas.core.frame.DataFrame'>\n",
      "Int64Index: 469 entries, 5 to 2999\n",
      "Data columns (total 4 columns):\n",
      " #   Column       Non-Null Count  Dtype  \n",
      "---  ------       --------------  -----  \n",
      " 0   salary_mean  469 non-null    float64\n",
      " 1   title        469 non-null    object \n",
      " 2   summary      469 non-null    object \n",
      " 3   desc         469 non-null    object \n",
      "dtypes: float64(1), object(3)\n",
      "memory usage: 18.3+ KB\n"
     ]
    },
    {
     "data": {
      "text/html": [
       "<div>\n",
       "<style scoped>\n",
       "    .dataframe tbody tr th:only-of-type {\n",
       "        vertical-align: middle;\n",
       "    }\n",
       "\n",
       "    .dataframe tbody tr th {\n",
       "        vertical-align: top;\n",
       "    }\n",
       "\n",
       "    .dataframe thead th {\n",
       "        text-align: right;\n",
       "    }\n",
       "</style>\n",
       "<table border=\"1\" class=\"dataframe\">\n",
       "  <thead>\n",
       "    <tr style=\"text-align: right;\">\n",
       "      <th></th>\n",
       "      <th>salary_mean</th>\n",
       "      <th>title</th>\n",
       "      <th>summary</th>\n",
       "      <th>desc</th>\n",
       "    </tr>\n",
       "  </thead>\n",
       "  <tbody>\n",
       "    <tr>\n",
       "      <th>5</th>\n",
       "      <td>3371.5</td>\n",
       "      <td>Data Scientist (H/F)</td>\n",
       "      <td>Pour renforcer nos pôles DataScience &amp; Analyti...</td>\n",
       "      <td>Pour renforcer nos pôles DataScience &amp; Analyti...</td>\n",
       "    </tr>\n",
       "    <tr>\n",
       "      <th>9</th>\n",
       "      <td>4000.0</td>\n",
       "      <td>Docteur.e Data scientist – OCR et Système Déci...</td>\n",
       "      <td>Contribution à la mise en place de processus o...</td>\n",
       "      <td>Description du poste\\r\\n\\r\\nUNIVERS OBSERVABLE...</td>\n",
       "    </tr>\n",
       "    <tr>\n",
       "      <th>16</th>\n",
       "      <td>5000.0</td>\n",
       "      <td>Data Scientist Senior Editeur d’applications m...</td>\n",
       "      <td>Entrez au cur d’un éditeur spécialisé dans le...</td>\n",
       "      <td>Contexte du Poste :\\r\\nEntrez au cur d’un édi...</td>\n",
       "    </tr>\n",
       "    <tr>\n",
       "      <th>17</th>\n",
       "      <td>5000.0</td>\n",
       "      <td>Data scientist / machine learning engineer (H/...</td>\n",
       "      <td>Descriptif de la mission (au sein d'une équipe...</td>\n",
       "      <td>Descriptif de la mission (au sein d'une équipe...</td>\n",
       "    </tr>\n",
       "    <tr>\n",
       "      <th>18</th>\n",
       "      <td>5000.0</td>\n",
       "      <td>Data Scientist H/F</td>\n",
       "      <td>A la recherche d’une nouvelle opportunité prof...</td>\n",
       "      <td>A la recherche d’une nouvelle opportunité prof...</td>\n",
       "    </tr>\n",
       "  </tbody>\n",
       "</table>\n",
       "</div>"
      ],
      "text/plain": [
       "    salary_mean                                              title  \\\n",
       "5        3371.5                               Data Scientist (H/F)   \n",
       "9        4000.0  Docteur.e Data scientist – OCR et Système Déci...   \n",
       "16       5000.0  Data Scientist Senior Editeur d’applications m...   \n",
       "17       5000.0  Data scientist / machine learning engineer (H/...   \n",
       "18       5000.0                                 Data Scientist H/F   \n",
       "\n",
       "                                              summary  \\\n",
       "5   Pour renforcer nos pôles DataScience & Analyti...   \n",
       "9   Contribution à la mise en place de processus o...   \n",
       "16  Entrez au cur d’un éditeur spécialisé dans le...   \n",
       "17  Descriptif de la mission (au sein d'une équipe...   \n",
       "18  A la recherche d’une nouvelle opportunité prof...   \n",
       "\n",
       "                                                 desc  \n",
       "5   Pour renforcer nos pôles DataScience & Analyti...  \n",
       "9   Description du poste\\r\\n\\r\\nUNIVERS OBSERVABLE...  \n",
       "16  Contexte du Poste :\\r\\nEntrez au cur d’un édi...  \n",
       "17  Descriptif de la mission (au sein d'une équipe...  \n",
       "18  A la recherche d’une nouvelle opportunité prof...  "
      ]
     },
     "execution_count": 2,
     "metadata": {},
     "output_type": "execute_result"
    }
   ],
   "source": [
    "df = indeed_txt_pl.fit_transform(pd.read_csv('../csv/jobs_it.csv')).dropna()\n",
    "df.info()\n",
    "df.head()"
   ]
  },
  {
   "cell_type": "code",
   "execution_count": null,
   "metadata": {},
   "outputs": [],
   "source": []
  },
  {
   "cell_type": "markdown",
   "metadata": {},
   "source": [
    "# Plot salary"
   ]
  },
  {
   "cell_type": "code",
   "execution_count": 24,
   "metadata": {},
   "outputs": [
    {
     "data": {
      "text/plain": [
       "[<matplotlib.lines.Line2D at 0x1d42f327288>]"
      ]
     },
     "execution_count": 24,
     "metadata": {},
     "output_type": "execute_result"
    },
    {
     "data": {
      "image/png": "[encoded data removed]",
      "text/plain": [
       "<Figure size 432x288 with 1 Axes>"
      ]
     },
     "metadata": {},
     "output_type": "display_data"
    }
   ],
   "source": [
    "plt.plot(np.arange(len(df)), df['salary_min'].sort_values(axis=0))"
   ]
  },
  {
   "cell_type": "code",
   "execution_count": 51,
   "metadata": {},
   "outputs": [],
   "source": [
    "feature_name = 'title'"
   ]
  },
  {
   "cell_type": "markdown",
   "metadata": {},
   "source": [
    "# CountVectorize"
   ]
  },
  {
   "cell_type": "code",
   "execution_count": 52,
   "metadata": {},
   "outputs": [],
   "source": [
    "X = CountVectorizer(ngram_range=(2,2)).fit_transform(df[feature_name]).toarray()\n",
    "y = df['salary_mean']\n",
    "X_train, X_test, y_train, y_test = train_test_split(X, y, test_size=.3, random_state=0)"
   ]
  },
  {
   "cell_type": "code",
   "execution_count": 53,
   "metadata": {},
   "outputs": [],
   "source": [
    "model = RandomForestRegressor(random_state=0).fit(X_train, y_train)"
   ]
  },
  {
   "cell_type": "code",
   "execution_count": 54,
   "metadata": {},
   "outputs": [
    {
     "data": {
      "text/plain": [
       "0.1893908967597866"
      ]
     },
     "execution_count": 54,
     "metadata": {},
     "output_type": "execute_result"
    }
   ],
   "source": [
    "model.score(X_test, y_test)"
   ]
  },
  {
   "cell_type": "markdown",
   "metadata": {},
   "source": [
    "# With Stop Words"
   ]
  },
  {
   "cell_type": "code",
   "execution_count": 41,
   "metadata": {},
   "outputs": [],
   "source": [
    "stop_words = list(pd.read_csv('stop_words.csv', header=None)[0])"
   ]
  },
  {
   "cell_type": "code",
   "execution_count": 42,
   "metadata": {},
   "outputs": [
    {
     "name": "stderr",
     "output_type": "stream",
     "text": [
      "C:\\Users\\Utilisateur\\Anaconda3\\lib\\site-packages\\sklearn\\feature_extraction\\text.py:385: UserWarning: Your stop_words may be inconsistent with your preprocessing. Tokenizing the stop words generated tokens ['je', 'juste', 'soyez', 'sujet'] not in stop_words.\n",
      "  'stop_words.' % sorted(inconsistent))\n"
     ]
    }
   ],
   "source": [
    "X = CountVectorizer(stop_words=list(stop_words)).fit_transform(df[feature_name]).toarray()\n",
    "y = df['salary_mean']\n",
    "X_train, X_test, y_train, y_test = train_test_split(X, y, test_size=.3, random_state=0)"
   ]
  },
  {
   "cell_type": "code",
   "execution_count": 43,
   "metadata": {},
   "outputs": [],
   "source": [
    "model = RandomForestRegressor(random_state=0).fit(X_train, y_train)"
   ]
  },
  {
   "cell_type": "code",
   "execution_count": 44,
   "metadata": {},
   "outputs": [
    {
     "data": {
      "text/plain": [
       "0.31280493736071546"
      ]
     },
     "execution_count": 44,
     "metadata": {},
     "output_type": "execute_result"
    }
   ],
   "source": [
    "model.score(X_test, y_test)"
   ]
  },
  {
   "cell_type": "code",
   "execution_count": null,
   "metadata": {},
   "outputs": [],
   "source": []
  },
  {
   "cell_type": "code",
   "execution_count": null,
   "metadata": {},
   "outputs": [],
   "source": []
  }
 ],
 "metadata": {
  "kernelspec": {
   "display_name": "Python 3",
   "language": "python",
   "name": "python3"
  },
  "language_info": {
   "codemirror_mode": {
    "name": "ipython",
    "version": 3
   },
   "file_extension": ".py",
   "mimetype": "text/x-python",
   "name": "python",
   "nbconvert_exporter": "python",
   "pygments_lexer": "ipython3",
   "version": "3.7.7"
  }
 },
 "nbformat": 4,
 "nbformat_minor": 4
}
