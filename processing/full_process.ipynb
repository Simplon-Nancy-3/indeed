{
 "cells": [
  {
   "cell_type": "code",
   "execution_count": 5,
   "metadata": {},
   "outputs": [],
   "source": [
    "import pandas as pd\n",
    "from processing import indeed_pl\n",
    "from sklearn.preprocessing import FunctionTransformer\n",
    "import numpy as np\n",
    "import re"
   ]
  },
  {
   "cell_type": "code",
   "execution_count": 18,
   "metadata": {},
   "outputs": [
    {
     "name": "stdout",
     "output_type": "stream",
     "text": [
      "[Pipeline]  (step 1 of 8) Processing salary_transformer, total=   0.0s\n",
      "[Pipeline] .. (step 2 of 8) Processing date_transformer, total=   0.0s\n",
      "[Pipeline] .. (step 3 of 8) Processing query_transfomer, total=   0.0s\n",
      "[Pipeline]  (step 4 of 8) Processing contract_transformer, total=   0.0s\n",
      "[Pipeline]  (step 5 of 8) Processing rating_mean_transformer, total=   0.0s\n",
      "[Pipeline]  (step 6 of 8) Processing rating_count_transformer, total=   0.0s\n",
      "[Pipeline]  (step 7 of 8) Processing location_transformer, total=   0.0s\n",
      "[Pipeline]  (step 8 of 8) Processing sponso_transformer, total=   0.0s\n",
      "[Pipeline]  (step 1 of 8) Processing salary_transformer, total=   0.0s\n",
      "[Pipeline] .. (step 2 of 8) Processing date_transformer, total=   0.0s\n",
      "[Pipeline] .. (step 3 of 8) Processing query_transfomer, total=   0.0s\n",
      "[Pipeline]  (step 4 of 8) Processing contract_transformer, total=   0.0s\n",
      "[Pipeline]  (step 5 of 8) Processing rating_mean_transformer, total=   0.0s\n",
      "[Pipeline]  (step 6 of 8) Processing rating_count_transformer, total=   0.0s\n",
      "[Pipeline]  (step 7 of 8) Processing location_transformer, total=   0.0s\n",
      "[Pipeline]  (step 8 of 8) Processing sponso_transformer, total=   0.0s\n",
      "[Pipeline]  (step 1 of 8) Processing salary_transformer, total=   0.0s\n",
      "[Pipeline] .. (step 2 of 8) Processing date_transformer, total=   0.0s\n",
      "[Pipeline] .. (step 3 of 8) Processing query_transfomer, total=   0.0s\n",
      "[Pipeline]  (step 4 of 8) Processing contract_transformer, total=   0.0s\n",
      "[Pipeline]  (step 5 of 8) Processing rating_mean_transformer, total=   0.0s\n",
      "[Pipeline]  (step 6 of 8) Processing rating_count_transformer, total=   0.0s\n",
      "[Pipeline]  (step 7 of 8) Processing location_transformer, total=   0.0s\n",
      "[Pipeline]  (step 8 of 8) Processing sponso_transformer, total=   0.0s\n",
      "[Pipeline]  (step 1 of 8) Processing salary_transformer, total=   0.0s\n",
      "[Pipeline] .. (step 2 of 8) Processing date_transformer, total=   0.0s\n",
      "[Pipeline] .. (step 3 of 8) Processing query_transfomer, total=   0.0s\n",
      "[Pipeline]  (step 4 of 8) Processing contract_transformer, total=   0.0s\n",
      "[Pipeline]  (step 5 of 8) Processing rating_mean_transformer, total=   0.0s\n",
      "[Pipeline]  (step 6 of 8) Processing rating_count_transformer, total=   0.0s\n",
      "[Pipeline]  (step 7 of 8) Processing location_transformer, total=   0.0s\n",
      "[Pipeline]  (step 8 of 8) Processing sponso_transformer, total=   0.0s\n"
     ]
    }
   ],
   "source": [
    "def make_csv(path, name):\n",
    "    indeed_pl.fit_transform(pd.read_csv('{}{}.csv'.format(path, name))).to_csv('{}{}_process.csv'.format(path, name), index=False, encoding='utf-8')\n",
    "make_csv('../csv/', 'jobs_it')\n",
    "make_csv('../csv/', 'jobs_ing')\n",
    "make_csv('../csv/', 'jobs_rh')\n",
    "make_csv('../csv/', 'jobs_com')"
   ]
  },
  {
   "cell_type": "code",
   "execution_count": null,
   "metadata": {},
   "outputs": [],
   "source": []
  }
 ],
 "metadata": {
  "kernelspec": {
   "display_name": "Python 3",
   "language": "python",
   "name": "python3"
  },
  "language_info": {
   "codemirror_mode": {
    "name": "ipython",
    "version": 3
   },
   "file_extension": ".py",
   "mimetype": "text/x-python",
   "name": "python",
   "nbconvert_exporter": "python",
   "pygments_lexer": "ipython3",
   "version": "3.7.7"
  }
 },
 "nbformat": 4,
 "nbformat_minor": 4
}
