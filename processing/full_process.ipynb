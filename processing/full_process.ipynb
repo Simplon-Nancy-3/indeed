{
 "cells": [
  {
   "cell_type": "code",
   "execution_count": 4,
   "metadata": {},
   "outputs": [],
   "source": [
    "import pandas as pd\n",
    "from processing import indeed_pl, ml_pl_0\n",
    "from sklearn.preprocessing import FunctionTransformer\n",
    "import numpy as np\n",
    "import re"
   ]
  },
  {
   "cell_type": "code",
   "execution_count": 5,
   "metadata": {},
   "outputs": [],
   "source": [
    "def make_csv(pl, path, name, suffix='process'):\n",
    "    pl.fit_transform(pd.read_csv('{}{}.csv'.format(path, name))).to_csv('{}{}_{}.csv'.format(path, name, suffix), index=False, encoding='utf-8')"
   ]
  },
  {
   "cell_type": "code",
   "execution_count": 6,
   "metadata": {},
   "outputs": [
    {
     "name": "stdout",
     "output_type": "stream",
     "text": [
      "[Pipeline]  (step 1 of 9) Processing salary_transformer, total=   0.0s\n",
      "[Pipeline] .. (step 2 of 9) Processing date_transformer, total=   0.0s\n",
      "[Pipeline] .. (step 3 of 9) Processing query_transfomer, total=   0.0s\n",
      "[Pipeline]  (step 4 of 9) Processing contract_transformer, total=   0.0s\n",
      "[Pipeline]  (step 5 of 9) Processing rating_mean_transformer, total=   0.0s\n",
      "[Pipeline]  (step 6 of 9) Processing rating_count_transformer, total=   0.0s\n",
      "[Pipeline]  (step 7 of 9) Processing location_transformer, total=   0.0s\n",
      "[Pipeline]  (step 8 of 9) Processing sponso_transformer, total=   0.0s\n",
      "[Pipeline] ..... (step 9 of 9) Processing salary_bander, total=   0.0s\n",
      "[Pipeline]  (step 1 of 9) Processing salary_transformer, total=   0.0s\n",
      "[Pipeline] .. (step 2 of 9) Processing date_transformer, total=   0.0s\n",
      "[Pipeline] .. (step 3 of 9) Processing query_transfomer, total=   0.0s\n",
      "[Pipeline]  (step 4 of 9) Processing contract_transformer, total=   0.0s\n",
      "[Pipeline]  (step 5 of 9) Processing rating_mean_transformer, total=   0.0s\n",
      "[Pipeline]  (step 6 of 9) Processing rating_count_transformer, total=   0.0s\n",
      "[Pipeline]  (step 7 of 9) Processing location_transformer, total=   0.0s\n",
      "[Pipeline]  (step 8 of 9) Processing sponso_transformer, total=   0.0s\n",
      "[Pipeline] ..... (step 9 of 9) Processing salary_bander, total=   0.0s\n",
      "[Pipeline]  (step 1 of 9) Processing salary_transformer, total=   0.0s\n",
      "[Pipeline] .. (step 2 of 9) Processing date_transformer, total=   0.0s\n",
      "[Pipeline] .. (step 3 of 9) Processing query_transfomer, total=   0.0s\n",
      "[Pipeline]  (step 4 of 9) Processing contract_transformer, total=   0.0s\n",
      "[Pipeline]  (step 5 of 9) Processing rating_mean_transformer, total=   0.0s\n",
      "[Pipeline]  (step 6 of 9) Processing rating_count_transformer, total=   0.0s\n",
      "[Pipeline]  (step 7 of 9) Processing location_transformer, total=   0.0s\n",
      "[Pipeline]  (step 8 of 9) Processing sponso_transformer, total=   0.0s\n",
      "[Pipeline] ..... (step 9 of 9) Processing salary_bander, total=   0.0s\n",
      "[Pipeline]  (step 1 of 9) Processing salary_transformer, total=   0.0s\n",
      "[Pipeline] .. (step 2 of 9) Processing date_transformer, total=   0.0s\n",
      "[Pipeline] .. (step 3 of 9) Processing query_transfomer, total=   0.0s\n",
      "[Pipeline]  (step 4 of 9) Processing contract_transformer, total=   0.0s\n",
      "[Pipeline]  (step 5 of 9) Processing rating_mean_transformer, total=   0.0s\n",
      "[Pipeline]  (step 6 of 9) Processing rating_count_transformer, total=   0.0s\n",
      "[Pipeline]  (step 7 of 9) Processing location_transformer, total=   0.0s\n",
      "[Pipeline]  (step 8 of 9) Processing sponso_transformer, total=   0.0s\n",
      "[Pipeline] ..... (step 9 of 9) Processing salary_bander, total=   0.0s\n"
     ]
    }
   ],
   "source": [
    "make_csv(indeed_pl, '../csv/', 'jobs_it')\n",
    "make_csv(indeed_pl, '../csv/', 'jobs_ing')\n",
    "make_csv(indeed_pl, '../csv/', 'jobs_rh')\n",
    "make_csv(indeed_pl, '../csv/', 'jobs_com')"
   ]
  },
  {
   "cell_type": "code",
   "execution_count": 7,
   "metadata": {},
   "outputs": [
    {
     "name": "stdout",
     "output_type": "stream",
     "text": [
      "[Pipeline]  (step 1 of 7) Processing salary_transformer, total=   0.0s\n",
      "[Pipeline] ..... (step 2 of 7) Processing salary_bander, total=   0.0s\n",
      "[Pipeline]  (step 3 of 7) Processing location_transformer, total=   0.0s\n",
      "[Pipeline] .. (step 4 of 7) Processing feature_selector, total=   0.0s\n",
      "[Pipeline] .. (step 5 of 7) Processing query_transfomer, total=   0.0s\n",
      "[Pipeline]  (step 6 of 7) Processing contract_transformer, total=   0.0s\n",
      "[Pipeline] .. (step 7 of 7) Processing title_vectorizer, total=   0.2s\n"
     ]
    }
   ],
   "source": [
    "make_csv(ml_pl_0, '../csv/', 'jobs_it', suffix='ml')"
   ]
  },
  {
   "cell_type": "code",
   "execution_count": 13,
   "metadata": {},
   "outputs": [],
   "source": [
    "# Ya encore les na dans dep mais je vais reglé en attendant on drop vu que c'est pas grands choses\n",
    "df = pd.read_csv('../csv/jobs_it_ml.csv')\n",
    "df = df.dropna()\n",
    "\n",
    "X = df.drop(['salary_mean', 'salary_band'], axis = 1)\n",
    "# Regression\n",
    "y = df['salary_mean']\n",
    "# Classification\n",
    "y = df['salary_band']"
   ]
  },
  {
   "cell_type": "code",
   "execution_count": null,
   "metadata": {},
   "outputs": [],
   "source": []
  },
  {
   "cell_type": "code",
   "execution_count": null,
   "metadata": {},
   "outputs": [],
   "source": []
  }
 ],
 "metadata": {
  "kernelspec": {
   "display_name": "Python 3",
   "language": "python",
   "name": "python3"
  },
  "language_info": {
   "codemirror_mode": {
    "name": "ipython",
    "version": 3
   },
   "file_extension": ".py",
   "mimetype": "text/x-python",
   "name": "python",
   "nbconvert_exporter": "python",
   "pygments_lexer": "ipython3",
   "version": "3.7.7"
  }
 },
 "nbformat": 4,
 "nbformat_minor": 4
}
